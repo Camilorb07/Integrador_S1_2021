{
 "cells": [
  {
   "cell_type": "markdown",
   "metadata": {},
   "source": [
    "<a><img src=\"https://raw.githubusercontent.com/Camilorb07/Integrador_S1_2021/main/Imagenes/Logo_EAFIT.png\" width=\"350\" align=\"center\"></a>"
   ]
  },
  {
   "cell_type": "markdown",
   "metadata": {},
   "source": [
    "# Proyecto Integrador Primer Semestre\n",
    "\n",
    "<hr style=\"border:2px solid #004B85\"> </hr>\n",
    "\n",
    "\n",
    "## Representación gráfica georreferenciada de la clasificación de la calidad de planteles educativos con análisis de correlación con planteles vecinos categorizada por variables sociales, económicas y demográficas\n",
    "\n",
    "<a><img src=\"https://raw.githubusercontent.com/Camilorb07/Integrador_S1_2021/main/Imagenes/Logo_Calidad_Educativa.png\" width=\"150\" align=\"center\"></a>\n",
    "\n",
    "<hr style=\"border:2px solid #004B85\"> </hr>\n",
    "\n",
    "# Maestría en ciencia de los datos y analítica\n",
    "## 16/06/2021\n",
    "## Equipo de desarrollo\n",
    "\n",
    "- #### Camilo Rivera Bedoya\n",
    "- #### Juan David Corea\n",
    "- #### Jose Ignacio Escobar\n",
    "- #### Eliana Marcela Sierra\n",
    "- #### Daniel Romero Cardona\n",
    "\n",
    "<hr style=\"border:2px solid #004B85\"> </hr>\n",
    "\n",
    "# ¡¡¡Advertencia!!!\n",
    "\n",
    "- este notebook fue desarrollado en Jupyter notebooks, el abrirlo con otros aplicativos como google colab u otros puede afectar el funconamiento del codigo o los markdowns."
   ]
  },
  {
   "cell_type": "markdown",
   "metadata": {},
   "source": [
    "<hr style=\"border:2px solid #004B85\"> </hr>\n",
    "<a name=\"conte\"></a>\n",
    "    \n",
    "# Tabla de contenido\n",
    "1. [Introduccion](#intro)\n",
    "2. [Etapa 1: Recolección de la información](#e1)\n",
    "3. [Etapa 2: Implementación del DataLake](#e2)\n",
    "    1. [Crear bucket](#e2_bucket)\n",
    "    2. [Creacion de Zonas (Carpetas)](#e2_zonas)\n",
    "    3. [Cargar archivos](#e2_load)\n",
    "4. [Etapa 3: Estructuración y preparación de los datos](#e3)\n",
    "5. [Etapa 4: Análisis exploratorio de los datos](#e4)\n",
    "    1. [Librerias](#e4_librerias)\n",
    "    2. [Funciones](#e4_funciones)\n",
    "    3. [Lectura Base de Datos - AWS](#e4_lect_aws)\n",
    "    4. [Lectura Base de Datos - Local](#e4_lect_local)\n",
    "        1. [Sedes](#e4_sedes)\n",
    "        2. [Clasificacion Planteles](#e4_planteles)\n",
    "        3. [Puntaje estudiantes por Plantel](#e4_estudiantes)\n",
    "        4. [Unificar Base de Datos](#e4_unificar)\n",
    "        5. [Limpieza Base de datos](#e4_limpiar)\n",
    "    5. [Exploracion Bases de Datos](#e4_explo)\n",
    "        1. [Variables Numéricas](#e4_numericas)\n",
    "            1. [INDICE_MATEMATICAS](#e4_math)\n",
    "            2. [INDICE_C_NATURALES](#e4_cnat)\n",
    "            3. [INDICE_SOCIALES_CIUDADANAS](#e4_sociales)\n",
    "            4. [INDICE_LECTURA_CRITICA](#e4_lectura)\n",
    "            5. [INDICE_INGLES](#e4_ingles)\n",
    "            6. [INDICE_TOTAL](#e4_total)\n",
    "            7. [EVALUADOS_ULTIMOS_3](#e4_evaluados)\n",
    "            8. [Correlaciones](#e4_corre)\n",
    "        2. [Variables Categoricas](#e4_categoricas)\n",
    "            1. [COLE_CALENDARIO_COLEGIO](#e4_calendario)\n",
    "            2. [COLE_GENEROPOBLACION](#e4_genero)\n",
    "            3. [COLE_NATURALEZA](#e4_naturaleza)\n",
    "            4. [COLE_CATEGORIA](#e4_catetgoria)\n",
    "            5. [ZONA](#e4_zona)\n",
    "            6. [MODE_ESTRATOVIVIENDA](#e4_estrato)\n",
    "            7. [MODE_EDU_MADRE](#e4_madre)\n",
    "            8. [MODE_EDU_PADRE](#e4_padre)\n",
    "            9. [IND_BILINGUE](#e4_bilingue)\n",
    "            10. [CARACTER_IE](#e4_caracter)\n",
    "6. [Etapa 5: Modelamiento del sistema de recomendación](#e5)\n",
    "    1. [Selección de Parámetros](#e5_parametros)\n",
    "    2. [k-means](#e5_kmeans)\n",
    "        1. [Modelo - Métodos de selección de k](#e5_metodos)\n",
    "        2. [Selección de k](#e5_kmsel)\n",
    "        3. [Evaluación de Resultados](#e5_kmeval)\n",
    "            1. [COLE_GENEROPOBLACION](#e5_genero)\n",
    "            2. [MODE_ESTRATOVIVIENDA](#e5_estrato)\n",
    "            3. [CARACTER_IE](#e5_caracter)\n",
    "        4. [Prueba Clasificacion](#e5_prueba)\n",
    "        5. [Centroides](#e5_centroides)\n",
    "    3.[k-modes](#e5_kmodes)\n",
    "        1. [Modelo - Métodos de selección de k](#e5_metodos2)\n",
    "        2. [Selección de k](#e5_kmsel2)\n",
    "        3. [Evaluación de Resultados](#e5_kmeval2)\n",
    "            1. [COLE_GENEROPOBLACION](#e5_genero2)\n",
    "            2. [MODE_ESTRATOVIVIENDA](#e5_estrato2)\n",
    "            3. [CARACTER_IE](#e5_caracter2)\n",
    "        4. [Prueba Clasificacion](#e5_prueba2)\n",
    "        5. [Centroides](#e5_centroides2)\n",
    "7. [Etapa 6: Implementación de la interfaz de usuario (FrontEnd)](#e6)\n",
    "    1. [Barra de Navegacion](#e6_barra)\n",
    "    2. [Presentación](#e6_presentacion)\n",
    "    3. [Equipo de Trabajo](#e6_equipo)\n",
    "    4. [Análisis Exploratorio](#e6_analisis)\n",
    "    5. [Sistema de Recomendación](#e6_sistema)\n",
    "        1. [Recomendadas por Cercanía](#e6_cercania)\n",
    "        2. [Recomendadas por Caracteristicas](#e6_caracteristicas)\n",
    "        3. [Mapa](#e6_mapa)\n",
    "        4. [Ranking de planteles](#e6_ranking)\n",
    "        5. [Calificación de los planteles en cada linea de profundización](#e6_linea)\n",
    "8. [Repositorio](#repo)\n",
    "        \n",
    "<hr style=\"border:2px solid #004B85\"> </hr>"
   ]
  },
  {
   "cell_type": "markdown",
   "metadata": {},
   "source": [
    "<a name=\"intro\"></a><hr style=\"border:1px solid green\"> </hr>\n",
    "# 1. [&#9673;](#conte) Introduccion\n",
    "<hr style=\"border:1px solid green\"> </hr>"
   ]
  },
  {
   "cell_type": "markdown",
   "metadata": {},
   "source": [
    "El presente proyecto busca determinar cuál plantel educativo posee mayor calidad partiendo de condiciones de entrada definidas y ubicado en una zona particular y su correlación con planteles cercanos bajo las mismas condiciones, además, de obtener una recomendación de los planteles en un rango de distancia definido que cumplan condiciones de clusterización partiendo de las variables seleccionadas.\n",
    "\n",
    "## Problema a resolver\n",
    "- ¿Cuál institución educativa presenta mejor calidad partiendo de una ubicación especifica del municipio teniendo en cuenta características sociales, económicas y demográficas?\n",
    "- ¿Cuál institución educativa presenta mejor calidad en el mismo municipio tomando características sociales y económicas?\n",
    "\n",
    "## Solución propuesta\n",
    "<a><img src=\"https://raw.githubusercontent.com/Camilorb07/Integrador_S1_2021/main/Imagenes/solucion.png\" width=\"250\" align=\"center\"></a>\n",
    "\n",
    "El analisis se basará en variables que representan criterios reales, como la distancia espacial de un lugar específico respecto a las instituciones, su el rendimiento académico, el estrato socioeconómico entre otras variables propias de cada institución\n",
    "\n",
    "La solución al problema se realizará de forma gráfica, y busca determinar un cerco de instituciones alrededor de la ubicación ingresada, que para casos prácticos puede ser la vivienda de estudiante donde se pueda filtrar por aquellas instituciones cercanas a las cuales pueda acceder.\n",
    "\n",
    "Para dar solución a este propósito, nos apoyaremos en modelos de segmentación para poder encontrar clúster de instituciones educativas de acuerdo con características propias, el cálculo de distancias desde la georreferenciación, la creación de métricas ponderadas de criterios a la hora de determinar los cercos, análisis descriptivo-exploratorio para determinar correlaciones o relevancia de variables dentro del análisis.\n",
    "\n",
    "## Metodología para la implementación\n",
    "El proyecto se realizará en 6 etapas, mediante un sistema de recomendación desarrollado en Python con la base de datos de los resultados de las pruebas saber 11.\n",
    "\n",
    "**Etapa 1: Recolección de la información**\n",
    "\n",
    "Para esta etapa se debe descargar las diferentes bases de datos que serán utilizadas en el análisis. La caracterización de las instituciones, su georreferenciación y variaciones descriptivas adicionales. Al ser datos abiertos y disponibles al pública se hará de forma manual y se cargaran al repositorio de almacenamiento seleccionado.\n",
    "\n",
    "**Etapa 2: Implementación del DataLake**\n",
    "\n",
    "Dado el volumen de información y la necesidad de pre-procesar la información, se decide utilizar el Datalake de AWS (S3). Posterior a la ingesta, se procede a hacer un proceso de ETL vía GLUE que nos permita tener la información alojada en tablas en base datos para facilitar el proceso de consolidación de información.\n",
    "\n",
    "**Etapa 3: Estructuración y preparación de los datos**\n",
    "\n",
    "En dicha etapa se espera hacer un proceso de limpieza, consolidación y validación de la base de datos a utilizar con el fin de tener un único dataset unificado a nivel de institución educativo con todas las variables disponibles para posterior revisión de significancia y pertinencia. Para tal fin, el componente de Athena de AWS se vuelve el más indicado.\n",
    "\n",
    "**Etapa 4: Análisis exploratorio de los datos**\n",
    "\n",
    "En la etapa de exploración se busca hacer un análisis estadístico descriptivo de todas las variables disponibles de instituciones disponibles, desde un enfoque univariado (completitud, tendencia central, significancia, distribución) y multivariado (Correlación total y parcial, variabilidad, explicabilidad) que permita determinar cuáles serán las variables indicadas para proceder a la etapa de modelación e industrialización. Adicionalmente, en esta etapa también se incluye la creación de métricas.\n",
    "\n",
    "**Etapa 5: Modelamiento del sistema de recomendación**\n",
    "\n",
    "En primera instancia se busca desarrollar un modelo de corte no supervisado para identificar clúster o grupos de instituciones educativas que tengan características similares, y de esta manera poder análisis estos grupos internamente. De allí, que a la hora de seleccionar la institución más adecuada se pueda acotar la búsqueda entregando el clúster con más cercanía a las características solicitadas. Para ello se busca testear modelos como:\n",
    "\n",
    "- K-Means\n",
    "- DBSCAN\n",
    "- Mean Shift\n",
    "- AGNES, entre otros\n",
    "\n",
    "Posterior al modelamiento se busca hacer una evaluación del modelo óptimo, de ahí que revisando en la literatura nos apoyaremos en validaciones internas y externas, donde en la primera se calculara la cohesión (Minimización de la distancia entre integrantes del clúster) y la separación (Maximización de distancia entre los grupos encontrados).\n",
    "\n",
    "Entendiendo el comportamiento o las particularidades de las instituciones, se propone una aproximación de sistema de recomendación donde se tenga en cuenta una la geolocalización de referencia, así como algunas variables socioeconómicas que permitan acotar las opciones, de manera que al tener el claro los clústeres que más se ajusten, se tengan también la distancia a las instituciones más cercanas que se encuentran dentro de dichos segmentos.\n",
    "\n",
    "**Etapa 6: Implementación de la interfaz de usuario (FrontEnd)**\n",
    "\n",
    "Basándonos en la API suministrada por las librerías de las aplicaciones Gis para el lenguaje Python se construirá una aplicación web que permitirá ingresar los parámetros de entrada definidos por el modelo y mostrará el mapa con las instituciones que cumplen con la condición de cercanía y clusterización. Además, listará ordenadamente estas instituciones partiendo de la calificación de calidad en resultados en las pruebas saber 11, su grafica de distribución de resultados desde el año 2010 de sus estudiantes."
   ]
  },
  {
   "cell_type": "markdown",
   "metadata": {},
   "source": [
    "<a name=\"e1\"></a><hr style=\"border:1px solid green\"> </hr>\n",
    "# 2. [&#9673;](#conte) Etapa 1: Recolección de la información\n",
    "<hr style=\"border:1px solid green\"> </hr>"
   ]
  },
  {
   "cell_type": "markdown",
   "metadata": {},
   "source": [
    "## Fuentes de datos\n",
    "Las fuentes de datos para el desarrollo del proyecto se obtuvieron de las páginas de ICFES y de Datos Abiertos Colombia del Ministerio de Tecnologías de la Información y las Comunicaciones, ambas fuentes de información pública disponibles para proposito general, con las siguientes caracteristicas\n",
    "\n",
    "El repositorio de datos, DataICFES, contiene información de las pruebas que desarrolla el ICFES. Además, pone a disposición de los investigadores, estudiantes, comunidad educativa y comunidad general, los instrumentos necesarios para adelantar investigaciones que estén orientadas al mejoramiento de la calidad educativa.\n",
    "El repositorio de DATOS ABIERTOS COLOMBIA tiene como objetivo promover y habilitar las condiciones para el uso de los datos y en la actualidad cuenta con mas de 5526 datos disponibles para investigar, desarrollar aplicaciones, crear visualizaciones e historias.\n",
    "\n",
    "- [ICFES](https://www.icfes.gov.co/)\n",
    "\n",
    "<a><img src=\"https://raw.githubusercontent.com/Camilorb07/Integrador_S1_2021/main/Imagenes/icfes.png\" width=\"150\" align=\"Left\"></a>"
   ]
  },
  {
   "cell_type": "markdown",
   "metadata": {},
   "source": [
    "1. **BASE DE DATOS 1** “SB11-CLASIFI-PLANTELES-20182”: Esta base de datos es la que nos brinda información acerca de los puntajes por institución  de la prueba saber 11 de cada una de las diferentes asignaturas que tiene en cuenta esta prueba de conocimientos. Para el análisis de la información solo se tendrá en cuenta la variable de índice total que es el promedio ponderado de cada uno de los resultados de las asignaturas.\n",
    "2. **BASE DE DATOS 2** “puntaje.csv” Esta base de datos nos brinda información acerca del puntaje por estudiante y por institución.Así mismo como la información socioeconómica de cada familia del estudiante\n",
    "   \n",
    "   \n",
    "- [Datos Abiertos](https://www.datos.gov.co/)\n",
    "\n",
    "<a><img src=\"https://raw.githubusercontent.com/Camilorb07/Integrador_S1_2021/main/Imagenes/Daos_Abiertos.png\" width=\"220\" align=\"Left\"></a>"
   ]
  },
  {
   "cell_type": "markdown",
   "metadata": {},
   "source": [
    "   - **BASE DE DATOS 3** “SedesSise_report.csv”: Esta base de datos nos suministra información acerca de las características geográficas de cada una de las instituciones, las principales características son  la longitud, latitud y zona geográfica en colombia. Esta información nos va permitir por medio de un análisis de recomendación ubicar las mejores instituciones de acuerdo a diferentes filtros de georeferenciación que el usuario aplique en la búsqueda."
   ]
  },
  {
   "cell_type": "markdown",
   "metadata": {},
   "source": [
    "<a name=\"e2\"></a><hr style=\"border:1px solid green\"> </hr>\n",
    "# 3. [&#9673;](#conte) Etapa 2: Implementación del DataLake\n",
    "\n",
    "1. [Crear bucket](#e2_bucket)\n",
    "2. [Creacion de Zonas (Carpetas)](#e2_zonas)\n",
    "3. [Cargar archivos](#e2_load)\n",
    "\n",
    "<hr style=\"border:1px solid green\"> </hr>"
   ]
  },
  {
   "cell_type": "markdown",
   "metadata": {},
   "source": [
    "se implementara un Data Lake con la siguiente estructura:\n",
    "\n",
    "- **Landing Zone:** en esta zona se cargan todos los archivos (BD) necesarios para la realizacion del proyecto\n",
    "\n",
    "\n",
    "- **Raw Zone:** En esta zona almacenamos los datos que no necesitan ser procesados ya que no seran utiles en el procesamiento de la información\n",
    "\n",
    "\n",
    "- **Refined Zone:** En esta zona se mantendrán los datos que han sido manipulados para el análisis de la información  \n",
    "\n",
    "\n",
    "- **Trusted Zone:** En esta zona se realiza la validación  y /o otro procesamiento adicional que se deba ejecutar. \n",
    "\n",
    "Para Esto nos apoyamos en los recursos de AWS, con la herramienta **S3**.\n",
    "\n",
    "<a><img src=\"https://raw.githubusercontent.com/Camilorb07/Integrador_S1_2021/main/Imagenes/S3.png\" width=\"220\" align=\"center\"></a>"
   ]
  },
  {
   "cell_type": "markdown",
   "metadata": {},
   "source": [
    "<a name=\"e2_bucket\"></a><hr style=\"border:1px solid black\"> </hr>\n",
    "\n",
    "## 3.1. [&#9678;](#e2) Crear Bucket\n",
    "\n",
    "<hr style=\"border:1px solid black\"> </hr>\n",
    "\n",
    "<a><img src=\"https://raw.githubusercontent.com/Camilorb07/Integrador_S1_2021/main/Imagenes/bucket.png\" width=\"700\" align=\"center\"></a>"
   ]
  },
  {
   "cell_type": "markdown",
   "metadata": {},
   "source": [
    "Primero creamos un bucket en S3 con el nombre \"**pidatalake**\""
   ]
  },
  {
   "cell_type": "markdown",
   "metadata": {},
   "source": [
    "### Caracteristicas:\n",
    "\n",
    "- **Nombre:** pidatalake\n",
    "- **Región:** EE. UU. Este (Norte de Virginia) us-east-1\n",
    "- **Configuración de bloqueo de acceso publico:** Ningun bloqueo (publico para pagina web)\n",
    "- **Control de versiones:** Desactivado\n",
    "- **Etiquetas:** Ninguna etiqueta\n",
    "- **Cifrado:** Desactivado\n",
    "- **Bloqueo de Objetos:** Desactivado"
   ]
  },
  {
   "cell_type": "markdown",
   "metadata": {},
   "source": [
    "<a name=\"e2_zonas\"></a><hr style=\"border:1px solid black\"> </hr>\n",
    "\n",
    "## 3.2. [&#9678;](#e2) Creacion de Zonas (Carpetas)\n",
    "\n",
    "<hr style=\"border:1px solid black\"> </hr>"
   ]
  },
  {
   "cell_type": "markdown",
   "metadata": {},
   "source": [
    "<a><img src=\"https://raw.githubusercontent.com/Camilorb07/Integrador_S1_2021/main/Imagenes/Zonas_carpetas.png\" width=\"1000\" align=\"center\"></a>"
   ]
  },
  {
   "cell_type": "markdown",
   "metadata": {},
   "source": [
    "<a name=\"e2_load\"></a><hr style=\"border:1px solid black\"> </hr>\n",
    "\n",
    "## 3.3. [&#9678;](#e2) Cargar archivos\n",
    "\n",
    "<hr style=\"border:1px solid black\"> </hr>"
   ]
  },
  {
   "cell_type": "markdown",
   "metadata": {},
   "source": [
    "los archivos se cargan directamente a la landing zone en dos carpetas: **ICFES** y **DANE**"
   ]
  },
  {
   "cell_type": "markdown",
   "metadata": {},
   "source": [
    "\n",
    "<a><img src=\"https://raw.githubusercontent.com/Camilorb07/Integrador_S1_2021/main/Imagenes/Landing.png\" width=\"600\" align=\"center\"></a>"
   ]
  },
  {
   "cell_type": "markdown",
   "metadata": {},
   "source": [
    "<a><img src=\"https://raw.githubusercontent.com/Camilorb07/Integrador_S1_2021/main/Imagenes/landing_icfes.png\" width=\"1000\" align=\"center\"></a>"
   ]
  },
  {
   "cell_type": "markdown",
   "metadata": {},
   "source": [
    "<a><img src=\"https://raw.githubusercontent.com/Camilorb07/Integrador_S1_2021/main/Imagenes/Landing_Dane.png\" width=\"900\" align=\"center\"></a>"
   ]
  },
  {
   "cell_type": "markdown",
   "metadata": {},
   "source": [
    "<a name=\"e3\"></a><hr style=\"border:1px solid green\"> </hr>\n",
    "# 4. [&#9673;](#conte) Etapa 3: Estructuración y preparación de los datos\n",
    "<hr style=\"border:1px solid green\"> </hr>"
   ]
  },
  {
   "cell_type": "markdown",
   "metadata": {},
   "source": [
    "Una vez estructurado nuestro Buckets en **Amazon S3** el siguiente paso es convertir estos archivos en\n",
    "información(interpretarlos), para esto el servicio de **AWS Glue** nos permite generar rastreadores,\n",
    "estos rastreadores se deben configurar para que puedan identificar el esquema de los archivos\n",
    "almacenados en **S3** para que estos se puedan interpretar como tablas que se almacenan en una base\n",
    "de datos. Ya que en nuestro datalake contamos con una variedad amplia de fuentes y de formatos es\n",
    "necesario la creación de diferentes bases de datos, tablas y por ende rastreadores\n",
    "\n",
    "<a><img src=\"https://raw.githubusercontent.com/Camilorb07/Integrador_S1_2021/main/Imagenes/Glue.png\" width=\"170\" align=\"center\"></a>\n"
   ]
  },
  {
   "cell_type": "markdown",
   "metadata": {},
   "source": [
    "Una ves se realiza este proceso la base de datos esta lista y disponible para ser consultado desde diferentes etapas del desarrollo."
   ]
  },
  {
   "cell_type": "markdown",
   "metadata": {},
   "source": [
    "<a><img src=\"https://raw.githubusercontent.com/Camilorb07/Integrador_S1_2021/main/Imagenes/etl.png\" width=\"500\" align=\"center\"></a>"
   ]
  },
  {
   "cell_type": "markdown",
   "metadata": {},
   "source": [
    "otra manera de realizar este proceso es a travez de codigo, para esto se puede observar el procedimiento de los primeros pasos de la Etapa 4 "
   ]
  },
  {
   "cell_type": "markdown",
   "metadata": {},
   "source": [
    "<a name=\"e4\"></a><hr style=\"border:1px solid green\"> </hr>\n",
    "# 5. [&#9673;](#conte) Etapa 4: Análisis exploratorio de los datos\n",
    "\n",
    "1. [Librerias](#e4_librerias)\n",
    "2. [Funciones](#e4_funciones)\n",
    "3. [Lectura Base de Datos - AWS](#e4_lect_aws)\n",
    "4. [Lectura Base de Datos - Local](#e4_lect_local)\n",
    "    1. [Sedes](#e4_sedes)\n",
    "    2. [Clasificacion Planteles](#e4_planteles)\n",
    "    3. [Puntaje estudiantes por Plantel](#e4_estudiantes)\n",
    "    4. [Unificar Base de Datos](#e4_unificar)\n",
    "    5. [Limpieza Base de datos](#e4_limpiar)\n",
    "5. [Exploracion Bases de Datos](#e4_explo)\n",
    "    1. [Variables Numéricas](#e4_numericas)\n",
    "        1. [INDICE_MATEMATICAS](#e4_math)\n",
    "        2. [INDICE_C_NATURALES](#e4_cnat)\n",
    "        3. [INDICE_SOCIALES_CIUDADANAS](#e4_sociales)\n",
    "        4. [INDICE_LECTURA_CRITICA](#e4_lectura)\n",
    "        5. [INDICE_INGLES](#e4_ingles)\n",
    "        6. [INDICE_TOTAL](#e4_total)\n",
    "        7. [EVALUADOS_ULTIMOS_3](#e4_evaluados)\n",
    "        8. [Correlaciones](#e4_corre)\n",
    "    2. [Variables Categoricas](#e4_categoricas)\n",
    "        1. [COLE_CALENDARIO_COLEGIO](#e4_calendario)\n",
    "        2. [COLE_GENEROPOBLACION](#e4_genero)\n",
    "        3. [COLE_NATURALEZA](#e4_naturaleza)\n",
    "        4. [COLE_CATEGORIA](#e4_catetgoria)\n",
    "        5. [ZONA](#e4_zona)\n",
    "        6. [MODE_ESTRATOVIVIENDA](#e4_estrato)\n",
    "        7. [MODE_EDU_MADRE](#e4_madre)\n",
    "        8. [MODE_EDU_PADRE](#e4_padre)\n",
    "        9. [IND_BILINGUE](#e4_bilingue)\n",
    "        10. [CARACTER_IE](#e4_caracter)\n",
    "\n",
    "<hr style=\"border:1px solid green\"> </hr>"
   ]
  },
  {
   "cell_type": "markdown",
   "metadata": {},
   "source": [
    "<a name=\"e4_librerias\"></a><hr style=\"border:1px solid black\"> </hr>\n",
    "\n",
    "## 5.1. [&#9678;](#e4) Librerias\n",
    "\n",
    "<hr style=\"border:1px solid black\"> </hr>"
   ]
  },
  {
   "cell_type": "code",
   "execution_count": 1,
   "metadata": {},
   "outputs": [],
   "source": [
    "import pandas as pd \n",
    "import numpy as np\n",
    "import matplotlib.pyplot as plt\n",
    "from os import listdir\n",
    "from scipy.spatial.distance import cdist # distancias entre matrices\n",
    "from sklearn import cluster #algoritmos de clasificación\n",
    "from sklearn.metrics import silhouette_score\n",
    "import sys\n",
    "from scipy.spatial import distance\n",
    "import ipywidgets as widgets\n",
    "import seaborn as sns\n",
    "import statsmodels.api as sm\n",
    "from IPython.display import HTML, display\n",
    "from matplotlib.ticker import PercentFormatter\n",
    "from scipy import stats\n",
    "from sklearn.linear_model import LogisticRegression\n",
    "from sklearn.preprocessing import OneHotEncoder\n",
    "from statsmodels.graphics.mosaicplot import mosaic\n",
    "from statsmodels.stats import diagnostic\n",
    "import scipy.stats as sta\n",
    "import unicodedata\n",
    "import warnings\n",
    "warnings.filterwarnings(\"ignore\", category=DeprecationWarning) \n",
    "\n",
    "# git clone https://github.com/nicodv/kmodes.git\n",
    "# cd kmodes\n",
    "# python setup.py install\n",
    "# or\n",
    "# pip install kmodes\n",
    "from kmodes.kmodes import KModes"
   ]
  },
  {
   "cell_type": "markdown",
   "metadata": {},
   "source": [
    "<a name=\"e4_funciones\"></a><hr style=\"border:1px solid black\"> </hr>\n",
    "\n",
    "## 5.2. [&#9678;](#e4) Funciones\n",
    "\n",
    "<hr style=\"border:1px solid black\"> </hr>"
   ]
  },
  {
   "cell_type": "code",
   "execution_count": 2,
   "metadata": {},
   "outputs": [],
   "source": [
    "def wavg(group, avg_name, weight_name):\n",
    "    ''' Funcion para calcular promedio ponderado de indicadores\n",
    "    por año e institucion'''\n",
    "    d = group[avg_name]\n",
    "    w = group[weight_name]\n",
    "    try:\n",
    "        return (d * w).sum() / w.sum()\n",
    "    except ZeroDivisionError:\n",
    "        return d.mean()"
   ]
  },
  {
   "cell_type": "code",
   "execution_count": 3,
   "metadata": {},
   "outputs": [],
   "source": [
    "def k_selection(dataframe, min_k, max_k):\n",
    "    '''\n",
    "    Función que corre múltiples modelos k-means con diferentes\n",
    "    números de clusters, calcula y grafica la distancia a los centroides\n",
    "    de los clusters de cada punto para determinar el número de clusters \n",
    "    adecuado aplicando diferentes métodos.\n",
    "    \n",
    "    Input:\n",
    "    ------------------------\n",
    "    dataframe: pd.DataFrame\n",
    "        DataFrame con todos los datos para entrenar el modelo.\n",
    "    min_k: Int\n",
    "        Número mínimo de clusters a tener en cuenta en las iteraciones.\n",
    "    max_k: Int\n",
    "        Número máximo de clusters a tener en cuenta en las iteraciones.\n",
    "    \n",
    "    Output:\n",
    "    ------------------------\n",
    "    k_mean_algs: List\n",
    "        Lista de objetos algoritmo K-means.\n",
    "    k_mean_res: List\n",
    "        Lista de resultados del algoritmo K-means.\n",
    "    '''\n",
    "    cluster_nums = range(min_k, max_k + 1)# Lista de número de clusters\n",
    "    k_mean_algs = [cluster.KMeans(n_clusters = k, random_state = 123) for k in cluster_nums]# Lista de objetos algoritmo K-means\n",
    "    k_mean_res =[]\n",
    "    sil = []\n",
    "    for alg in k_mean_algs:\n",
    "        k_mean_res.append(alg.fit(dataframe))\n",
    "        labels = alg.labels_\n",
    "        sil.append(silhouette_score(dataframe, labels, metric = 'euclidean'))\n",
    "    #k_mean_res = [alg.fit(dataframe) for alg in k_mean_algs]# Lista de resultados del algoritmo K-means\n",
    "    centroids = [res.cluster_centers_ for res in k_mean_res]# Lista con los centroides por cada valor de k\n",
    "    # Lista que almacena la distancia euclidea entre los puntos y los centroides para cada cas de k\n",
    "    distances = [cdist(dataframe, centroid, 'euclidean') for centroid in centroids] \n",
    "    # Get the closest centroid (and the corresponding distance)\n",
    "    min_indices = [np.argmin(distance, axis = 1) for distance in distances]\n",
    "    min_distances = [np.min(distance, axis = 1) for distance in distances]\n",
    "    avg_sum_squares = [sum(dist ** 2) / dataframe.shape[0] for dist in min_distances]# Calculo de la distancia cuadrada promedio\n",
    "    # Gráfica de codo\n",
    "    fig = plt.figure()\n",
    "    ax = fig.add_subplot(111)\n",
    "    ax.plot(cluster_nums, avg_sum_squares, 'b*-')\n",
    "    plt.grid(True)\n",
    "    plt.xlabel('Numero de clusters')\n",
    "    plt.ylabel('Error cuadrado promedio')\n",
    "    plt.title('Grafica de Codo')\n",
    "    plt.show()\n",
    "    plt.plot(cluster_nums,sil, 'b*-')\n",
    "    plt.grid(True)\n",
    "    plt.xlabel('Numero de clusters')\n",
    "    plt.ylabel('Silhouette Value')\n",
    "    plt.title('Silhouette Method')\n",
    "    plt.show()\n",
    "    return (k_mean_algs, k_mean_res)"
   ]
  },
  {
   "cell_type": "code",
   "execution_count": 4,
   "metadata": {},
   "outputs": [],
   "source": [
    "def tabla_cluster(data,variable):\n",
    "    '''\n",
    "    Función para hacer tabla donde se cuentan los puntos por categoría\n",
    "    según una variable determinada.\n",
    "    \n",
    "    Input:\n",
    "    ------------------------\n",
    "    data: pd.DataFrame\n",
    "        DataFrame con todos los datos.\n",
    "    variable: String\n",
    "        Variable por la cual se agrupa en la tabla.\n",
    "    \n",
    "    Output:\n",
    "    ------------------------\n",
    "    tbl_pvt: pd.DataFrame\n",
    "        Tabla agrupada con cuenta de fronteras por categoría.\n",
    "    '''\n",
    "    tbl = data[[variable, 'Cluster']]\n",
    "    tbl_grp = tbl.groupby(tbl.columns.tolist(), as_index = False).size()\n",
    "    tbl_frm = tbl_grp\n",
    "    tbl_frm.columns = [variable, 'Cluster', 'Cuenta']\n",
    "    tbl_pvt = pd.pivot_table(tbl_frm, index = variable, columns = 'Cluster', values = 'Cuenta').fillna(0).astype(int)\n",
    "    return (tbl_pvt,tbl_frm)"
   ]
  },
  {
   "cell_type": "code",
   "execution_count": 5,
   "metadata": {},
   "outputs": [],
   "source": [
    "def cluster_scatter_plot(tbl_frm,variable):\n",
    "    '''\n",
    "    Función para graficar la cantidad de fronteras por cluster\n",
    "    y por una variable.\n",
    "    \n",
    "    Input:\n",
    "    ------------------------\n",
    "    tbl_frm: pd.DataFrame\n",
    "        Tabla con la información para la gráfica.\n",
    "    variable: String\n",
    "        Variable contra la cual se graficara, toma dos valores\n",
    "        'Nivel_Tension' o 'Tipo'.\n",
    "    '''\n",
    "    tbl_frm['Cuenta'] = ((tbl_frm.loc[:,'Cuenta']/(tbl_frm.groupby(tbl_frm.Cluster).transform('sum')).loc[:,'Cuenta'])*500)\n",
    "    tbl_frm['Cuenta'] = tbl_frm['Cuenta'].astype('float').round(0).astype('int')\n",
    "    type_uniq, type_n = np.unique(tbl_frm[variable], return_inverse = True)\n",
    "    fig = plt.figure()\n",
    "    ax = fig.add_subplot(111)\n",
    "    ax.scatter(x = tbl_frm['Cluster'], y = type_n, s = tbl_frm['Cuenta'])\n",
    "    ax.set(yticks = np.unique(type_n), yticklabels = type_uniq)\n",
    "    plt.show()"
   ]
  },
  {
   "cell_type": "code",
   "execution_count": 6,
   "metadata": {},
   "outputs": [],
   "source": [
    "def print_one_way_counts_table(col):\n",
    "    col= pd.Series(np.where(col.isnull(), 'Sin dato', 'Con dato'))\n",
    "    #freq_table = one_way_table(col=col_count_data, idx_name=idx_name)\n",
    "    if col is None:\n",
    "        raise TypeError(\"Verifique que haya asignado algún objeto al parámetro: 'col'\")\n",
    "    elif col.dtype != 'object':\n",
    "        raise TypeError(\"Verifique que el valor asignado al parámetros: 'col', es de tipo: 'object'\")\n",
    "    abs_freq = pd.DataFrame(col.value_counts())\n",
    "    rel_freq = pd.DataFrame(col.value_counts(normalize=True))\n",
    "    cum_rel_freq = rel_freq.cumsum()\n",
    "    freq_table = pd.concat([abs_freq, rel_freq, cum_rel_freq], axis=1)\n",
    "    freq_table.columns = ['Frec.Abs.','Frec.Rel.', 'Frec.Rel.Acum.']\n",
    "    #freq_table.index.name = idx_name\n",
    "    freq_table.sort_values(by=['Frec.Abs.'], ascending=False)\n",
    "    freq_table=  widgets.HTML(freq_table.style\\\n",
    "                        .format({'Frec.Abs.': '{:,}',\n",
    "                                 'Frec.Rel.': '{:.2%}',\n",
    "                                 'Frec.Rel.Acum.': '{:.2%}'})\\\n",
    "                        .set_table_attributes('class=\"table table-striped\"')\\\n",
    "                        .render())\t\t\n",
    "    display(HTML(\"<h3>Conteo de registros</h3><br>\"))\n",
    "    display(freq_table)"
   ]
  },
  {
   "cell_type": "code",
   "execution_count": 7,
   "metadata": {},
   "outputs": [],
   "source": [
    "def print_one_way_table(col):\n",
    "\n",
    "    if col is None:\n",
    "        raise TypeError(\"Verifique que haya asignado algún objeto al parámetro: 'col'\")\n",
    "    elif col.dtype != 'object':\n",
    "        raise TypeError(\"Verifique que el valor asignado al parámetros: 'col', es de tipo: 'object'\")\n",
    "    abs_freq = pd.DataFrame(col.value_counts())\n",
    "    rel_freq = pd.DataFrame(col.value_counts(normalize=True))\n",
    "    cum_rel_freq = rel_freq.cumsum()\n",
    "    freq_table = pd.concat([abs_freq, rel_freq, cum_rel_freq], axis=1)\n",
    "    freq_table.columns = ['Frec.Abs.','Frec.Rel.', 'Frec.Rel.Acum.']\n",
    "    freq_table.index.name = 'Categorías'\n",
    "    freq_table.sort_values(by=['Frec.Abs.'], ascending=False)\n",
    "    display(HTML(\"<h3>Conteo de frecuencias</h3><br>\"))\n",
    "    display(widgets.HTML(freq_table.style\\\n",
    "                        .format({'Frec.Abs.': '{:,}',\n",
    "                                 'Frec.Rel.': '{:.2%}',\n",
    "                                 'Frec.Rel.Acum.': '{:.2%}'})\\\n",
    "                        .set_table_attributes('class=\"table table-striped\"')\\\n",
    "                        .render()))"
   ]
  },
  {
   "cell_type": "code",
   "execution_count": 8,
   "metadata": {},
   "outputs": [],
   "source": [
    "def print_central_tendency_measures(col):\n",
    "    warnings.filterwarnings(\"ignore\")\n",
    "    notnull_col = col[~np.isnan(col)]\n",
    "    percentiles = dict(notnull_col.quantile([.05,.25,.5,.75,.95]))\n",
    "    measures = {}\n",
    "    measures['Moda'] = notnull_col.mode()[0]\n",
    "    measures['Media'] = notnull_col.mean()\n",
    "    try:\n",
    "        measures['Media Armónica'] = stats.hmean(notnull_col)\n",
    "    except:\n",
    "        measures['Media Armónica'] = np.nan\n",
    "    try:\n",
    "        measures['Media Geométrica'] = stats.gmean(notnull_col)\n",
    "    except:\n",
    "        measures['Media Geométrica'] = np.nan\n",
    "    measures['Media Cuadrática'] = np.sqrt(np.sum(np.square(notnull_col)) / notnull_col.count())\n",
    "    measures['Media Trunc.(5%)'] = stats.trim_mean(a=notnull_col, proportiontocut=.05)\n",
    "    measures['Media IQ'] = stats.trim_mean(a=notnull_col, proportiontocut=.25)\n",
    "    measures['Media Wins.(5%)'] = np.mean(stats.mstats.winsorize(notnull_col, limits=0.05))\n",
    "    measures['Trimedia'] = (percentiles[.25] + 2 * percentiles[.5] + percentiles[.75]) / 4\n",
    "    measures['Mediana'] = np.median(notnull_col)\n",
    "    measures['Mid Range'] = (notnull_col.min() + notnull_col.max()) / 2 \n",
    "    measures['Mid Hinge'] = (percentiles[.25] + percentiles[.75]) / 2\n",
    "    statistics = pd.DataFrame.from_dict(data=measures, orient='index', columns=['Resultado'])\n",
    "    statistics.index.names = ['Medida']\n",
    "    display(HTML(\"<h3>Tendencia central</h3><br>\"))\n",
    "    display(widgets.HTML(statistics.style\\\n",
    "                        .format({'Resultado':'{:,.2f}'})\\\n",
    "                        .set_table_attributes('class=\"table table-striped\"')\\\n",
    "                        .render()))"
   ]
  },
  {
   "cell_type": "code",
   "execution_count": 9,
   "metadata": {},
   "outputs": [],
   "source": [
    "def location_measures(col):\n",
    "\n",
    "    notnull_col = col[~np.isnan(col)]\n",
    "    percentiles = dict(notnull_col.quantile([.01,.05,.1,.25,.5,.75,.9,.95,.99]))\n",
    "    measures = {}\n",
    "    measures['Mínimo'] = notnull_col.min()\n",
    "    measures.update({'Percentil ' + str(int(key * 100)):value for (key, value) in percentiles.items()})\n",
    "    measures['Máximo'] = notnull_col.max()\n",
    "    statistics = pd.DataFrame.from_dict(data=measures, orient='index', columns=['Resultado'])\n",
    "    statistics.index.names = ['Medida']\n",
    "    return widgets.HTML(statistics.style\\\n",
    "                        .format({'Resultado':'{:,.2f}'})\\\n",
    "                        .set_table_attributes('class=\"table table-striped\"')\\\n",
    "                        .render())"
   ]
  },
  {
   "cell_type": "code",
   "execution_count": 10,
   "metadata": {},
   "outputs": [],
   "source": [
    "def print_location_measures(col):\n",
    "\n",
    "    notnull_col = col[~np.isnan(col)]\n",
    "    percentiles = dict(notnull_col.quantile([.01,.05,.1,.25,.5,.75,.9,.95,.99]))\n",
    "    measures = {}\n",
    "    measures['Mínimo'] = notnull_col.min()\n",
    "    measures.update({'Percentil ' + str(int(key * 100)):value for (key, value) in percentiles.items()})\n",
    "    measures['Máximo'] = notnull_col.max()\n",
    "    statistics = pd.DataFrame.from_dict(data=measures, orient='index', columns=['Resultado'])\n",
    "    statistics.index.names = ['Medida']\n",
    "    display(HTML(\"<h3>Posición</h3><br>\"))\n",
    "    display(widgets.HTML(statistics.style\\\n",
    "                        .format({'Resultado':'{:,.2f}'})\\\n",
    "                        .set_table_attributes('class=\"table table-striped\"')\\\n",
    "                        .render()))"
   ]
  },
  {
   "cell_type": "code",
   "execution_count": 11,
   "metadata": {},
   "outputs": [],
   "source": [
    "def print_spread_measures(col):\n",
    "\n",
    "    notnull_col = col[~np.isnan(col)]\n",
    "    percentiles = dict(notnull_col.quantile([.01,.05,.1,.25,.5,.75,.9,.95,.99]))\n",
    "    measures = {}\n",
    "    measures[\"Desv. Est.\"] = notnull_col.std()\n",
    "    measures['Rango'] = notnull_col.max() - notnull_col.min()\n",
    "    measures['Rango IQ'] = stats.iqr(notnull_col)\n",
    "    measures['Dif. Abs. Media'] = notnull_col.mad()\n",
    "    measures['Dif. Abs. Mediana'] = np.median(np.abs(notnull_col - notnull_col.median()))\n",
    "    measures['Coef. Var.'] = stats.variation(notnull_col)\n",
    "    measures['QCD'] = (percentiles[0.75] - percentiles[0.25]) / (percentiles[0.75] + percentiles[0.25])\n",
    "    statistics = pd.DataFrame.from_dict(data=measures, orient='index', columns=['Resultado'])\n",
    "    statistics.index.names = ['Medida']\n",
    "    display(HTML(\"<h3>Dispersión</h3><br>\"))\n",
    "    display(widgets.HTML(statistics.style\\\n",
    "                        .format({'Resultado':'{:,.2f}'})\\\n",
    "                        .set_table_attributes('class=\"table table-striped\"')\\\n",
    "                        .render()))"
   ]
  },
  {
   "cell_type": "code",
   "execution_count": 12,
   "metadata": {},
   "outputs": [],
   "source": [
    "def print_shape_measures(col):\n",
    "\n",
    "    notnull_col = col[~np.isnan(col)]\n",
    "    measures = {}\n",
    "    measures['Asimetría'] = col.skew()\n",
    "    measures['Exc.Curtosis'] = col.kurtosis()\n",
    "    statistics = pd.DataFrame.from_dict(data=measures, orient='index', columns=['Resultado'])\n",
    "    statistics.index.names = ['Medida']\n",
    "    display(HTML(\"<h3>Forma</h3><br>\"))\n",
    "    display(widgets.HTML(statistics.style\\\n",
    "                        .format({'Resultado':'{:,.2f}'})\\\n",
    "                        .set_table_attributes('class=\"table table-striped\"')\\\n",
    "                        .render()))"
   ]
  },
  {
   "cell_type": "code",
   "execution_count": 13,
   "metadata": {},
   "outputs": [],
   "source": [
    "def univar_histogram_plot(col):\n",
    "\n",
    "    notnull_col = col[~np.isnan(col)]\n",
    "    plt.style.use('default')\n",
    "    fig, ax1 = plt.subplots(figsize=(4.8, 3.4))\n",
    "    sns.distplot(notnull_col, hist=True, kde=True)\n",
    "    plt.axvline(notnull_col.mean(), color='green', linestyle='dashed', linewidth=2, label=\"Media\")\n",
    "    plt.axvline(notnull_col.median(), color='blue', linestyle='dashed', linewidth=2, label=\"Mediana\")\n",
    "    plt.title('Histograma y densidad', fontweight='bold', fontsize=13, fontfamily='arial')\n",
    "    ax1.xaxis.set_major_locator(plt.MaxNLocator(5))\n",
    "    ax1.set_xticklabels(['{:,.2f}'.format(x) for x in ax1.get_xticks()], fontsize=10, fontfamily='arial')\n",
    "    plt.yticks(fontsize=10, fontfamily='arial')\n",
    "    plt.xlabel(notnull_col.name, fontweight='bold', fontsize=11, fontfamily='arial')\n",
    "    plt.ylabel(\"Densidad\", fontweight='bold', fontsize=11, fontfamily='arial')\n",
    "    leg=plt.legend(loc='upper right', title='Estadísticos')\n",
    "    plt.setp(leg.get_title(), fontweight='bold', fontsize=10, fontfamily='arial')\n",
    "    plt.setp(leg.get_texts(), fontsize=9, fontfamily='arial')\n",
    "    plt.show()"
   ]
  },
  {
   "cell_type": "code",
   "execution_count": 14,
   "metadata": {},
   "outputs": [],
   "source": [
    "def univar_violin_plot(col):\n",
    "\n",
    "    notnull_col = col[~np.isnan(col)]\n",
    "    plt.style.use('default')\n",
    "    fig, ax1 = plt.subplots(figsize=(5.0, 3.4))\n",
    "    sns.violinplot(x=notnull_col, palette='Blues')\n",
    "    plt.title('Diagrama de Violín', fontweight='bold', fontsize=13, fontfamily='arial')\n",
    "    ax1.xaxis.set_major_locator(plt.MaxNLocator(5))\n",
    "    ax1.set_xticklabels(['{:,.2f}'.format(x) for x in ax1.get_xticks()], fontsize=10, fontfamily='arial')\n",
    "    plt.xlabel(notnull_col.name, fontweight='bold', fontsize=11, fontfamily='arial')\n",
    "    plt.show()"
   ]
  },
  {
   "cell_type": "code",
   "execution_count": 15,
   "metadata": {},
   "outputs": [],
   "source": [
    "def univar_box_plot(col):\n",
    "\n",
    "    notnull_col = col[~np.isnan(col)]\n",
    "    plt.style.use('default')\n",
    "    fig, ax1 = plt.subplots(figsize=(5.0, 3.4))\n",
    "    sns.boxplot(x=notnull_col, palette='Blues')\n",
    "    plt.axvline(notnull_col.mean(), color='green', linestyle='dashed', linewidth=2, label='Media')\n",
    "    plt.title('Diagrama de caja y bigotes', fontweight='bold', fontsize=13, fontfamily='arial')\n",
    "    ax1.xaxis.set_major_locator(plt.MaxNLocator(5))\n",
    "    ax1.set_xticklabels(['{:,.2f}'.format(x) for x in ax1.get_xticks()], fontsize=10, fontfamily='arial')\n",
    "    plt.xlabel(notnull_col.name, fontweight='bold', fontsize=11, fontfamily='arial')\n",
    "    leg=plt.legend(loc='upper right', title='Estadístico')\n",
    "    plt.setp(leg.get_title(), fontweight='bold', fontsize=10, fontfamily='arial')\n",
    "    plt.setp(leg.get_texts(), fontsize=9, fontfamily='arial')\n",
    "    plt.show()"
   ]
  },
  {
   "cell_type": "code",
   "execution_count": 16,
   "metadata": {},
   "outputs": [],
   "source": [
    "def univar_donut_plot(col):\n",
    "    col_counts = col.value_counts(ascending=False)\n",
    "    plt.style.use('default')\n",
    "    plt.figure(figsize=(5.2, 3.6))\n",
    "    explode=np.repeat(0.03, len(col_counts))\n",
    "    centre_circle = plt.Circle((0,0), 0.70, fc='white')\n",
    "    plt.pie(x=col_counts, explode=explode, labels=None, autopct='%1.1f%%', textprops={'fontsize': 10, 'fontfamily': 'arial'}, pctdistance=0.85, startangle=90)\n",
    "    plt.gcf().gca().add_artist(centre_circle)\n",
    "    plt.title('Diagrama circular', fontweight='bold', fontsize=13, fontfamily='arial')\n",
    "    leg=plt.legend(labels=col_counts.index, loc=\"lower left\", title=col.name, framealpha=0.4)\n",
    "    plt.setp(leg.get_title(), fontweight='bold', fontsize=10, fontfamily='arial')\n",
    "    plt.setp(leg.get_texts(), fontsize=9, fontfamily='arial')\n",
    "    plt.axis('equal')\n",
    "    plt.show()"
   ]
  },
  {
   "cell_type": "code",
   "execution_count": 17,
   "metadata": {},
   "outputs": [],
   "source": [
    "def univar_pareto_plot(col):\n",
    "    col_counts = col.value_counts(ascending=False)\n",
    "    x = col_counts.index\n",
    "    y = col_counts.values\n",
    "    xlabel=col.name\n",
    "    ylabel='Frecuencia'\n",
    "    weights = col_counts / col_counts.sum()\n",
    "    cumsum = weights.cumsum()\n",
    "    plt.style.use('default')\n",
    "    fig, ax1 = plt.subplots(figsize=(5.0, 3.4))\n",
    "    sns.barplot(x=x, y=y, hue=x, palette=\"bright\")\n",
    "    plt.title('Diagrama de pareto', fontweight='bold', fontsize=13, fontfamily='arial')\n",
    "    ax1.set_xlabel(xlabel, fontweight='bold', fontsize=11, fontfamily='arial')\n",
    "    ax1.set_ylabel(ylabel, fontweight='bold', fontsize=11, fontfamily='arial')\n",
    "    ax1.set_yticklabels(['{:,.0f}'.format(x) for x in ax1.get_yticks()], fontsize=10, fontfamily='arial')\n",
    "    ax1.legend(loc='right', framealpha=0.4)\n",
    "    ax2 = ax1.twinx()\n",
    "    ax2.plot(x, cumsum, '-ro', alpha=0.8, color='gray')\n",
    "    ax2.set_ylabel('Frec. Relat. Acum.', fontweight='bold', fontsize=11, fontfamily='arial')\n",
    "    ax2.set_yticklabels(['{:,.0%}'.format(x) for x in ax2.get_yticks()], fontsize=10, fontfamily='arial')\n",
    "    formatted_weights = ['{:,.0%}'.format(x) for x in cumsum]\n",
    "    for i, txt in enumerate(formatted_weights):\n",
    "        ax2.annotate(txt, (x[i], cumsum[i]), fontsize=9, fontweight='bold', fontfamily='arial')\n",
    "    plt.setp(ax1.legend_.get_texts(), fontsize=9, fontfamily='arial')\n",
    "    plt.xticks([])\n",
    "    plt.tight_layout()\n",
    "    plt.show()"
   ]
  },
  {
   "cell_type": "code",
   "execution_count": 18,
   "metadata": {},
   "outputs": [],
   "source": [
    "def univar_normal_density(col):\n",
    "\n",
    "    notnull_col = col[~np.isnan(col)]\n",
    "    x = np.linspace(notnull_col.min(), notnull_col.max(), 1000)\n",
    "    plt.style.use('default')\n",
    "    fig, ax1 = plt.subplots(figsize=(4.8, 3.4))\n",
    "    sns.distplot(notnull_col, hist=False, kde=True, label='Empírica')\n",
    "    ax1.plot(x, stats.norm.pdf(x=x, loc=notnull_col.mean(), scale=notnull_col.std()), label='Normal')\n",
    "    plt.title('Funciones de densidad', fontweight='bold', fontsize=13, fontfamily='arial')\n",
    "    ax1.xaxis.set_major_locator(plt.MaxNLocator(5))\n",
    "    ax1.set_xticklabels(['{:,.2f}'.format(x) for x in ax1.get_xticks()], fontsize=10, fontfamily='arial')\n",
    "    plt.yticks(fontsize=10, fontfamily='arial')\n",
    "    plt.xlabel(notnull_col.name, fontweight='bold', fontsize=11, fontfamily='arial')\n",
    "    plt.ylabel(\"Densidad\", fontweight='bold', fontsize=11, fontfamily='arial')\n",
    "    leg=plt.legend(loc='upper right', title='Distribución')\n",
    "    plt.setp(leg.get_title(), fontweight='bold', fontsize=10, fontfamily='arial')\n",
    "    plt.setp(leg.get_texts(), fontsize=9, fontfamily='arial')\n",
    "    plt.show()"
   ]
  },
  {
   "cell_type": "code",
   "execution_count": 19,
   "metadata": {},
   "outputs": [],
   "source": [
    "def univar_qq_norm(col):\n",
    "\n",
    "    notnull_col = col[~np.isnan(col)]\n",
    "    fig = sm.qqplot(data=notnull_col, fit=True, marker='.', markerfacecolor='w', markeredgecolor='tab:blue', markersize=10, linestyle='--')\n",
    "    sm.qqline(fig.axes[0], line='45', fmt='k-')\n",
    "    plt.title('Diagrama cuantil-cuantil', fontweight='bold', fontsize=13, fontfamily='arial')\n",
    "    plt.yticks(fontsize=10, fontfamily='arial')\n",
    "    plt.xticks(fontsize=10, fontfamily='arial')\n",
    "    plt.xlabel('Cuantiles teóricos normales', fontweight='bold', fontsize=11, fontfamily='arial')\n",
    "    plt.ylabel('Cuantiles muestrales', fontweight='bold', fontsize=11, fontfamily='arial')\n",
    "    fig.set_size_inches(4.8, 3.4, forward=True)\n",
    "    plt.show()"
   ]
  },
  {
   "cell_type": "code",
   "execution_count": 20,
   "metadata": {},
   "outputs": [],
   "source": [
    "def print_normality_tests(col):\n",
    "\n",
    "    warnings.filterwarnings(\"ignore\")\n",
    "    notnull_col = col[~np.isnan(col)]\n",
    "    try:\n",
    "        sw_stat, sw_pvalue = stats.shapiro(x=notnull_col)\n",
    "    except:\n",
    "        sw_stat, sw_pvalue = (np.nan, np.nan) \n",
    "    try:\n",
    "        ad_stat, ad_pvalue = diagnostic.normal_ad(x=notnull_col)\n",
    "    except:\n",
    "        ad_stat, ad_pvalue = (np.nan, np.nan)\n",
    "    try:\n",
    "        ll_stat, ll_pvalue = diagnostic.lilliefors(x=notnull_col, dist='norm')\n",
    "    except:\n",
    "        ll_stat, ll_pvalue = (np.nan, np.nan)  \n",
    "    try:\n",
    "        dp_stat, dp_pvalue = stats.normaltest(a=notnull_col)\n",
    "    except:\n",
    "        dp_stat, dp_pvalue = (np.nan, np.nan)\n",
    "    try:\n",
    "        jb_stat, jb_pvalue = stats.jarque_bera(x=notnull_col)\n",
    "    except:\n",
    "        jb_stat, jb_pvalue = (np.nan, np.nan) \n",
    "    try:\n",
    "        cp_stat, cp_pvalue = stats.combine_pvalues(pvalues=[sw_pvalue, ad_pvalue, ll_pvalue, dp_pvalue, jb_pvalue], method='fisher')\n",
    "    except:\n",
    "        cp_stat, cp_pvalue = (np.nan, np.nan)\n",
    "\n",
    "    normal_tests = {}\n",
    "    normal_tests = {'Valores P.': [sw_pvalue, ad_pvalue, ll_pvalue, dp_pvalue, jb_pvalue, cp_pvalue]}\n",
    "    one_dim_normal_tests = pd.DataFrame(data=normal_tests,\n",
    "                                        dtype=np.float,\n",
    "                                        index=['Shapiro-Wilk (SW)','Anderson-Darling (AD)','Lilliefors (LL)','D’Agostino-Pearson (DP)','Jarque-Bera (JB)','Fisher’s Comb. (FC)'])\n",
    "    one_dim_normal_tests.index.names = ['Prueba (Test)']\n",
    "    display(HTML(\"<h3>Pruebas de normalidad</h3><br>\"))\n",
    "    display(widgets.HTML(one_dim_normal_tests.style\\\n",
    "                        .format({'Valores P.':'{:,.2%}'})\\\n",
    "                        .set_table_attributes('class=\"table table-striped\"')\\\n",
    "                        .render()))"
   ]
  },
  {
   "cell_type": "code",
   "execution_count": 21,
   "metadata": {},
   "outputs": [],
   "source": [
    "def inter_uncond_descrp_num_var(col):\n",
    "\n",
    "    tabTab = widgets.Tab()\n",
    "    outTab = [widgets.Output(), widgets.Output(), widgets.Output(), widgets.Output()]\n",
    "    tabTab.children = outTab\n",
    "    tabTab.set_title(0, \"Frecuencia\")\n",
    "    tabTab.set_title(1, \"TC y Posición\")\n",
    "    tabTab.set_title(2, \"Dispersión y Forma\")\n",
    "    tabTab.set_title(3, \"Normalidad\")\n",
    "\n",
    "    acTab = widgets.Accordion(children=[tabTab])\n",
    "    acTab.set_title(0, 'Estadísticos')\n",
    "\n",
    "    with outTab[0]:\n",
    "        print_one_way_counts_table(col)\n",
    "    auxOut1 = [widgets.Output(), widgets.Output()]\n",
    "    with auxOut1[0]:\n",
    "        print_central_tendency_measures(col)\n",
    "    with auxOut1[1]:\n",
    "        print_location_measures(col)\n",
    "    with outTab[1]:\n",
    "        display(widgets.HBox(auxOut1))\n",
    "\n",
    "    auxOut2 = [widgets.Output(), widgets.Output()]\n",
    "    with auxOut2[0]:\n",
    "        print_spread_measures(col)\n",
    "    with auxOut2[1]:\n",
    "        print_shape_measures(col)\n",
    "    with outTab[2]:\n",
    "        display(widgets.HBox(auxOut2))\n",
    "\n",
    "    with outTab[3]:\n",
    "        print_normality_tests(col)\n",
    "        \n",
    "    tabGraf = widgets.Tab()\n",
    "    outGraf = [widgets.Output(), widgets.Output(), widgets.Output(), widgets.Output(), widgets.Output()]\n",
    "    tabGraf.children = outGraf\n",
    "    tabGraf.set_title(0, \"Histograma\")\n",
    "    tabGraf.set_title(1, \"Caja y bigotes\")\n",
    "    tabGraf.set_title(2, \"Violín\")\n",
    "    tabGraf.set_title(3, \"Densidad Norm.\")\n",
    "    tabGraf.set_title(4, \"QQ Norm.\")\n",
    "\n",
    "    acGraf = widgets.Accordion(children=[tabGraf])\n",
    "    acGraf.set_title(0, 'Gráficos descriptivos')\n",
    "\n",
    "    with outGraf[0]:\n",
    "        univar_histogram_plot(col)\n",
    "    with outGraf[1]:\n",
    "        univar_box_plot(col)\n",
    "    with outGraf[2]:\n",
    "        univar_violin_plot(col)\n",
    "    with outGraf[3]:\n",
    "        univar_normal_density(col)\n",
    "    with outGraf[4]:\n",
    "        univar_qq_norm(col)\n",
    "        \n",
    "    out = widgets.Output()  \n",
    "    with out:\n",
    "        display(acTab)\n",
    "        display(acGraf)\n",
    "    display(out)"
   ]
  },
  {
   "cell_type": "code",
   "execution_count": 22,
   "metadata": {},
   "outputs": [],
   "source": [
    "def inter_uncond_descrp_cat_var(col):\n",
    "\n",
    "    tabTab = widgets.Tab()\n",
    "    outStat = [widgets.Output()]\n",
    "    tabTab.children = outStat\n",
    "    tabTab.set_title(0, \"Frecuencia\")\n",
    "\n",
    "    actTab = widgets.Accordion(children=[tabTab])\n",
    "    actTab.set_title(0, 'Estadísticos')\n",
    "\n",
    "    auxOut1 = [widgets.Output(), widgets.Output()]\n",
    "    with auxOut1[0]:\n",
    "        print_one_way_counts_table(col)\n",
    "    with auxOut1[1]:\n",
    "        print_one_way_table(col)\n",
    "    with outStat[0]:\n",
    "        display(widgets.HBox(auxOut1))\n",
    "\n",
    "    tabGraf = widgets.Tab()\n",
    "    outGraf = [widgets.Output(), widgets.Output()]\n",
    "    tabGraf.children = outGraf\n",
    "    tabGraf.set_title(0, \"Circular\")\n",
    "    tabGraf.set_title(1, \"Pareto\")\n",
    "\n",
    "    actGraf = widgets.Accordion(children=[tabGraf])\n",
    "    actGraf.set_title(0, 'Gráficos descriptivos')\n",
    "\n",
    "    with outGraf[0]:\n",
    "        univar_donut_plot(col)\n",
    "    with outGraf[1]:\n",
    "        univar_pareto_plot(col)\n",
    "\n",
    "    out = widgets.Output()  \n",
    "    with out:\n",
    "        display(actTab)\n",
    "        display(actGraf)\n",
    "    display(out)"
   ]
  },
  {
   "cell_type": "code",
   "execution_count": 23,
   "metadata": {},
   "outputs": [],
   "source": [
    "def corr_pearson(df):\n",
    "    f = plt.figure(figsize=(9, 11))\n",
    "    plt.matshow(df.corr(), fignum=f.number)\n",
    "    plt.xticks(range(df.select_dtypes(['number']).shape[1]), Num_df.columns, fontsize=8, rotation=45)\n",
    "    plt.yticks(range(df.select_dtypes(['number']).shape[1]), Num_df.columns, fontsize=8)\n",
    "    cb = plt.colorbar()\n",
    "    cb.ax.tick_params(labelsize=14)\n",
    "    plt.show()"
   ]
  },
  {
   "cell_type": "code",
   "execution_count": 24,
   "metadata": {},
   "outputs": [],
   "source": [
    "def Corr_Kendall(df):\n",
    "    f = plt.figure(figsize=(9, 11))\n",
    "    plt.matshow(df.corr(method='kendall'), fignum=f.number)\n",
    "    plt.xticks(range(df.select_dtypes(['number']).shape[1]), Num_df.columns, fontsize=8, rotation=45)\n",
    "    plt.yticks(range(df.select_dtypes(['number']).shape[1]), Num_df.columns, fontsize=8)\n",
    "    cb = plt.colorbar()\n",
    "    cb.ax.tick_params(labelsize=14)\n",
    "    plt.show()"
   ]
  },
  {
   "cell_type": "code",
   "execution_count": 25,
   "metadata": {},
   "outputs": [],
   "source": [
    "def Corr_Spearman(df):\n",
    "    corr_sper = pd.DataFrame(sta.spearmanr(Num_df).correlation, columns= Num_df.columns, index=Num_df.columns)\n",
    "    f = plt.figure(figsize=(9, 11))\n",
    "    plt.matshow(corr_sper, fignum=f.number)\n",
    "    plt.xticks(range(df.select_dtypes(['number']).shape[1]), Num_df.columns, fontsize=8, rotation=45)\n",
    "    plt.yticks(range(df.select_dtypes(['number']).shape[1]), Num_df.columns, fontsize=8)\n",
    "    cb = plt.colorbar()\n",
    "    cb.ax.tick_params(labelsize=14)\n",
    "    plt.show()"
   ]
  },
  {
   "cell_type": "code",
   "execution_count": 26,
   "metadata": {},
   "outputs": [],
   "source": [
    "def print_corr_var(df):\n",
    "    tabTab = widgets.Tab()\n",
    "    outTab = [widgets.Output(), widgets.Output(), widgets.Output()]\n",
    "    tabTab.children = outTab\n",
    "    tabTab.set_title(0, \"Pearson\")\n",
    "    tabTab.set_title(1, \"Spearman\")\n",
    "    tabTab.set_title(2, \"Kendall\")\n",
    "\n",
    "\n",
    "    acTab = widgets.Accordion(children=[tabTab])\n",
    "    acTab.set_title(0, 'Matriz correlación')\n",
    "\n",
    "    with outTab[0]: \n",
    "        corr_pearson(df)\t\t\n",
    "    with outTab[1]:\n",
    "        Corr_Spearman(df)\n",
    "    with outTab[2]:\n",
    "        Corr_Kendall(df)\n",
    "\n",
    "    out = widgets.Output()  \n",
    "    with out:\n",
    "        display(acTab)\n",
    "    display(out)"
   ]
  },
  {
   "cell_type": "code",
   "execution_count": 27,
   "metadata": {},
   "outputs": [],
   "source": [
    "def outliers(df):\n",
    "    tabTab = widgets.Tab()\n",
    "    outTab = [widgets.Output(), widgets.Output(),widgets.Output()]\n",
    "    tabTab.children = outTab\n",
    "    tabTab.set_title(0, \"N. Manhattan\")\n",
    "    tabTab.set_title(1, \"N.Euclidea\")\n",
    "    tabTab.set_title(2, \"N. Frobenius\")\n",
    "\n",
    "    acTab = widgets.Accordion(children=[tabTab])\n",
    "    acTab.set_title(0, 'Identificacion I.E Atipicas')\n",
    "\n",
    "    auxOut0 = [widgets.Output(), widgets.Output()]   \n",
    "    with auxOut0[0]:\n",
    "        display(HTML(\"<h3>TOP Mejores puntajes </h3><br>\"))\n",
    "        display(df.loc[Dist_1Out.index][['COLE_INST_NOMBRE','INDICE_TOTAL','EVALUADOS_ULTIMOS_3','INDICE_AJUST','COLE_CATEGORIA']].sort_values(by=['INDICE_AJUST'],ascending=False).head(10))\n",
    "    with auxOut0[0]:\n",
    "        display(HTML(\"<h3>TOP peores puntajes </h3><br>\"))\n",
    "        display(df.loc[Dist_1Out.index][['COLE_INST_NOMBRE','INDICE_TOTAL','EVALUADOS_ULTIMOS_3','INDICE_AJUST','COLE_CATEGORIA']].sort_values(by=['INDICE_AJUST'],ascending=True).head(10))        \n",
    "    with outTab[0]: \n",
    "        display(widgets.HBox(auxOut0))\n",
    "\n",
    "\n",
    "    auxOut1 = [widgets.Output(), widgets.Output()]   \n",
    "    with auxOut1[0]:\n",
    "        display(HTML(\"<h3>TOP Mejores puntajes </h3><br>\"))\n",
    "        display(df.loc[Dist_2Out.index][['COLE_INST_NOMBRE','INDICE_TOTAL','EVALUADOS_ULTIMOS_3','INDICE_AJUST','COLE_CATEGORIA']].sort_values(by=['INDICE_AJUST'],ascending=False).head(10))\n",
    "    with auxOut1[0]:\n",
    "        display(HTML(\"<h3>TOP peores puntajes </h3><br>\"))\n",
    "        display(df.loc[Dist_2Out.index][['COLE_INST_NOMBRE','INDICE_TOTAL','EVALUADOS_ULTIMOS_3','INDICE_AJUST','COLE_CATEGORIA']].sort_values(by=['INDICE_AJUST'],ascending=True).head(10))        \n",
    "    with outTab[1]: \n",
    "        display(widgets.HBox(auxOut1))\n",
    "\n",
    "    auxOut2 = [widgets.Output(), widgets.Output()]   \n",
    "    with auxOut2[0]:\n",
    "        display(HTML(\"<h3>TOP Mejores puntajes </h3><br>\"))\n",
    "        display(df.loc[Dist_FroOut.index][['COLE_INST_NOMBRE','INDICE_TOTAL','EVALUADOS_ULTIMOS_3','INDICE_AJUST','COLE_CATEGORIA']].sort_values(by=['INDICE_AJUST'],ascending=False).head(10))\n",
    "    with auxOut2[0]:\n",
    "        display(HTML(\"<h3>TOP peores puntajes </h3><br>\"))\n",
    "        display(df.loc[Dist_FroOut.index][['COLE_INST_NOMBRE','INDICE_TOTAL','EVALUADOS_ULTIMOS_3','INDICE_AJUST','COLE_CATEGORIA']].sort_values(by=['INDICE_AJUST'],ascending=True).head(10))        \n",
    "    with outTab[2]: \n",
    "        display(widgets.HBox(auxOut1))\n",
    "\n",
    "    out = widgets.Output()  \n",
    "    with out:\n",
    "        display(acTab)\n",
    "    display(out)"
   ]
  },
  {
   "cell_type": "code",
   "execution_count": 28,
   "metadata": {},
   "outputs": [],
   "source": [
    "def k_selection_2(dataframe, min_k, max_k):\n",
    "    '''\n",
    "    Función que corre múltiples modelos k-means con diferentes\n",
    "    números de clusters, calcula y grafica la distancia a los centroides\n",
    "    de los clusters de cada punto para determinar el número de clusters \n",
    "    adecuado aplicando diferentes métodos.\n",
    "    \n",
    "    Input:\n",
    "    ------------------------\n",
    "    dataframe: pd.DataFrame\n",
    "        DataFrame con todos los datos para entrenar el modelo.\n",
    "    min_k: Int\n",
    "        Número mínimo de clusters a tener en cuenta en las iteraciones.\n",
    "    max_k: Int\n",
    "        Número máximo de clusters a tener en cuenta en las iteraciones.\n",
    "    \n",
    "    Output:\n",
    "    ------------------------\n",
    "    k_mean_algs: List\n",
    "        Lista de objetos algoritmo K-means.\n",
    "    k_mean_res: List\n",
    "        Lista de resultados del algoritmo K-modes.\n",
    "    '''\n",
    "    cluster_nums = range(min_k, max_k + 1)# Lista de número de clusters\n",
    "    k_mean_algs =  [KModes(n_clusters=k, init='Huang', n_init=5, verbose=1, random_state=789) for k in cluster_nums]# Lista de objetos algoritmo K-means\n",
    "    k_mean_res =[]\n",
    "    sil = []\n",
    "    for alg in k_mean_algs:\n",
    "        k_mean_res.append(alg.fit(dataframe))\n",
    "        labels = alg.labels_\n",
    "        sil.append(silhouette_score(dataframe, labels, metric = 'jaccard'))\n",
    "    #k_mean_res = [alg.fit(dataframe) for alg in k_mean_algs]# Lista de resultados del algoritmo K-means\n",
    "    centroids = [res.cluster_centroids_ for res in k_mean_res]# Lista con los centroides por cada valor de k\n",
    "    # Lista que almacena la distancia euclidea entre los puntos y los centroides para cada cas de k\n",
    "    distances = [cdist(dataframe, centroid, 'jaccard') for centroid in centroids] \n",
    "    # Get the closest centroid (and the corresponding distance)\n",
    "    min_indices = [np.argmin(distance, axis = 1) for distance in distances]\n",
    "    min_distances = [np.min(distance, axis = 1) for distance in distances]\n",
    "    avg_sum_squares = [sum(dist ** 2) / dataframe.shape[0] for dist in min_distances]# Calculo de la distancia cuadrada promedio\n",
    "    # Gráfica de codo\n",
    "    fig = plt.figure()\n",
    "    ax = fig.add_subplot(111)\n",
    "    ax.plot(cluster_nums, avg_sum_squares, 'b*-')\n",
    "    plt.grid(True)\n",
    "    plt.xlabel('Numero de clusters')\n",
    "    plt.ylabel('Error cuadrado promedio')\n",
    "    plt.title('Grafica de Codo')\n",
    "    plt.savefig('..\\Imagenes\\error2.PNG')\n",
    "    plt.show()\n",
    "    plt.plot(cluster_nums,sil, 'b*-')\n",
    "    plt.grid(True)\n",
    "    plt.xlabel('Numero de clusters')\n",
    "    plt.ylabel('Silhouette Value')\n",
    "    plt.title('Silhouette Method')\n",
    "    plt.savefig('..\\Imagenes\\errorsil.PNG')\n",
    "    plt.show()\n",
    "    return (k_mean_algs, k_mean_res)"
   ]
  },
  {
   "cell_type": "markdown",
   "metadata": {},
   "source": [
    "<a name=\"e4_lect_aws\"></a><hr style=\"border:1px solid black\"> </hr>\n",
    "\n",
    "## 5.3. [&#9678;](#e4) Lectura Base de Datos - AWS\n",
    "\n",
    "<hr style=\"border:1px solid black\"> </hr>"
   ]
  },
  {
   "cell_type": "markdown",
   "metadata": {},
   "source": [
    "la carpeta landing en en bucket de S3 creado se le dan permisos publicos esto nos permite leer los archivos directo desde el bucket por su URL, como se hace en la seccion **5.4**\n"
   ]
  },
  {
   "cell_type": "markdown",
   "metadata": {},
   "source": [
    "<a name=\"e4_lect_local\"></a><hr style=\"border:1px solid black\"> </hr>\n",
    "\n",
    "## 5.4. [&#9678;](#e4) Lectura Base de Datos - Local\n",
    "\n",
    "1. [Sedes](#e4_sedes)\n",
    "2. [Clasificacion Planteles](#e4_planteles)\n",
    "3. [Puntaje estudiantes por Plantel](#e4_estudiantes)\n",
    "4. [Unificar Base de Datos](#e4_unificar)\n",
    "5. [Limpieza Base de datos](#e4_limpiar)\n",
    "\n",
    "<hr style=\"border:1px solid black\"> </hr>"
   ]
  },
  {
   "cell_type": "markdown",
   "metadata": {},
   "source": [
    "en caso de que se ejecute este codigo en local se deja este fragmento de codigo el cual carga los archivos y realiza la transformacion para obtener una unica base de datos identica a la obtenida desde AWS para poder trabajar con el notebook."
   ]
  },
  {
   "cell_type": "markdown",
   "metadata": {},
   "source": [
    "<a name=\"e4_sedes\"></a>\n",
    "## 5.4.1 [&#9680;](#e4_lect_local) Sedes\n",
    "<hr style=\"border:1px solid black\"> </hr>"
   ]
  },
  {
   "cell_type": "code",
   "execution_count": 29,
   "metadata": {},
   "outputs": [
    {
     "data": {
      "text/html": [
       "<div>\n",
       "<style scoped>\n",
       "    .dataframe tbody tr th:only-of-type {\n",
       "        vertical-align: middle;\n",
       "    }\n",
       "\n",
       "    .dataframe tbody tr th {\n",
       "        vertical-align: top;\n",
       "    }\n",
       "\n",
       "    .dataframe thead th {\n",
       "        text-align: right;\n",
       "    }\n",
       "</style>\n",
       "<table border=\"1\" class=\"dataframe\">\n",
       "  <thead>\n",
       "    <tr style=\"text-align: right;\">\n",
       "      <th></th>\n",
       "      <th>COD_COL</th>\n",
       "      <th>NOMBRE_DEPARTAMENTO</th>\n",
       "      <th>NOMBRE_MUNICIPIO</th>\n",
       "      <th>ZONA</th>\n",
       "      <th>LATITUD</th>\n",
       "      <th>LONGITUD</th>\n",
       "    </tr>\n",
       "  </thead>\n",
       "  <tbody>\n",
       "    <tr>\n",
       "      <th>42</th>\n",
       "      <td>4.050010e+11</td>\n",
       "      <td>ANTIOQUIA</td>\n",
       "      <td>MEDELLIN</td>\n",
       "      <td>Rural</td>\n",
       "      <td>6.181654</td>\n",
       "      <td>-75.642444</td>\n",
       "    </tr>\n",
       "    <tr>\n",
       "      <th>43</th>\n",
       "      <td>4.050010e+11</td>\n",
       "      <td>ANTIOQUIA</td>\n",
       "      <td>MEDELLIN</td>\n",
       "      <td>Rural</td>\n",
       "      <td>6.252417</td>\n",
       "      <td>-75.557074</td>\n",
       "    </tr>\n",
       "    <tr>\n",
       "      <th>45</th>\n",
       "      <td>4.050010e+11</td>\n",
       "      <td>ANTIOQUIA</td>\n",
       "      <td>MEDELLIN</td>\n",
       "      <td>Rural</td>\n",
       "      <td>6.175561</td>\n",
       "      <td>-75.644494</td>\n",
       "    </tr>\n",
       "  </tbody>\n",
       "</table>\n",
       "</div>"
      ],
      "text/plain": [
       "         COD_COL NOMBRE_DEPARTAMENTO NOMBRE_MUNICIPIO   ZONA   LATITUD  \\\n",
       "42  4.050010e+11           ANTIOQUIA         MEDELLIN  Rural  6.181654   \n",
       "43  4.050010e+11           ANTIOQUIA         MEDELLIN  Rural  6.252417   \n",
       "45  4.050010e+11           ANTIOQUIA         MEDELLIN  Rural  6.175561   \n",
       "\n",
       "     LONGITUD  \n",
       "42 -75.642444  \n",
       "43 -75.557074  \n",
       "45 -75.644494  "
      ]
     },
     "execution_count": 29,
     "metadata": {},
     "output_type": "execute_result"
    }
   ],
   "source": [
    "sedes = pd.read_csv('https://pidatalake.s3.amazonaws.com/landing/DANE/sedesSise_report.csv',\n",
    "                    encoding='latin-1', index_col= False,decimal=',')\n",
    "#sedes = pd.read_csv('..\\Datos\\sedesSise_report.csv', encoding='latin-1', index_col= False,decimal=',')\n",
    "sedes = sedes[['COD_COL','NOMBRE_DEPARTAMENTO','NOMBRE_MUNICIPIO','ZONA','LATITUD','LONGITUD']]\n",
    "sedes = sedes[sedes['NOMBRE_DEPARTAMENTO'] == 'ANTIOQUIA']\n",
    "sedes = sedes[sedes['LATITUD'] != 0]\n",
    "sedes = sedes[sedes['LATITUD'] != np.nan]\n",
    "sedes = sedes[sedes['LONGITUD'] != 0]\n",
    "sedes = sedes[sedes['LONGITUD'] != np.nan]\n",
    "sedes.reset_index(drop = True)\n",
    "sedes.head(3)"
   ]
  },
  {
   "cell_type": "markdown",
   "metadata": {},
   "source": [
    "| Variables | Descripción | Categoría |\n",
    "| :- | | -: |\n",
    "| COD_COL | Codigo unico del colegio | Categórica |\n",
    "| NOMBRE_DEPARTAMENTO| Departamento del colegio | Categorica|\n",
    "| NOMBRE_MUNICIPIO | Municipio del colegio | Categórica |\n",
    "| ZONA | Zona Colegio (Rural, Urbano) | Categórica |\n",
    "| LATITUD | Latitud ubicacion colegio | Numerica |\n",
    "| LONGITUD | Longitud ubicacion colegio | Numerica |"
   ]
  },
  {
   "cell_type": "markdown",
   "metadata": {},
   "source": [
    "<a name=\"e4_planteles\"></a>\n",
    "## 5.4.2 [&#9680;](#e4_lect_local) Clasificacion Planteles\n",
    "<hr style=\"border:1px solid black\"> </hr>"
   ]
  },
  {
   "cell_type": "code",
   "execution_count": 30,
   "metadata": {},
   "outputs": [
    {
     "data": {
      "text/html": [
       "<div>\n",
       "<style scoped>\n",
       "    .dataframe tbody tr th:only-of-type {\n",
       "        vertical-align: middle;\n",
       "    }\n",
       "\n",
       "    .dataframe tbody tr th {\n",
       "        vertical-align: top;\n",
       "    }\n",
       "\n",
       "    .dataframe thead th {\n",
       "        text-align: right;\n",
       "    }\n",
       "</style>\n",
       "<table border=\"1\" class=\"dataframe\">\n",
       "  <thead>\n",
       "    <tr style=\"text-align: right;\">\n",
       "      <th></th>\n",
       "      <th>COD_COL</th>\n",
       "      <th>COLE_INST_NOMBRE</th>\n",
       "      <th>COLE_DEPTO_COLEGIO</th>\n",
       "      <th>COLE_CALENDARIO_COLEGIO</th>\n",
       "      <th>COLE_GENEROPOBLACION</th>\n",
       "      <th>EVALUADOS_ULTIMOS_3</th>\n",
       "      <th>COLE_NATURALEZA</th>\n",
       "      <th>INDICE_MATEMATICAS</th>\n",
       "      <th>INDICE_C_NATURALES</th>\n",
       "      <th>INDICE_SOCIALES_CIUDADANAS</th>\n",
       "      <th>INDICE_LECTURA_CRITICA</th>\n",
       "      <th>INDICE_INGLES</th>\n",
       "      <th>INDICE_TOTAL</th>\n",
       "      <th>COLE_CATEGORIA</th>\n",
       "    </tr>\n",
       "  </thead>\n",
       "  <tbody>\n",
       "    <tr>\n",
       "      <th>0</th>\n",
       "      <td>205790000235</td>\n",
       "      <td>I. E. LA INMACULADA</td>\n",
       "      <td>ANTIOQUIA</td>\n",
       "      <td>A</td>\n",
       "      <td>MI</td>\n",
       "      <td>61</td>\n",
       "      <td>OFICIAL</td>\n",
       "      <td>0.5400</td>\n",
       "      <td>0.5809</td>\n",
       "      <td>0.5543</td>\n",
       "      <td>0.6150</td>\n",
       "      <td>0.5495</td>\n",
       "      <td>0.5708</td>\n",
       "      <td>D</td>\n",
       "    </tr>\n",
       "    <tr>\n",
       "      <th>3</th>\n",
       "      <td>105147000568</td>\n",
       "      <td>I. E. JOSE MARIA MUÑOZ FLOREZ</td>\n",
       "      <td>ANTIOQUIA</td>\n",
       "      <td>A</td>\n",
       "      <td>MI</td>\n",
       "      <td>262</td>\n",
       "      <td>OFICIAL</td>\n",
       "      <td>0.6977</td>\n",
       "      <td>0.6650</td>\n",
       "      <td>0.6726</td>\n",
       "      <td>0.7084</td>\n",
       "      <td>0.6564</td>\n",
       "      <td>0.6836</td>\n",
       "      <td>B</td>\n",
       "    </tr>\n",
       "    <tr>\n",
       "      <th>4</th>\n",
       "      <td>105147000401</td>\n",
       "      <td>I. E. COLOMBIA</td>\n",
       "      <td>ANTIOQUIA</td>\n",
       "      <td>A</td>\n",
       "      <td>MI</td>\n",
       "      <td>238</td>\n",
       "      <td>OFICIAL</td>\n",
       "      <td>0.6607</td>\n",
       "      <td>0.6462</td>\n",
       "      <td>0.6305</td>\n",
       "      <td>0.6924</td>\n",
       "      <td>0.6099</td>\n",
       "      <td>0.6538</td>\n",
       "      <td>C</td>\n",
       "    </tr>\n",
       "  </tbody>\n",
       "</table>\n",
       "</div>"
      ],
      "text/plain": [
       "        COD_COL               COLE_INST_NOMBRE COLE_DEPTO_COLEGIO  \\\n",
       "0  205790000235            I. E. LA INMACULADA          ANTIOQUIA   \n",
       "3  105147000568  I. E. JOSE MARIA MUÑOZ FLOREZ          ANTIOQUIA   \n",
       "4  105147000401                 I. E. COLOMBIA          ANTIOQUIA   \n",
       "\n",
       "  COLE_CALENDARIO_COLEGIO COLE_GENEROPOBLACION  EVALUADOS_ULTIMOS_3  \\\n",
       "0                       A                   MI                   61   \n",
       "3                       A                   MI                  262   \n",
       "4                       A                   MI                  238   \n",
       "\n",
       "  COLE_NATURALEZA  INDICE_MATEMATICAS  INDICE_C_NATURALES  \\\n",
       "0         OFICIAL              0.5400              0.5809   \n",
       "3         OFICIAL              0.6977              0.6650   \n",
       "4         OFICIAL              0.6607              0.6462   \n",
       "\n",
       "   INDICE_SOCIALES_CIUDADANAS  INDICE_LECTURA_CRITICA  INDICE_INGLES  \\\n",
       "0                      0.5543                  0.6150         0.5495   \n",
       "3                      0.6726                  0.7084         0.6564   \n",
       "4                      0.6305                  0.6924         0.6099   \n",
       "\n",
       "   INDICE_TOTAL COLE_CATEGORIA  \n",
       "0        0.5708              D  \n",
       "3        0.6836              B  \n",
       "4        0.6538              C  "
      ]
     },
     "execution_count": 30,
     "metadata": {},
     "output_type": "execute_result"
    }
   ],
   "source": [
    "#clasificacion = pd.read_csv('..\\Datos\\SB11-CLASIFI-PLANTELES-20182.txt', delimiter = '\\t', encoding='latin-1',decimal=',')\n",
    "clasificacion = pd.read_csv('https://pidatalake.s3.amazonaws.com/landing/ICFES/SB11-CLASIFI-PLANTELES-20182.txt', \n",
    "                            delimiter = '\\t', encoding='latin-1',decimal=',')\n",
    "clasificacion = clasificacion[['COLE_COD_DANE','COLE_INST_NOMBRE','COLE_DEPTO_COLEGIO','COLE_CALENDARIO_COLEGIO',\n",
    "                               'COLE_GENEROPOBLACION','EVALUADOS_ULTIMOS_3','COLE_NATURALEZA','INDICE_MATEMATICAS',\n",
    "                               'INDICE_C_NATURALES','INDICE_SOCIALES_CIUDADANAS','INDICE_LECTURA_CRITICA','INDICE_INGLES',\n",
    "                               'INDICE_TOTAL','COLE_CATEGORIA']]\n",
    "clasificacion = clasificacion.rename(columns={'COLE_COD_DANE': 'COD_COL'})\n",
    "clasificacion = clasificacion[clasificacion['COLE_DEPTO_COLEGIO']=='ANTIOQUIA']\n",
    "clasificacion.head(3)"
   ]
  },
  {
   "cell_type": "markdown",
   "metadata": {},
   "source": [
    "| Variables | Descripción | Categoría |\n",
    "| :- | | -: |\n",
    "| COD_COL | Codigo unico del colegio | Categórica |\n",
    "| COLE_INST_NOMBRE | Nombre del colegio | Categórica |\n",
    "| COLE_DEPTO_COLEGIO\t| Departamento del colegio | Categorica|\n",
    "| COLE_CALENDARIO_COLEGIO | Tipo de calendario academico | Categórica |\n",
    "| COLE_GENEROPOBLACION | Tipo genero de los estudiantes (Mixto,Femenino,Masculino) | Categórica |\n",
    "| EVALUADOS_ULTIMOS_3 | Numero de estudiantes que presentaron la prueba | Numerica |\n",
    "| COLE_NATURALEZA | Naturaleza Colegio (Oficial, No Oficial) | Categorica|\n",
    "| INDICE_MATEMATICAS | Resultado prueba en Matematicas | Numerica |\n",
    "| INDICE_C_NATURALES | Resultado prueba en Ciencias Naturales | Numerica |\n",
    "| INDICE_SOCIALES_CIUDADANAS | Resultado prueba en Sociales | Numerica |\n",
    "| INDICE_LECTURA_CRITICA | Resultado prueba en Lectura Critica | Numerica |\n",
    "| INDICE_INGLES | Resultado prueba en Ingles | Numerica |\n",
    "| INDICE_TOTAL | Resultado prueba total | Numerica |\n",
    "| COLE_CATEGORIA | Categioria asignada Colegio (D...A+)  | Numerica |"
   ]
  },
  {
   "cell_type": "markdown",
   "metadata": {},
   "source": [
    "<a name=\"e4_estudiantes\"></a>\n",
    "## 5.4.3 [&#9680;](#e4_lect_local) Puntaje estudiantes por Plantel\n",
    "<hr style=\"border:1px solid black\"> </hr>"
   ]
  },
  {
   "cell_type": "code",
   "execution_count": 31,
   "metadata": {},
   "outputs": [
    {
     "data": {
      "text/html": [
       "<div>\n",
       "<style scoped>\n",
       "    .dataframe tbody tr th:only-of-type {\n",
       "        vertical-align: middle;\n",
       "    }\n",
       "\n",
       "    .dataframe tbody tr th {\n",
       "        vertical-align: top;\n",
       "    }\n",
       "\n",
       "    .dataframe thead th {\n",
       "        text-align: right;\n",
       "    }\n",
       "</style>\n",
       "<table border=\"1\" class=\"dataframe\">\n",
       "  <thead>\n",
       "    <tr style=\"text-align: right;\">\n",
       "      <th></th>\n",
       "      <th>FAMI_ESTRATOVIVIENDA</th>\n",
       "      <th>FAMI_EDUCACIONPADRE</th>\n",
       "      <th>FAMI_EDUCACIONMADRE</th>\n",
       "      <th>ESTU_HORASSEMANATRABAJA</th>\n",
       "      <th>COD_COL</th>\n",
       "      <th>COLE_BILINGUE</th>\n",
       "      <th>COLE_CARACTER</th>\n",
       "      <th>COLE_DEPTO_UBICACION</th>\n",
       "    </tr>\n",
       "  </thead>\n",
       "  <tbody>\n",
       "    <tr>\n",
       "      <th>1</th>\n",
       "      <td>Estrato 1</td>\n",
       "      <td>Primaria incompleta</td>\n",
       "      <td>Primaria incompleta</td>\n",
       "      <td>Entre 11 y 20 horas</td>\n",
       "      <td>205051001339</td>\n",
       "      <td>NaN</td>\n",
       "      <td>ACADÉMICO</td>\n",
       "      <td>ANTIOQUIA</td>\n",
       "    </tr>\n",
       "    <tr>\n",
       "      <th>11</th>\n",
       "      <td>Estrato 2</td>\n",
       "      <td>Primaria incompleta</td>\n",
       "      <td>Secundaria (Bachillerato) incompleta</td>\n",
       "      <td>Menos de 10 horas</td>\n",
       "      <td>105658000124</td>\n",
       "      <td>N</td>\n",
       "      <td>TÉCNICO/ACADÉMICO</td>\n",
       "      <td>ANTIOQUIA</td>\n",
       "    </tr>\n",
       "    <tr>\n",
       "      <th>14</th>\n",
       "      <td>Estrato 2</td>\n",
       "      <td>Secundaria (Bachillerato) incompleta</td>\n",
       "      <td>Secundaria (Bachillerato) completa</td>\n",
       "      <td>0</td>\n",
       "      <td>105088002705</td>\n",
       "      <td>N</td>\n",
       "      <td>ACADÉMICO</td>\n",
       "      <td>ANTIOQUIA</td>\n",
       "    </tr>\n",
       "    <tr>\n",
       "      <th>42</th>\n",
       "      <td>NaN</td>\n",
       "      <td>NaN</td>\n",
       "      <td>NaN</td>\n",
       "      <td>Menos de 10 horas</td>\n",
       "      <td>105234000531</td>\n",
       "      <td>N</td>\n",
       "      <td>TÉCNICO/ACADÉMICO</td>\n",
       "      <td>ANTIOQUIA</td>\n",
       "    </tr>\n",
       "    <tr>\n",
       "      <th>54</th>\n",
       "      <td>Estrato 1</td>\n",
       "      <td>Primaria incompleta</td>\n",
       "      <td>Primaria incompleta</td>\n",
       "      <td>Más de 30 horas</td>\n",
       "      <td>105756000493</td>\n",
       "      <td>N</td>\n",
       "      <td>TÉCNICO/ACADÉMICO</td>\n",
       "      <td>ANTIOQUIA</td>\n",
       "    </tr>\n",
       "    <tr>\n",
       "      <th>61</th>\n",
       "      <td>Estrato 3</td>\n",
       "      <td>Técnica o tecnológica completa</td>\n",
       "      <td>Educación profesional completa</td>\n",
       "      <td>Menos de 10 horas</td>\n",
       "      <td>105266000061</td>\n",
       "      <td>N</td>\n",
       "      <td>TÉCNICO/ACADÉMICO</td>\n",
       "      <td>ANTIOQUIA</td>\n",
       "    </tr>\n",
       "    <tr>\n",
       "      <th>68</th>\n",
       "      <td>NaN</td>\n",
       "      <td>NaN</td>\n",
       "      <td>NaN</td>\n",
       "      <td>NaN</td>\n",
       "      <td>305001022607</td>\n",
       "      <td>N</td>\n",
       "      <td>ACADÉMICO</td>\n",
       "      <td>ANTIOQUIA</td>\n",
       "    </tr>\n",
       "    <tr>\n",
       "      <th>79</th>\n",
       "      <td>Estrato 2</td>\n",
       "      <td>Educación profesional completa</td>\n",
       "      <td>Educación profesional completa</td>\n",
       "      <td>0</td>\n",
       "      <td>105490000026</td>\n",
       "      <td>N</td>\n",
       "      <td>ACADÉMICO</td>\n",
       "      <td>ANTIOQUIA</td>\n",
       "    </tr>\n",
       "    <tr>\n",
       "      <th>93</th>\n",
       "      <td>Estrato 2</td>\n",
       "      <td>Secundaria (Bachillerato) completa</td>\n",
       "      <td>Educación profesional completa</td>\n",
       "      <td>0</td>\n",
       "      <td>305360000040</td>\n",
       "      <td>N</td>\n",
       "      <td>ACADÉMICO</td>\n",
       "      <td>ANTIOQUIA</td>\n",
       "    </tr>\n",
       "    <tr>\n",
       "      <th>101</th>\n",
       "      <td>Estrato 1</td>\n",
       "      <td>Primaria incompleta</td>\n",
       "      <td>Secundaria (Bachillerato) incompleta</td>\n",
       "      <td>0</td>\n",
       "      <td>105250000169</td>\n",
       "      <td>N</td>\n",
       "      <td>TÉCNICO/ACADÉMICO</td>\n",
       "      <td>ANTIOQUIA</td>\n",
       "    </tr>\n",
       "  </tbody>\n",
       "</table>\n",
       "</div>"
      ],
      "text/plain": [
       "    FAMI_ESTRATOVIVIENDA                   FAMI_EDUCACIONPADRE  \\\n",
       "1              Estrato 1                   Primaria incompleta   \n",
       "11             Estrato 2                   Primaria incompleta   \n",
       "14             Estrato 2  Secundaria (Bachillerato) incompleta   \n",
       "42                   NaN                                   NaN   \n",
       "54             Estrato 1                   Primaria incompleta   \n",
       "61             Estrato 3        Técnica o tecnológica completa   \n",
       "68                   NaN                                   NaN   \n",
       "79             Estrato 2        Educación profesional completa   \n",
       "93             Estrato 2    Secundaria (Bachillerato) completa   \n",
       "101            Estrato 1                   Primaria incompleta   \n",
       "\n",
       "                      FAMI_EDUCACIONMADRE ESTU_HORASSEMANATRABAJA  \\\n",
       "1                     Primaria incompleta     Entre 11 y 20 horas   \n",
       "11   Secundaria (Bachillerato) incompleta       Menos de 10 horas   \n",
       "14     Secundaria (Bachillerato) completa                       0   \n",
       "42                                    NaN       Menos de 10 horas   \n",
       "54                    Primaria incompleta         Más de 30 horas   \n",
       "61         Educación profesional completa       Menos de 10 horas   \n",
       "68                                    NaN                     NaN   \n",
       "79         Educación profesional completa                       0   \n",
       "93         Educación profesional completa                       0   \n",
       "101  Secundaria (Bachillerato) incompleta                       0   \n",
       "\n",
       "          COD_COL COLE_BILINGUE      COLE_CARACTER COLE_DEPTO_UBICACION  \n",
       "1    205051001339           NaN          ACADÉMICO            ANTIOQUIA  \n",
       "11   105658000124             N  TÉCNICO/ACADÉMICO            ANTIOQUIA  \n",
       "14   105088002705             N          ACADÉMICO            ANTIOQUIA  \n",
       "42   105234000531             N  TÉCNICO/ACADÉMICO            ANTIOQUIA  \n",
       "54   105756000493             N  TÉCNICO/ACADÉMICO            ANTIOQUIA  \n",
       "61   105266000061             N  TÉCNICO/ACADÉMICO            ANTIOQUIA  \n",
       "68   305001022607             N          ACADÉMICO            ANTIOQUIA  \n",
       "79   105490000026             N          ACADÉMICO            ANTIOQUIA  \n",
       "93   305360000040             N          ACADÉMICO            ANTIOQUIA  \n",
       "101  105250000169             N  TÉCNICO/ACADÉMICO            ANTIOQUIA  "
      ]
     },
     "execution_count": 31,
     "metadata": {},
     "output_type": "execute_result"
    }
   ],
   "source": [
    "#df_puntaje = pd.read_csv('..\\Datos\\puntaje.csv', delimiter = ';', encoding='latin-1',decimal=',',low_memory=False)\n",
    "df_puntaje = pd.read_csv('https://pidatalake.s3.amazonaws.com/landing/ICFES/puntaje.csv',\n",
    "                         delimiter = ';', encoding='latin-1',decimal=',',low_memory=False)\n",
    "df_puntaje = df_puntaje[['FAMI_ESTRATOVIVIENDA','FAMI_EDUCACIONPADRE','FAMI_EDUCACIONMADRE','ESTU_HORASSEMANATRABAJA','COLE_COD_DANE_ESTABLECIMIENTO','COLE_BILINGUE','COLE_CARACTER','COLE_DEPTO_UBICACION']]\n",
    "df_puntaje = df_puntaje.rename(columns={'COLE_COD_DANE_ESTABLECIMIENTO': 'COD_COL'})\n",
    "df_puntaje = df_puntaje[df_puntaje['COLE_DEPTO_UBICACION'] == 'ANTIOQUIA']\n",
    "df_puntaje.head(10)"
   ]
  },
  {
   "cell_type": "code",
   "execution_count": 32,
   "metadata": {},
   "outputs": [
    {
     "data": {
      "text/html": [
       "<div>\n",
       "<style scoped>\n",
       "    .dataframe tbody tr th:only-of-type {\n",
       "        vertical-align: middle;\n",
       "    }\n",
       "\n",
       "    .dataframe tbody tr th {\n",
       "        vertical-align: top;\n",
       "    }\n",
       "\n",
       "    .dataframe thead th {\n",
       "        text-align: right;\n",
       "    }\n",
       "</style>\n",
       "<table border=\"1\" class=\"dataframe\">\n",
       "  <thead>\n",
       "    <tr style=\"text-align: right;\">\n",
       "      <th></th>\n",
       "      <th>MODE_ESTRATOVIVIENDA</th>\n",
       "      <th>IND_EST_TRAB</th>\n",
       "      <th>MODE_EDU_MADRE</th>\n",
       "      <th>MODE_EDU_PADRE</th>\n",
       "      <th>IND_BILINGUE</th>\n",
       "      <th>CARACTER_IE</th>\n",
       "    </tr>\n",
       "    <tr>\n",
       "      <th>COD_COL</th>\n",
       "      <th></th>\n",
       "      <th></th>\n",
       "      <th></th>\n",
       "      <th></th>\n",
       "      <th></th>\n",
       "      <th></th>\n",
       "    </tr>\n",
       "  </thead>\n",
       "  <tbody>\n",
       "    <tr>\n",
       "      <th>105001000001</th>\n",
       "      <td>Estrato 2</td>\n",
       "      <td>0</td>\n",
       "      <td>Secundaria (Bachillerato) completa</td>\n",
       "      <td>Primaria incompleta</td>\n",
       "      <td>N</td>\n",
       "      <td>ACADÉMICO</td>\n",
       "    </tr>\n",
       "    <tr>\n",
       "      <th>105001000043</th>\n",
       "      <td>Estrato 2</td>\n",
       "      <td>0</td>\n",
       "      <td>Secundaria (Bachillerato) completa</td>\n",
       "      <td>Primaria incompleta</td>\n",
       "      <td>N</td>\n",
       "      <td>ACADÉMICO</td>\n",
       "    </tr>\n",
       "    <tr>\n",
       "      <th>105001000108</th>\n",
       "      <td>Estrato 2</td>\n",
       "      <td>0</td>\n",
       "      <td>Secundaria (Bachillerato) completa</td>\n",
       "      <td>Secundaria (Bachillerato) completa</td>\n",
       "      <td>N</td>\n",
       "      <td>TÉCNICO/ACADÉMICO</td>\n",
       "    </tr>\n",
       "    <tr>\n",
       "      <th>105001000132</th>\n",
       "      <td>Estrato 3</td>\n",
       "      <td>0</td>\n",
       "      <td>Secundaria (Bachillerato) completa</td>\n",
       "      <td>Secundaria (Bachillerato) completa</td>\n",
       "      <td>None</td>\n",
       "      <td>ACADÉMICO</td>\n",
       "    </tr>\n",
       "    <tr>\n",
       "      <th>105001000141</th>\n",
       "      <td>Estrato 3</td>\n",
       "      <td>0</td>\n",
       "      <td>Secundaria (Bachillerato) completa</td>\n",
       "      <td>Secundaria (Bachillerato) completa</td>\n",
       "      <td>N</td>\n",
       "      <td>ACADÉMICO</td>\n",
       "    </tr>\n",
       "    <tr>\n",
       "      <th>105001000175</th>\n",
       "      <td>Estrato 2</td>\n",
       "      <td>0</td>\n",
       "      <td>Secundaria (Bachillerato) completa</td>\n",
       "      <td>Secundaria (Bachillerato) completa</td>\n",
       "      <td>N</td>\n",
       "      <td>TÉCNICO/ACADÉMICO</td>\n",
       "    </tr>\n",
       "    <tr>\n",
       "      <th>105001000205</th>\n",
       "      <td>Estrato 2</td>\n",
       "      <td>0</td>\n",
       "      <td>Secundaria (Bachillerato) completa</td>\n",
       "      <td>Secundaria (Bachillerato) completa</td>\n",
       "      <td>None</td>\n",
       "      <td>ACADÉMICO</td>\n",
       "    </tr>\n",
       "    <tr>\n",
       "      <th>105001000256</th>\n",
       "      <td>Estrato 2</td>\n",
       "      <td>0</td>\n",
       "      <td>Secundaria (Bachillerato) completa</td>\n",
       "      <td>Primaria incompleta</td>\n",
       "      <td>N</td>\n",
       "      <td>TÉCNICO/ACADÉMICO</td>\n",
       "    </tr>\n",
       "    <tr>\n",
       "      <th>105001000353</th>\n",
       "      <td>Estrato 3</td>\n",
       "      <td>0</td>\n",
       "      <td>Secundaria (Bachillerato) completa</td>\n",
       "      <td>Secundaria (Bachillerato) completa</td>\n",
       "      <td>N</td>\n",
       "      <td>ACADÉMICO</td>\n",
       "    </tr>\n",
       "    <tr>\n",
       "      <th>105001000396</th>\n",
       "      <td>Estrato 2</td>\n",
       "      <td>0</td>\n",
       "      <td>Secundaria (Bachillerato) completa</td>\n",
       "      <td>Secundaria (Bachillerato) completa</td>\n",
       "      <td>N</td>\n",
       "      <td>TÉCNICO/ACADÉMICO</td>\n",
       "    </tr>\n",
       "  </tbody>\n",
       "</table>\n",
       "</div>"
      ],
      "text/plain": [
       "             MODE_ESTRATOVIVIENDA  IND_EST_TRAB  \\\n",
       "COD_COL                                           \n",
       "105001000001            Estrato 2             0   \n",
       "105001000043            Estrato 2             0   \n",
       "105001000108            Estrato 2             0   \n",
       "105001000132            Estrato 3             0   \n",
       "105001000141            Estrato 3             0   \n",
       "105001000175            Estrato 2             0   \n",
       "105001000205            Estrato 2             0   \n",
       "105001000256            Estrato 2             0   \n",
       "105001000353            Estrato 3             0   \n",
       "105001000396            Estrato 2             0   \n",
       "\n",
       "                                  MODE_EDU_MADRE  \\\n",
       "COD_COL                                            \n",
       "105001000001  Secundaria (Bachillerato) completa   \n",
       "105001000043  Secundaria (Bachillerato) completa   \n",
       "105001000108  Secundaria (Bachillerato) completa   \n",
       "105001000132  Secundaria (Bachillerato) completa   \n",
       "105001000141  Secundaria (Bachillerato) completa   \n",
       "105001000175  Secundaria (Bachillerato) completa   \n",
       "105001000205  Secundaria (Bachillerato) completa   \n",
       "105001000256  Secundaria (Bachillerato) completa   \n",
       "105001000353  Secundaria (Bachillerato) completa   \n",
       "105001000396  Secundaria (Bachillerato) completa   \n",
       "\n",
       "                                  MODE_EDU_PADRE IND_BILINGUE  \\\n",
       "COD_COL                                                         \n",
       "105001000001                 Primaria incompleta            N   \n",
       "105001000043                 Primaria incompleta            N   \n",
       "105001000108  Secundaria (Bachillerato) completa            N   \n",
       "105001000132  Secundaria (Bachillerato) completa         None   \n",
       "105001000141  Secundaria (Bachillerato) completa            N   \n",
       "105001000175  Secundaria (Bachillerato) completa            N   \n",
       "105001000205  Secundaria (Bachillerato) completa         None   \n",
       "105001000256                 Primaria incompleta            N   \n",
       "105001000353  Secundaria (Bachillerato) completa            N   \n",
       "105001000396  Secundaria (Bachillerato) completa            N   \n",
       "\n",
       "                    CARACTER_IE  \n",
       "COD_COL                          \n",
       "105001000001          ACADÉMICO  \n",
       "105001000043          ACADÉMICO  \n",
       "105001000108  TÉCNICO/ACADÉMICO  \n",
       "105001000132          ACADÉMICO  \n",
       "105001000141          ACADÉMICO  \n",
       "105001000175  TÉCNICO/ACADÉMICO  \n",
       "105001000205          ACADÉMICO  \n",
       "105001000256  TÉCNICO/ACADÉMICO  \n",
       "105001000353          ACADÉMICO  \n",
       "105001000396  TÉCNICO/ACADÉMICO  "
      ]
     },
     "execution_count": 32,
     "metadata": {},
     "output_type": "execute_result"
    }
   ],
   "source": [
    "df_IE= pd.DataFrame(columns=['MODE_ESTRATOVIVIENDA','IND_EST_TRAB','MODE_EDU_MADRE','MODE_EDU_PADRE','IND_BILINGUE','CARACTER_IE'])\n",
    "df_IE['MODE_ESTRATOVIVIENDA']= df_puntaje.groupby(['COD_COL']).agg({'FAMI_ESTRATOVIVIENDA':pd.Series.mode})['FAMI_ESTRATOVIVIENDA'].apply(lambda x: x if isinstance(x,str) else x[0])\n",
    "df_IE['IND_EST_TRAB']=df_puntaje.groupby(['COD_COL']).agg({'ESTU_HORASSEMANATRABAJA':pd.Series.mode})['ESTU_HORASSEMANATRABAJA'].apply(lambda x: 0 if x[0]=='0' else 1 )\n",
    "df_IE['MODE_EDU_MADRE']= df_puntaje.groupby(['COD_COL']).agg({'FAMI_EDUCACIONMADRE':pd.Series.mode})['FAMI_EDUCACIONMADRE'].apply(lambda x: x if isinstance(x,str) else x[0])\n",
    "df_IE['MODE_EDU_PADRE']= df_puntaje.groupby(['COD_COL']).agg({'FAMI_EDUCACIONPADRE':pd.Series.mode})['FAMI_EDUCACIONPADRE'].apply(lambda x: x if isinstance(x,str) else x[0])\n",
    "df_IE['IND_BILINGUE']= df_puntaje.groupby(['COD_COL']).agg({'COLE_BILINGUE':pd.Series.mode})['COLE_BILINGUE'].apply(lambda x: x if x in ['N','S'] else None )\n",
    "df_IE['CARACTER_IE']= df_puntaje.groupby(['COD_COL']).agg({'COLE_CARACTER':pd.Series.mode})['COLE_CARACTER'].apply(lambda x: x if x in ['ACADÉMICO','TÉCNICO/ACADÉMICO','NO APLICA','TÉCNICO'] else None )\n",
    "df_IE.head(10)"
   ]
  },
  {
   "cell_type": "markdown",
   "metadata": {},
   "source": [
    "| Variables | Descripción | Categoría |\n",
    "| :- | | -: |\n",
    "| COD_COL | Codigo unico del colegio | Categórica |\n",
    "| MODE_ESTRATOVIVIENDA | Estrato mas comun de los estudiantes del colegio | Categorica |\n",
    "| IND_EST_TRAB | Estudiante Trabaja (Si 1, No 0) | Categorica |\n",
    "| MODE_EDU_MADRE | Educacion Madre mas comun de los estudiantes del colegio | Categorica |\n",
    "| MODE_EDU_PADRE | Educacion Padre mas comun de los estudiantes del colegio | Categorica |\n",
    "| IND_BILINGUE | Colegio Bilingue (N, S) | Categorica |\n",
    "| CARACTER_IE | Caracter Institucion Educativa (Tecnico, Academico) | Categorica |\n"
   ]
  },
  {
   "cell_type": "markdown",
   "metadata": {},
   "source": [
    "<a name=\"e4_unificar\"></a>\n",
    "## 5.4.4 [&#9680;](#e4_lect_local) Unificar Base de Datos\n",
    "<hr style=\"border:1px solid black\"> </hr>"
   ]
  },
  {
   "cell_type": "code",
   "execution_count": 33,
   "metadata": {},
   "outputs": [
    {
     "data": {
      "text/html": [
       "<div>\n",
       "<style scoped>\n",
       "    .dataframe tbody tr th:only-of-type {\n",
       "        vertical-align: middle;\n",
       "    }\n",
       "\n",
       "    .dataframe tbody tr th {\n",
       "        vertical-align: top;\n",
       "    }\n",
       "\n",
       "    .dataframe thead th {\n",
       "        text-align: right;\n",
       "    }\n",
       "</style>\n",
       "<table border=\"1\" class=\"dataframe\">\n",
       "  <thead>\n",
       "    <tr style=\"text-align: right;\">\n",
       "      <th></th>\n",
       "      <th>COD_COL</th>\n",
       "      <th>COLE_INST_NOMBRE</th>\n",
       "      <th>COLE_DEPTO_COLEGIO</th>\n",
       "      <th>COLE_CALENDARIO_COLEGIO</th>\n",
       "      <th>COLE_GENEROPOBLACION</th>\n",
       "      <th>EVALUADOS_ULTIMOS_3</th>\n",
       "      <th>COLE_NATURALEZA</th>\n",
       "      <th>INDICE_MATEMATICAS</th>\n",
       "      <th>INDICE_C_NATURALES</th>\n",
       "      <th>INDICE_SOCIALES_CIUDADANAS</th>\n",
       "      <th>...</th>\n",
       "      <th>NOMBRE_MUNICIPIO</th>\n",
       "      <th>ZONA</th>\n",
       "      <th>LATITUD</th>\n",
       "      <th>LONGITUD</th>\n",
       "      <th>MODE_ESTRATOVIVIENDA</th>\n",
       "      <th>IND_EST_TRAB</th>\n",
       "      <th>MODE_EDU_MADRE</th>\n",
       "      <th>MODE_EDU_PADRE</th>\n",
       "      <th>IND_BILINGUE</th>\n",
       "      <th>CARACTER_IE</th>\n",
       "    </tr>\n",
       "  </thead>\n",
       "  <tbody>\n",
       "    <tr>\n",
       "      <th>0</th>\n",
       "      <td>205790000235</td>\n",
       "      <td>I. E. LA INMACULADA</td>\n",
       "      <td>ANTIOQUIA</td>\n",
       "      <td>A</td>\n",
       "      <td>MI</td>\n",
       "      <td>61</td>\n",
       "      <td>OFICIAL</td>\n",
       "      <td>0.5400</td>\n",
       "      <td>0.5809</td>\n",
       "      <td>0.5543</td>\n",
       "      <td>...</td>\n",
       "      <td>TARAZA</td>\n",
       "      <td>Rural</td>\n",
       "      <td>7.444544</td>\n",
       "      <td>-75.307755</td>\n",
       "      <td>Estrato 1</td>\n",
       "      <td>0</td>\n",
       "      <td>Primaria incompleta</td>\n",
       "      <td>Primaria incompleta</td>\n",
       "      <td>N</td>\n",
       "      <td>ACADÉMICO</td>\n",
       "    </tr>\n",
       "    <tr>\n",
       "      <th>1</th>\n",
       "      <td>105147000568</td>\n",
       "      <td>I. E. JOSE MARIA MUÑOZ FLOREZ</td>\n",
       "      <td>ANTIOQUIA</td>\n",
       "      <td>A</td>\n",
       "      <td>MI</td>\n",
       "      <td>262</td>\n",
       "      <td>OFICIAL</td>\n",
       "      <td>0.6977</td>\n",
       "      <td>0.6650</td>\n",
       "      <td>0.6726</td>\n",
       "      <td>...</td>\n",
       "      <td>CAREPA</td>\n",
       "      <td>Urbano</td>\n",
       "      <td>7.758815</td>\n",
       "      <td>-76.658278</td>\n",
       "      <td>Estrato 2</td>\n",
       "      <td>0</td>\n",
       "      <td>Secundaria (Bachillerato) completa</td>\n",
       "      <td>Secundaria (Bachillerato) completa</td>\n",
       "      <td>N</td>\n",
       "      <td>TÉCNICO/ACADÉMICO</td>\n",
       "    </tr>\n",
       "    <tr>\n",
       "      <th>2</th>\n",
       "      <td>105147000401</td>\n",
       "      <td>I. E. COLOMBIA</td>\n",
       "      <td>ANTIOQUIA</td>\n",
       "      <td>A</td>\n",
       "      <td>MI</td>\n",
       "      <td>238</td>\n",
       "      <td>OFICIAL</td>\n",
       "      <td>0.6607</td>\n",
       "      <td>0.6462</td>\n",
       "      <td>0.6305</td>\n",
       "      <td>...</td>\n",
       "      <td>CAREPA</td>\n",
       "      <td>Urbano</td>\n",
       "      <td>7.758056</td>\n",
       "      <td>-76.651667</td>\n",
       "      <td>Estrato 2</td>\n",
       "      <td>0</td>\n",
       "      <td>Secundaria (Bachillerato) completa</td>\n",
       "      <td>Primaria incompleta</td>\n",
       "      <td>N</td>\n",
       "      <td>ACADÉMICO</td>\n",
       "    </tr>\n",
       "  </tbody>\n",
       "</table>\n",
       "<p>3 rows × 25 columns</p>\n",
       "</div>"
      ],
      "text/plain": [
       "        COD_COL               COLE_INST_NOMBRE COLE_DEPTO_COLEGIO  \\\n",
       "0  205790000235            I. E. LA INMACULADA          ANTIOQUIA   \n",
       "1  105147000568  I. E. JOSE MARIA MUÑOZ FLOREZ          ANTIOQUIA   \n",
       "2  105147000401                 I. E. COLOMBIA          ANTIOQUIA   \n",
       "\n",
       "  COLE_CALENDARIO_COLEGIO COLE_GENEROPOBLACION  EVALUADOS_ULTIMOS_3  \\\n",
       "0                       A                   MI                   61   \n",
       "1                       A                   MI                  262   \n",
       "2                       A                   MI                  238   \n",
       "\n",
       "  COLE_NATURALEZA  INDICE_MATEMATICAS  INDICE_C_NATURALES  \\\n",
       "0         OFICIAL              0.5400              0.5809   \n",
       "1         OFICIAL              0.6977              0.6650   \n",
       "2         OFICIAL              0.6607              0.6462   \n",
       "\n",
       "   INDICE_SOCIALES_CIUDADANAS  ...  NOMBRE_MUNICIPIO    ZONA   LATITUD  \\\n",
       "0                      0.5543  ...            TARAZA   Rural  7.444544   \n",
       "1                      0.6726  ...            CAREPA  Urbano  7.758815   \n",
       "2                      0.6305  ...            CAREPA  Urbano  7.758056   \n",
       "\n",
       "    LONGITUD MODE_ESTRATOVIVIENDA IND_EST_TRAB  \\\n",
       "0 -75.307755            Estrato 1            0   \n",
       "1 -76.658278            Estrato 2            0   \n",
       "2 -76.651667            Estrato 2            0   \n",
       "\n",
       "                       MODE_EDU_MADRE                      MODE_EDU_PADRE  \\\n",
       "0                 Primaria incompleta                 Primaria incompleta   \n",
       "1  Secundaria (Bachillerato) completa  Secundaria (Bachillerato) completa   \n",
       "2  Secundaria (Bachillerato) completa                 Primaria incompleta   \n",
       "\n",
       "   IND_BILINGUE        CARACTER_IE  \n",
       "0             N          ACADÉMICO  \n",
       "1             N  TÉCNICO/ACADÉMICO  \n",
       "2             N          ACADÉMICO  \n",
       "\n",
       "[3 rows x 25 columns]"
      ]
     },
     "execution_count": 33,
     "metadata": {},
     "output_type": "execute_result"
    }
   ],
   "source": [
    "df = pd.merge(clasificacion,sedes,how='inner',on='COD_COL')\n",
    "df = pd.merge(df,df_IE,how='inner',on='COD_COL')\n",
    "df.head(3)"
   ]
  },
  {
   "cell_type": "code",
   "execution_count": 34,
   "metadata": {},
   "outputs": [
    {
     "name": "stdout",
     "output_type": "stream",
     "text": [
      "<class 'pandas.core.frame.DataFrame'>\n",
      "Int64Index: 968 entries, 0 to 967\n",
      "Data columns (total 25 columns):\n",
      " #   Column                      Non-Null Count  Dtype  \n",
      "---  ------                      --------------  -----  \n",
      " 0   COD_COL                     968 non-null    int64  \n",
      " 1   COLE_INST_NOMBRE            968 non-null    object \n",
      " 2   COLE_DEPTO_COLEGIO          968 non-null    object \n",
      " 3   COLE_CALENDARIO_COLEGIO     968 non-null    object \n",
      " 4   COLE_GENEROPOBLACION        968 non-null    object \n",
      " 5   EVALUADOS_ULTIMOS_3         968 non-null    int64  \n",
      " 6   COLE_NATURALEZA             968 non-null    object \n",
      " 7   INDICE_MATEMATICAS          968 non-null    float64\n",
      " 8   INDICE_C_NATURALES          968 non-null    float64\n",
      " 9   INDICE_SOCIALES_CIUDADANAS  968 non-null    float64\n",
      " 10  INDICE_LECTURA_CRITICA      968 non-null    float64\n",
      " 11  INDICE_INGLES               968 non-null    float64\n",
      " 12  INDICE_TOTAL                968 non-null    float64\n",
      " 13  COLE_CATEGORIA              968 non-null    object \n",
      " 14  NOMBRE_DEPARTAMENTO         968 non-null    object \n",
      " 15  NOMBRE_MUNICIPIO            968 non-null    object \n",
      " 16  ZONA                        968 non-null    object \n",
      " 17  LATITUD                     968 non-null    float64\n",
      " 18  LONGITUD                    968 non-null    float64\n",
      " 19  MODE_ESTRATOVIVIENDA        968 non-null    object \n",
      " 20  IND_EST_TRAB                968 non-null    int64  \n",
      " 21  MODE_EDU_MADRE              968 non-null    object \n",
      " 22  MODE_EDU_PADRE              968 non-null    object \n",
      " 23  IND_BILINGUE                792 non-null    object \n",
      " 24  CARACTER_IE                 954 non-null    object \n",
      "dtypes: float64(8), int64(3), object(14)\n",
      "memory usage: 196.6+ KB\n"
     ]
    }
   ],
   "source": [
    "numericas = ['INDICE_MATEMATICAS','INDICE_C_NATURALES','INDICE_SOCIALES_CIUDADANAS','INDICE_LECTURA_CRITICA',\n",
    "            'INDICE_INGLES','INDICE_TOTAL','EVALUADOS_ULTIMOS_3']\n",
    "df[numericas] = df[numericas].apply(pd.to_numeric)\n",
    "df.info()"
   ]
  },
  {
   "cell_type": "markdown",
   "metadata": {},
   "source": [
    "<a name=\"e4_limpiar\"></a>\n",
    "## 5.4.5 [&#9680;](#e4_lect_local) Limpieza Base de datos\n",
    "<hr style=\"border:1px solid black\"> </hr>"
   ]
  },
  {
   "cell_type": "code",
   "execution_count": 35,
   "metadata": {},
   "outputs": [],
   "source": [
    "#Segmentación de variables en numericas y texto\n",
    "Obj_Col= df.select_dtypes(include='object').columns\n",
    "numerics = ['int16', 'int32', 'int64', 'float16', 'float32', 'float64']\n",
    "Num_df = df.select_dtypes(include=numerics)"
   ]
  },
  {
   "cell_type": "code",
   "execution_count": 36,
   "metadata": {},
   "outputs": [],
   "source": [
    "#Limpieza de tildes y 'ñ' del texto para correcta visualización\n",
    "for i in Obj_Col:\n",
    "    df[i] = df[i].apply(lambda x: unicodedata.normalize(\"NFKD\", str(x)).encode(\"ascii\",\"ignore\").decode(\"ascii\"))"
   ]
  },
  {
   "cell_type": "code",
   "execution_count": 37,
   "metadata": {},
   "outputs": [
    {
     "data": {
      "text/plain": [
       "COD_COL                         int64\n",
       "COLE_INST_NOMBRE               object\n",
       "COLE_DEPTO_COLEGIO             object\n",
       "COLE_CALENDARIO_COLEGIO        object\n",
       "COLE_GENEROPOBLACION           object\n",
       "EVALUADOS_ULTIMOS_3             int64\n",
       "COLE_NATURALEZA                object\n",
       "INDICE_MATEMATICAS            float64\n",
       "INDICE_C_NATURALES            float64\n",
       "INDICE_SOCIALES_CIUDADANAS    float64\n",
       "INDICE_LECTURA_CRITICA        float64\n",
       "INDICE_INGLES                 float64\n",
       "INDICE_TOTAL                  float64\n",
       "COLE_CATEGORIA                 object\n",
       "NOMBRE_DEPARTAMENTO            object\n",
       "NOMBRE_MUNICIPIO               object\n",
       "ZONA                           object\n",
       "LATITUD                       float64\n",
       "LONGITUD                      float64\n",
       "MODE_ESTRATOVIVIENDA           object\n",
       "IND_EST_TRAB                    int64\n",
       "MODE_EDU_MADRE                 object\n",
       "MODE_EDU_PADRE                 object\n",
       "IND_BILINGUE                   object\n",
       "CARACTER_IE                    object\n",
       "dtype: object"
      ]
     },
     "execution_count": 37,
     "metadata": {},
     "output_type": "execute_result"
    }
   ],
   "source": [
    "#Casteo de variables númericas \n",
    "numericas = ['INDICE_MATEMATICAS','INDICE_C_NATURALES','INDICE_SOCIALES_CIUDADANAS','INDICE_LECTURA_CRITICA',\n",
    "            'INDICE_INGLES','INDICE_TOTAL']\n",
    "df[numericas] = df[numericas].apply(pd.to_numeric)\n",
    "df.dtypes"
   ]
  },
  {
   "cell_type": "code",
   "execution_count": 38,
   "metadata": {},
   "outputs": [],
   "source": [
    "#Metrica de ajuste del indice total de las instituciones con el número de estudiantes evaluados \n",
    "C= df['INDICE_TOTAL'].mean()\n",
    "m=df['EVALUADOS_ULTIMOS_3'].quantile(.90) \n",
    "def calculo_metrica (df):\n",
    "    v= df['EVALUADOS_ULTIMOS_3']\n",
    "    R= df['INDICE_TOTAL']\n",
    "    metric = (v/(v+m) *R)+( v/(v+m) *C)\n",
    "    return metric"
   ]
  },
  {
   "cell_type": "code",
   "execution_count": 39,
   "metadata": {},
   "outputs": [
    {
     "data": {
      "text/html": [
       "<div>\n",
       "<style scoped>\n",
       "    .dataframe tbody tr th:only-of-type {\n",
       "        vertical-align: middle;\n",
       "    }\n",
       "\n",
       "    .dataframe tbody tr th {\n",
       "        vertical-align: top;\n",
       "    }\n",
       "\n",
       "    .dataframe thead th {\n",
       "        text-align: right;\n",
       "    }\n",
       "</style>\n",
       "<table border=\"1\" class=\"dataframe\">\n",
       "  <thead>\n",
       "    <tr style=\"text-align: right;\">\n",
       "      <th></th>\n",
       "      <th>COD_COL</th>\n",
       "      <th>COLE_INST_NOMBRE</th>\n",
       "      <th>COLE_DEPTO_COLEGIO</th>\n",
       "      <th>COLE_CALENDARIO_COLEGIO</th>\n",
       "      <th>COLE_GENEROPOBLACION</th>\n",
       "      <th>EVALUADOS_ULTIMOS_3</th>\n",
       "      <th>COLE_NATURALEZA</th>\n",
       "      <th>INDICE_MATEMATICAS</th>\n",
       "      <th>INDICE_C_NATURALES</th>\n",
       "      <th>INDICE_SOCIALES_CIUDADANAS</th>\n",
       "      <th>...</th>\n",
       "      <th>ZONA</th>\n",
       "      <th>LATITUD</th>\n",
       "      <th>LONGITUD</th>\n",
       "      <th>MODE_ESTRATOVIVIENDA</th>\n",
       "      <th>IND_EST_TRAB</th>\n",
       "      <th>MODE_EDU_MADRE</th>\n",
       "      <th>MODE_EDU_PADRE</th>\n",
       "      <th>IND_BILINGUE</th>\n",
       "      <th>CARACTER_IE</th>\n",
       "      <th>INDICE_AJUST</th>\n",
       "    </tr>\n",
       "  </thead>\n",
       "  <tbody>\n",
       "    <tr>\n",
       "      <th>0</th>\n",
       "      <td>205790000235</td>\n",
       "      <td>I. E. LA INMACULADA</td>\n",
       "      <td>ANTIOQUIA</td>\n",
       "      <td>A</td>\n",
       "      <td>MI</td>\n",
       "      <td>61</td>\n",
       "      <td>OFICIAL</td>\n",
       "      <td>0.5400</td>\n",
       "      <td>0.5809</td>\n",
       "      <td>0.5543</td>\n",
       "      <td>...</td>\n",
       "      <td>Rural</td>\n",
       "      <td>7.444544</td>\n",
       "      <td>-75.307755</td>\n",
       "      <td>Estrato 1</td>\n",
       "      <td>0</td>\n",
       "      <td>Primaria incompleta</td>\n",
       "      <td>Primaria incompleta</td>\n",
       "      <td>N</td>\n",
       "      <td>ACADEMICO</td>\n",
       "      <td>0.206119</td>\n",
       "    </tr>\n",
       "    <tr>\n",
       "      <th>1</th>\n",
       "      <td>105147000568</td>\n",
       "      <td>I. E. JOSE MARIA MUNOZ FLOREZ</td>\n",
       "      <td>ANTIOQUIA</td>\n",
       "      <td>A</td>\n",
       "      <td>MI</td>\n",
       "      <td>262</td>\n",
       "      <td>OFICIAL</td>\n",
       "      <td>0.6977</td>\n",
       "      <td>0.6650</td>\n",
       "      <td>0.6726</td>\n",
       "      <td>...</td>\n",
       "      <td>Urbano</td>\n",
       "      <td>7.758815</td>\n",
       "      <td>-76.658278</td>\n",
       "      <td>Estrato 2</td>\n",
       "      <td>0</td>\n",
       "      <td>Secundaria (Bachillerato) completa</td>\n",
       "      <td>Secundaria (Bachillerato) completa</td>\n",
       "      <td>N</td>\n",
       "      <td>TECNICO/ACADEMICO</td>\n",
       "      <td>0.625100</td>\n",
       "    </tr>\n",
       "  </tbody>\n",
       "</table>\n",
       "<p>2 rows × 26 columns</p>\n",
       "</div>"
      ],
      "text/plain": [
       "        COD_COL               COLE_INST_NOMBRE COLE_DEPTO_COLEGIO  \\\n",
       "0  205790000235            I. E. LA INMACULADA          ANTIOQUIA   \n",
       "1  105147000568  I. E. JOSE MARIA MUNOZ FLOREZ          ANTIOQUIA   \n",
       "\n",
       "  COLE_CALENDARIO_COLEGIO COLE_GENEROPOBLACION  EVALUADOS_ULTIMOS_3  \\\n",
       "0                       A                   MI                   61   \n",
       "1                       A                   MI                  262   \n",
       "\n",
       "  COLE_NATURALEZA  INDICE_MATEMATICAS  INDICE_C_NATURALES  \\\n",
       "0         OFICIAL              0.5400              0.5809   \n",
       "1         OFICIAL              0.6977              0.6650   \n",
       "\n",
       "   INDICE_SOCIALES_CIUDADANAS  ...    ZONA   LATITUD   LONGITUD  \\\n",
       "0                      0.5543  ...   Rural  7.444544 -75.307755   \n",
       "1                      0.6726  ...  Urbano  7.758815 -76.658278   \n",
       "\n",
       "  MODE_ESTRATOVIVIENDA IND_EST_TRAB                      MODE_EDU_MADRE  \\\n",
       "0            Estrato 1            0                 Primaria incompleta   \n",
       "1            Estrato 2            0  Secundaria (Bachillerato) completa   \n",
       "\n",
       "                       MODE_EDU_PADRE  IND_BILINGUE        CARACTER_IE  \\\n",
       "0                 Primaria incompleta             N          ACADEMICO   \n",
       "1  Secundaria (Bachillerato) completa             N  TECNICO/ACADEMICO   \n",
       "\n",
       "  INDICE_AJUST  \n",
       "0     0.206119  \n",
       "1     0.625100  \n",
       "\n",
       "[2 rows x 26 columns]"
      ]
     },
     "execution_count": 39,
     "metadata": {},
     "output_type": "execute_result"
    }
   ],
   "source": [
    "df['INDICE_AJUST']= df.apply(calculo_metrica,axis=1)\n",
    "df.head(2)"
   ]
  },
  {
   "cell_type": "code",
   "execution_count": 40,
   "metadata": {},
   "outputs": [],
   "source": [
    "#Generación de base de datos unificada y limpia para procesamiento posterior (Almacenamiento en S3)\n",
    "df_unificado = df.copy()\n",
    "df_unificado.to_csv('..\\Archivos\\BD_Unified.csv' , sep= '|')"
   ]
  },
  {
   "cell_type": "markdown",
   "metadata": {},
   "source": [
    "<a name=\"e4_explo\"></a><hr style=\"border:1px solid black\"> </hr>\n",
    "\n",
    "## 5.5. [&#9678;](#e4) Exploracion Bases de Datos\n",
    "\n",
    "1. [Variables Numéricas](#e4_numericas)\n",
    "    1. [INDICE_MATEMATICAS](#e4_math)\n",
    "    2. [INDICE_C_NATURALES](#e4_cnat)\n",
    "    3. [INDICE_SOCIALES_CIUDADANAS](#e4_sociales)\n",
    "    4. [INDICE_LECTURA_CRITICA](#e4_lectura)\n",
    "    5. [INDICE_INGLES](#e4_ingles)\n",
    "    6. [INDICE_TOTAL](#e4_total)\n",
    "    7. [EVALUADOS_ULTIMOS_3](#e4_evaluados)\n",
    "    8. [Correlaciones](#e4_corre)\n",
    "2. [Variables Categoricas](#e4_categoricas)\n",
    "    1. [COLE_CALENDARIO_COLEGIO](#e4_calendario)\n",
    "    2. [COLE_GENEROPOBLACION](#e4_genero)\n",
    "    3. [COLE_NATURALEZA](#e4_naturaleza)\n",
    "    4. [COLE_CATEGORIA](#e4_catetgoria)\n",
    "    5. [ZONA](#e4_zona)\n",
    "    6. [MODE_ESTRATOVIVIENDA](#e4_estrato)\n",
    "    7. [MODE_EDU_MADRE](#e4_madre)\n",
    "    8. [MODE_EDU_PADRE](#e4_padre)\n",
    "    9. [IND_BILINGUE](#e4_bilingue)\n",
    "    10. [CARACTER_IE](#e4_caracter)\n",
    "3. [Detección de outliers en sistema de calificación](#e4_outliers)\n",
    "\n",
    "<hr style=\"border:1px solid black\"> </hr>"
   ]
  },
  {
   "cell_type": "markdown",
   "metadata": {},
   "source": [
    "<a name=\"e4_numericas\"></a>\n",
    "## 5.5.1 [&#9680;](#e4_explo) Variables Numéricas\n",
    "\n",
    "1. [INDICE_MATEMATICAS](#e4_math)\n",
    "2. [INDICE_C_NATURALES](#e4_cnat)\n",
    "3. [INDICE_SOCIALES_CIUDADANAS](#e4_sociales)\n",
    "4. [INDICE_LECTURA_CRITICA](#e4_lectura)\n",
    "5. [INDICE_INGLES](#e4_ingles)\n",
    "6. [INDICE_TOTAL](#e4_total)\n",
    "7. [EVALUADOS_ULTIMOS_3](#e4_evaluados)\n",
    "8. [Correlaciones](#e4_corre)\n",
    "\n",
    "<hr style=\"border:1px solid black\"> </hr>"
   ]
  },
  {
   "cell_type": "markdown",
   "metadata": {},
   "source": [
    "<a name=\"e4_math\"></a>\n",
    "### 5.5.1.1 [&#9700;](#e4_numericas) INDICE_MATEMATICAS\n",
    "<hr style=\"border:1px solid blue\"> </hr>"
   ]
  },
  {
   "cell_type": "code",
   "execution_count": 41,
   "metadata": {},
   "outputs": [
    {
     "data": {
      "application/vnd.jupyter.widget-view+json": {
       "model_id": "c01b3cb2bdc64960ba02e1f14a1ff162",
       "version_major": 2,
       "version_minor": 0
      },
      "text/plain": [
       "Output()"
      ]
     },
     "metadata": {},
     "output_type": "display_data"
    }
   ],
   "source": [
    "inter_uncond_descrp_num_var(col = df['INDICE_MATEMATICAS'])"
   ]
  },
  {
   "cell_type": "markdown",
   "metadata": {},
   "source": [
    "El índice matemáticas, demuestra los resultados obtenidos para la prueba de matemáticas para cada una de las instituciones. Para este caso, existe una muestra de 968 resultados de las pruebas que se observan en el siguiente histograma:\n",
    "De acuerdo con la línea de distribución ajustada que se presenta en el gráfico los datos se ajustan adecuadamente a la distribución, ya que trata de seguir las alturas de las barras del histograma. La línea de distribución trata de seguir una distribución normal, donde no se observan asimetrías a simple vista muy marcadas en el gráfico, ni tampoco muchos datos atípicos."
   ]
  },
  {
   "cell_type": "code",
   "execution_count": 42,
   "metadata": {},
   "outputs": [
    {
     "data": {
      "application/vnd.jupyter.widget-view+json": {
       "model_id": "0e95ac210dc4456790c253f8c3cdfedc",
       "version_major": 2,
       "version_minor": 0
      },
      "text/plain": [
       "Output()"
      ]
     },
     "metadata": {},
     "output_type": "display_data"
    }
   ],
   "source": [
    "inter_uncond_descrp_num_var(col = df['INDICE_MATEMATICAS'])"
   ]
  },
  {
   "cell_type": "markdown",
   "metadata": {},
   "source": [
    "se observa que la media y la mediana son exactamente iguales (0.67), corroborando la información anteriormente brindada donde se denotaba que no se observaba asimetrías en el gráfico. La moda estuvo en 0.68, lo que demuestra que la mayoría de ellos, obtuvieron una buena calificación por encima del 0.5. Además, observando los percentiles, a partir del percentil 5 obtuvieron calificación por encima del 0.5; es decir, es 5% de los datos obtenidos en la muestra tiene calificación por debajo de 0.51.\n",
    "Por su parte, en el diagrama de cajas y bigotes se observa la mayoría de los datos agrupados entre 0.65 y 0.7; y ciertos datos atípicos máximos por alrededor de 0.9 y otros atípicos mínimos cerca de 0.45.\n"
   ]
  },
  {
   "cell_type": "code",
   "execution_count": 43,
   "metadata": {},
   "outputs": [
    {
     "data": {
      "application/vnd.jupyter.widget-view+json": {
       "model_id": "93d5c639a36b498b810a64d7c2d63cb3",
       "version_major": 2,
       "version_minor": 0
      },
      "text/plain": [
       "Output()"
      ]
     },
     "metadata": {},
     "output_type": "display_data"
    }
   ],
   "source": [
    "inter_uncond_descrp_num_var(col = df['INDICE_MATEMATICAS'])"
   ]
  },
  {
   "cell_type": "markdown",
   "metadata": {},
   "source": [
    "Teniendo en cuenta el resultado del exceso de curtosis 0.04 > 0; se puede decir que tenemos una gráfica leptocúrtica, la cual tiene gran concentración de datos cerca de su media. Por su parte la asimetría es de -0.18 lo que evidencia una leve asimetría hacia la izquierda donde la media está por debajo de la moda. Por último, una desviación estándar baja de 0.08 donde corrobora lo visto en los gráficos anteriores donde se evidencian datos agrupados cerca de la media."
   ]
  },
  {
   "cell_type": "code",
   "execution_count": 44,
   "metadata": {},
   "outputs": [
    {
     "data": {
      "application/vnd.jupyter.widget-view+json": {
       "model_id": "2958a508761649259149f09ef69fbb34",
       "version_major": 2,
       "version_minor": 0
      },
      "text/plain": [
       "Output()"
      ]
     },
     "metadata": {},
     "output_type": "display_data"
    }
   ],
   "source": [
    "inter_uncond_descrp_num_var(col = df['INDICE_MATEMATICAS'])"
   ]
  },
  {
   "cell_type": "markdown",
   "metadata": {},
   "source": [
    "Se realizaron varias pruebas de normalidad, encontrando su valor-p para ser comparado con el nivel de significancia, realizar la prueba de hipótesis y concluir acerca de la distribución de los datos.\n",
    "Las pruebas de Shapiro-Wilk, Anderson-Darling, Lilliefos y Fisher’s; arrojan valores p menores al valor de significancia, el cual en este caso es del 0.05. Es decir, rechazan la hipótesis nula y los datos no distribuyen normales."
   ]
  },
  {
   "cell_type": "code",
   "execution_count": 45,
   "metadata": {},
   "outputs": [
    {
     "data": {
      "application/vnd.jupyter.widget-view+json": {
       "model_id": "090540571b2b40689054bdf4bf9c748e",
       "version_major": 2,
       "version_minor": 0
      },
      "text/plain": [
       "Output()"
      ]
     },
     "metadata": {},
     "output_type": "display_data"
    }
   ],
   "source": [
    "inter_uncond_descrp_num_var(col = df['INDICE_MATEMATICAS'])"
   ]
  },
  {
   "cell_type": "markdown",
   "metadata": {},
   "source": [
    "En el diagrama cuantil-cuantil complementa lo observado en el histograma y el diagrama de bigotes, observándose los datos agrupados en el centro y donde se observan colas largas en la distribución de estos. Los datos están bastante ajustados a la recta; sin embargo, con los test evaluados anteriormente no válida la misma información con los datos distribuyendo normales."
   ]
  },
  {
   "cell_type": "markdown",
   "metadata": {},
   "source": [
    "<a name=\"e4_cnat\"></a>\n",
    "### 5.5.1.2 [&#9700;](#e4_numericas) INDICE_C_NATURALES\n",
    "<hr style=\"border:1px solid blue\"> </hr>"
   ]
  },
  {
   "cell_type": "code",
   "execution_count": 46,
   "metadata": {},
   "outputs": [
    {
     "data": {
      "application/vnd.jupyter.widget-view+json": {
       "model_id": "e32d91cd08974cbfa5afa858422f8a05",
       "version_major": 2,
       "version_minor": 0
      },
      "text/plain": [
       "Output()"
      ]
     },
     "metadata": {},
     "output_type": "display_data"
    }
   ],
   "source": [
    "inter_uncond_descrp_num_var(col = df['INDICE_C_NATURALES'])"
   ]
  },
  {
   "cell_type": "markdown",
   "metadata": {},
   "source": [
    "El índice c naturales, demuestra los resultados obtenidos para la prueba de ciencias naturales para cada una de las instituciones. Para este caso, existe una muestra de 968 resultados de las pruebas que se observan en el siguiente histograma:\n",
    "De acuerdo con la línea de distribución ajustada que se presenta en el gráfico los datos se ajustan adecuadamente a la distribución, ya que trata de seguir las alturas de las barras del histograma, más allá del pico que se presenta en la moda 0.65. La línea de distribución trata de seguir una distribución normal, donde no se observan asimetrías a simple vista muy marcadas en el gráfico, ni tampoco muchos datos atípicos. Además, se observa un pico más pronunciado en el centro en comparación de la gráfica de matemáticas."
   ]
  },
  {
   "cell_type": "code",
   "execution_count": 47,
   "metadata": {},
   "outputs": [
    {
     "data": {
      "application/vnd.jupyter.widget-view+json": {
       "model_id": "31b7aef271a543c58da24816ade5548b",
       "version_major": 2,
       "version_minor": 0
      },
      "text/plain": [
       "Output()"
      ]
     },
     "metadata": {},
     "output_type": "display_data"
    }
   ],
   "source": [
    "inter_uncond_descrp_num_var(col = df['INDICE_C_NATURALES'])"
   ]
  },
  {
   "cell_type": "markdown",
   "metadata": {},
   "source": [
    "Para esta materia, se presenta el mismo caso, donde la media y la mediana son exactamente iguales (0.67), corroborando la información anteriormente brindada donde se denotaba que no se observaba asimetrías en el gráfico. La moda estuvo en 0.65, lo que demuestra que la mayoría de ellos, obtuvieron una buena calificación por encima del 0.5. Además, observando los percentiles, a partir del percentil 5 obtuvieron calificación por encima del 0.54; es decir, es 5% de los datos obtenidos en la muestra tiene calificación por debajo de 0.54. Y, solo el 1% de los datos se encuentra por debajo de 0.5%\n",
    "La calificación mínima se encuentra en 0.46 y la máxima en 0.88; esto evidencia una mayor concentración de los datos alrededor de la media en comparación a las matemáticas.\n",
    "Por su parte, en el diagrama de cajas y bigotes se observa la mayoría de los datos agrupados entre los percentiles 25 y 75.\n"
   ]
  },
  {
   "cell_type": "code",
   "execution_count": 48,
   "metadata": {},
   "outputs": [
    {
     "data": {
      "application/vnd.jupyter.widget-view+json": {
       "model_id": "be712029cd6b44d4a78047e9a7c3d398",
       "version_major": 2,
       "version_minor": 0
      },
      "text/plain": [
       "Output()"
      ]
     },
     "metadata": {},
     "output_type": "display_data"
    }
   ],
   "source": [
    "inter_uncond_descrp_num_var(col = df['INDICE_C_NATURALES'])"
   ]
  },
  {
   "cell_type": "markdown",
   "metadata": {},
   "source": [
    "Teniendo en cuenta el resultado se puede decir que tenemos una gráfica leptocúrtica, la cual tiene gran concentración de datos cerca de su media. Por su parte la asimetría es de -0.03 lo que evidencia una leve asimetría hacia la izquierda. Por último, una desviación estándar baja de 0.07 donde corrobora lo visto en los gráficos anteriores donde se evidencian datos agrupados cerca de la media."
   ]
  },
  {
   "cell_type": "code",
   "execution_count": 49,
   "metadata": {},
   "outputs": [
    {
     "data": {
      "application/vnd.jupyter.widget-view+json": {
       "model_id": "e832ec51adb84671aaa166f3fa18df05",
       "version_major": 2,
       "version_minor": 0
      },
      "text/plain": [
       "Output()"
      ]
     },
     "metadata": {},
     "output_type": "display_data"
    }
   ],
   "source": [
    "inter_uncond_descrp_num_var(col = df['INDICE_C_NATURALES'])"
   ]
  },
  {
   "cell_type": "markdown",
   "metadata": {},
   "source": [
    "Se realizaron varias pruebas de normalidad, encontrando su valor-p para ser comparado con el nivel de significancia, realizar la prueba de hipótesis y concluir acerca de la distribución de los datos.\n",
    "Las pruebas de Shapiro-Wilk (0.21%), Anderson-Darling (0.03%), Lilliefos (1.83%) y Fisher’s (0.01%); arrojan valores p menores al valor de significancia, el cual en este caso es del 0.05. Es decir, rechazan la hipótesis nula y los datos no distribuyen normales.\n"
   ]
  },
  {
   "cell_type": "code",
   "execution_count": 50,
   "metadata": {},
   "outputs": [
    {
     "data": {
      "application/vnd.jupyter.widget-view+json": {
       "model_id": "5009dee3d2684eef9d74f304d6d1dca5",
       "version_major": 2,
       "version_minor": 0
      },
      "text/plain": [
       "Output()"
      ]
     },
     "metadata": {},
     "output_type": "display_data"
    }
   ],
   "source": [
    "inter_uncond_descrp_num_var(col = df['INDICE_C_NATURALES'])"
   ]
  },
  {
   "cell_type": "markdown",
   "metadata": {},
   "source": [
    "En el diagrama cuantil-cuantil complementa lo observado en el histograma y el diagrama de bigotes, observándose los datos agrupados en el centro y donde se observan colas largas en la distribución de estos. Los datos están bastante ajustados a la recta; sin embargo, con los test evaluados anteriormente no válida la misma información con los datos distribuyendo normales."
   ]
  },
  {
   "cell_type": "markdown",
   "metadata": {},
   "source": [
    "<a name=\"e4_sociales\"></a>\n",
    "### 5.5.1.3 [&#9700;](#e4_numericas) INDICE_SOCIALES_CIUDADANAS\n",
    "<hr style=\"border:1px solid blue\"> </hr>"
   ]
  },
  {
   "cell_type": "code",
   "execution_count": 51,
   "metadata": {},
   "outputs": [
    {
     "data": {
      "application/vnd.jupyter.widget-view+json": {
       "model_id": "17b8d48147004f84a535d74270ed17d6",
       "version_major": 2,
       "version_minor": 0
      },
      "text/plain": [
       "Output()"
      ]
     },
     "metadata": {},
     "output_type": "display_data"
    }
   ],
   "source": [
    "inter_uncond_descrp_num_var(col = df['INDICE_SOCIALES_CIUDADANAS'])"
   ]
  },
  {
   "cell_type": "markdown",
   "metadata": {},
   "source": [
    "El índice sociales ciudadanas, demuestra los resultados obtenidos para la prueba de ciencias sociales y ciudadanas para cada una de las instituciones. Para este caso, existe una muestra de 968 resultados de las pruebas que se observan en el siguiente histograma:\n",
    "\n",
    "De acuerdo con la línea de distribución ajustada que se presenta en el grafico los datos se ajustan adecuadamente a la distribución, ya que trata de seguir las alturas de las barras del histograma, donde también se presenta un pico por encima de la línea de la gráfica en la moda. La línea de distribución trata de seguir una distribución normal, donde se observa cierta asimetría a la izquierda a simple viste.\n"
   ]
  },
  {
   "cell_type": "code",
   "execution_count": 52,
   "metadata": {},
   "outputs": [
    {
     "data": {
      "application/vnd.jupyter.widget-view+json": {
       "model_id": "561861e557d04326ac1f4d4194399029",
       "version_major": 2,
       "version_minor": 0
      },
      "text/plain": [
       "Output()"
      ]
     },
     "metadata": {},
     "output_type": "display_data"
    }
   ],
   "source": [
    "inter_uncond_descrp_num_var(col = df['INDICE_SOCIALES_CIUDADANAS'])"
   ]
  },
  {
   "cell_type": "markdown",
   "metadata": {},
   "source": [
    "se observa que la media y la mediana son iguales (0.67). La moda estuvo en 0.63, lo que demuestra que la mayoría de ellos, obtuvieron una buena calificación por encima del 0.5; más allá que existe una moda menor a la de matemáticas y ciencias naturales. Además, observando los percentiles, a partir del percentil 5 obtuvieron calificación por encima del 0.53; es decir, es 5% de los datos obtenidos en la muestra tiene calificación por debajo de 0.53.\n",
    "El puntaje máximo se encuentra en 0.87; el cual es el en comparación de las dos primeras materias observadas. En el diagrama de bigotes se observa una cola mas pesada hacia la izquierda, con los datos atípicos un poco mas dispersos en comparación con la cola derecha.\n"
   ]
  },
  {
   "cell_type": "code",
   "execution_count": 53,
   "metadata": {},
   "outputs": [
    {
     "data": {
      "application/vnd.jupyter.widget-view+json": {
       "model_id": "d84bd93b851f4bf7b3709511d932bc00",
       "version_major": 2,
       "version_minor": 0
      },
      "text/plain": [
       "Output()"
      ]
     },
     "metadata": {},
     "output_type": "display_data"
    }
   ],
   "source": [
    "inter_uncond_descrp_num_var(col = df['INDICE_SOCIALES_CIUDADANAS'])"
   ]
  },
  {
   "cell_type": "markdown",
   "metadata": {},
   "source": [
    "Por su parte la asimetría es de -0.05 lo que evidencia una leve asimetría hacia la izquierda donde la media está por debajo de la moda. Por último, una desviación estándar baja de 0.08 donde corrobora lo visto en los gráficos anteriores donde se evidencian datos agrupados cerca de la media."
   ]
  },
  {
   "cell_type": "code",
   "execution_count": 54,
   "metadata": {},
   "outputs": [
    {
     "data": {
      "application/vnd.jupyter.widget-view+json": {
       "model_id": "c9fec0e1c0f14cfbad156948c7dd6a98",
       "version_major": 2,
       "version_minor": 0
      },
      "text/plain": [
       "Output()"
      ]
     },
     "metadata": {},
     "output_type": "display_data"
    }
   ],
   "source": [
    "inter_uncond_descrp_num_var(col = df['INDICE_SOCIALES_CIUDADANAS'])"
   ]
  },
  {
   "cell_type": "markdown",
   "metadata": {},
   "source": [
    "Se realizaron varias pruebas de normalidad, encontrando su valor-p para ser comparado con el nivel de significancia, realizar la prueba de hipótesis y concluir acerca de la distribución de los datos.\n",
    "Las pruebas de Shapiro-Wilk (0.3%), Anderson-Darling (0.04%), Lilliefos (3.59%) y Fisher’s (0.01%); arrojan valores p menores al valor de significancia, el cual en este caso es del 0.05. Es decir, rechazan la hipótesis nula y los datos no distribuyen normales.\n"
   ]
  },
  {
   "cell_type": "code",
   "execution_count": 55,
   "metadata": {},
   "outputs": [
    {
     "data": {
      "application/vnd.jupyter.widget-view+json": {
       "model_id": "98ce9a81c5b94ff5a865bbc810ee68d2",
       "version_major": 2,
       "version_minor": 0
      },
      "text/plain": [
       "Output()"
      ]
     },
     "metadata": {},
     "output_type": "display_data"
    }
   ],
   "source": [
    "inter_uncond_descrp_num_var(col = df['INDICE_SOCIALES_CIUDADANAS'])"
   ]
  },
  {
   "cell_type": "markdown",
   "metadata": {},
   "source": [
    "En el diagrama cuantil-cuantil complementa lo observado en el histograma y el diagrama de bigotes, observándose los datos agrupados en el centro y donde se observan colas largas en la distribución de estos. Los datos están bastante ajustados a la recta; sin embargo, con los test evaluados anteriormente no valida la misma información con los datos distribuyendo normales."
   ]
  },
  {
   "cell_type": "markdown",
   "metadata": {},
   "source": [
    "<a name=\"e4_lectura\"></a>\n",
    "### 5.5.1.4 [&#9700;](#e4_numericas) INDICE_LECTURA_CRITICA\n",
    "<hr style=\"border:1px solid blue\"> </hr>"
   ]
  },
  {
   "cell_type": "code",
   "execution_count": 56,
   "metadata": {},
   "outputs": [
    {
     "data": {
      "application/vnd.jupyter.widget-view+json": {
       "model_id": "1c21f56c23684055bdf77c3a4dead8b1",
       "version_major": 2,
       "version_minor": 0
      },
      "text/plain": [
       "Output()"
      ]
     },
     "metadata": {},
     "output_type": "display_data"
    }
   ],
   "source": [
    "inter_uncond_descrp_num_var(col = df['INDICE_LECTURA_CRITICA'])"
   ]
  },
  {
   "cell_type": "markdown",
   "metadata": {},
   "source": [
    "El índice lectura crítica, demuestra los resultados obtenidos para la prueba de lectura para cada una de las instituciones. Para este caso, existe una muestra de 968 resultados de las pruebas que se observan en el siguiente histograma:\n",
    "A simple vista los datos tratan de comportarse como datos normales; sin embargo, se observa una cola hacia la izquierda además de que la media es menor a la mediana.\n"
   ]
  },
  {
   "cell_type": "code",
   "execution_count": 57,
   "metadata": {},
   "outputs": [
    {
     "data": {
      "application/vnd.jupyter.widget-view+json": {
       "model_id": "062fd24f55dd494ca52cd18efcc3a531",
       "version_major": 2,
       "version_minor": 0
      },
      "text/plain": [
       "Output()"
      ]
     },
     "metadata": {},
     "output_type": "display_data"
    }
   ],
   "source": [
    "inter_uncond_descrp_num_var(col = df['INDICE_LECTURA_CRITICA'])"
   ]
  },
  {
   "cell_type": "markdown",
   "metadata": {},
   "source": [
    "Hasta ahora es la que mejor calificación ha obtenido, ya que en promedio se obtiene nota de 0.71 y el dato más repetido se encuentra en 0.72. Por su parte, el percentil uno se encuentra en 0.55; corroborando que un mayor número de registros obtuvieron una mejor calificación por encima de 0.5. La calificación máxima está en 0.87; no es la mayor entre las demás asignaturas lo que demuestra una buena concentración de registros cerca a la media.\n",
    "Como se observa en el diagrama de bigotes, existen datos atípicos en la cola izquierda un poco más dispersos y una gran concentración de datos cerca a la media. Los datos atípicos hacia la calificación máxima son muy pocos.\n"
   ]
  },
  {
   "cell_type": "code",
   "execution_count": 58,
   "metadata": {},
   "outputs": [
    {
     "data": {
      "application/vnd.jupyter.widget-view+json": {
       "model_id": "138d0930602a49c3bf22b05a01477de2",
       "version_major": 2,
       "version_minor": 0
      },
      "text/plain": [
       "Output()"
      ]
     },
     "metadata": {},
     "output_type": "display_data"
    }
   ],
   "source": [
    "inter_uncond_descrp_num_var(col = df['INDICE_LECTURA_CRITICA'])"
   ]
  },
  {
   "cell_type": "markdown",
   "metadata": {},
   "source": [
    "Teniendo en cuenta el resultado del exceso de curtosis 0.14 > 0; se puede decir que tenemos una gráfica leptocúrtica, la cual tiene gran concentración de datos cerca de su media. Por su parte la asimetría es de -0.3 lo que evidencia una asimetría hacia la izquierda donde la media está por debajo de la moda. Por último, una desviación estándar baja de 0.07 donde corrobora lo visto en los gráficos anteriores donde se evidencian datos agrupados cerca de la media."
   ]
  },
  {
   "cell_type": "code",
   "execution_count": 59,
   "metadata": {},
   "outputs": [
    {
     "data": {
      "application/vnd.jupyter.widget-view+json": {
       "model_id": "0c8010c91fb340aeacabb965648cb24a",
       "version_major": 2,
       "version_minor": 0
      },
      "text/plain": [
       "Output()"
      ]
     },
     "metadata": {},
     "output_type": "display_data"
    }
   ],
   "source": [
    "inter_uncond_descrp_num_var(col = df['INDICE_LECTURA_CRITICA'])"
   ]
  },
  {
   "cell_type": "markdown",
   "metadata": {},
   "source": [
    "Se realizaron varias pruebas de normalidad, encontrando su valor-p para ser comparado con el nivel de significancia, realizar la prueba de hipótesis y concluir acerca de la distribución de los datos.\n",
    "Las pruebas de Shapiro-Wilk (0%), Anderson-Darling (0%), Lilliefos (0.1%) y Fisher’s (0%); arrojan valores p menores al valor de significancia, el cual en este caso es del 0.05. Es decir, rechazan la hipótesis nula y los datos no distribuyen normales."
   ]
  },
  {
   "cell_type": "code",
   "execution_count": 60,
   "metadata": {},
   "outputs": [
    {
     "data": {
      "application/vnd.jupyter.widget-view+json": {
       "model_id": "3008a49479314c539f860b0296f250ce",
       "version_major": 2,
       "version_minor": 0
      },
      "text/plain": [
       "Output()"
      ]
     },
     "metadata": {},
     "output_type": "display_data"
    }
   ],
   "source": [
    "inter_uncond_descrp_num_var(col = df['INDICE_LECTURA_CRITICA'])"
   ]
  },
  {
   "cell_type": "markdown",
   "metadata": {},
   "source": [
    "En el diagrama cuantil-cuantil complementa lo observado en el histograma y el diagrama de bigotes, observándose los datos agrupados en el centro y donde se observan colas largas en la distribución de estos. Las colas se alejan un poco de la recta del gráfico, sin embargo, los datos centrados si se ajustan bastante a esta."
   ]
  },
  {
   "cell_type": "markdown",
   "metadata": {},
   "source": [
    "<a name=\"e4_ingles\"></a>\n",
    "### 5.5.1.5 [&#9700;](#e4_numericas) INDICE_INGLES\n",
    "<hr style=\"border:1px solid blue\"> </hr>"
   ]
  },
  {
   "cell_type": "code",
   "execution_count": 61,
   "metadata": {},
   "outputs": [
    {
     "data": {
      "application/vnd.jupyter.widget-view+json": {
       "model_id": "9324f2aafa7f4725ac0e9fef3727b1f8",
       "version_major": 2,
       "version_minor": 0
      },
      "text/plain": [
       "Output()"
      ]
     },
     "metadata": {},
     "output_type": "display_data"
    }
   ],
   "source": [
    "inter_uncond_descrp_num_var(col = df['INDICE_INGLES'])"
   ]
  },
  {
   "cell_type": "markdown",
   "metadata": {},
   "source": [
    "El índice inglés, demuestra los resultados obtenidos para la prueba de inglés para cada una de las instituciones. Para este caso, existe una muestra de 968 resultados de las pruebas que se observan en el siguiente histograma:"
   ]
  },
  {
   "cell_type": "code",
   "execution_count": 62,
   "metadata": {},
   "outputs": [
    {
     "data": {
      "application/vnd.jupyter.widget-view+json": {
       "model_id": "9298d1d97e4c41c6b8ecfa0159f29702",
       "version_major": 2,
       "version_minor": 0
      },
      "text/plain": [
       "Output()"
      ]
     },
     "metadata": {},
     "output_type": "display_data"
    }
   ],
   "source": [
    "inter_uncond_descrp_num_var(col = df['INDICE_INGLES'])"
   ]
  },
  {
   "cell_type": "markdown",
   "metadata": {},
   "source": [
    "la media es mayor que la mediana, lo que puede evidenciar cola a la derecha. La moda estuvo en 0.57; evidenciando el resultado más común, más bajo que el resto de las asignaturas.\n",
    "\n",
    "Por su parte, en el diagrama de cajas y bigotes se observa una agrupación de los datos hacía la media y a diferencia de las demás asignaturas se observan mayor número de datos atípicos hacía la calificación máxima."
   ]
  },
  {
   "cell_type": "code",
   "execution_count": 63,
   "metadata": {},
   "outputs": [
    {
     "data": {
      "application/vnd.jupyter.widget-view+json": {
       "model_id": "0928b0a168ae4df3b7b14d1990ce13be",
       "version_major": 2,
       "version_minor": 0
      },
      "text/plain": [
       "Output()"
      ]
     },
     "metadata": {},
     "output_type": "display_data"
    }
   ],
   "source": [
    "inter_uncond_descrp_num_var(col = df['INDICE_INGLES'])"
   ]
  },
  {
   "cell_type": "markdown",
   "metadata": {},
   "source": [
    "Teniendo en cuenta el resultado del exceso de curtosis 0.14 > 0; se puede decir que tenemos una gráfica leptocúrtica, la cual tiene gran concentración de datos cerca de su media. Por su parte la asimetría es de 0.49 lo que evidencia una leve asimetría hacia la derecha donde la media está por encima de la moda. Por último, una desviación estándar baja de 0.09 donde corrobora lo visto en los gráficos anteriores donde se evidencian datos agrupados cerca de la media."
   ]
  },
  {
   "cell_type": "code",
   "execution_count": 64,
   "metadata": {},
   "outputs": [
    {
     "data": {
      "application/vnd.jupyter.widget-view+json": {
       "model_id": "5d27d77139f64d138e8ddf8014fe5ef4",
       "version_major": 2,
       "version_minor": 0
      },
      "text/plain": [
       "Output()"
      ]
     },
     "metadata": {},
     "output_type": "display_data"
    }
   ],
   "source": [
    "inter_uncond_descrp_num_var(col = df['INDICE_INGLES'])"
   ]
  },
  {
   "cell_type": "markdown",
   "metadata": {},
   "source": [
    "Se realizaron varias pruebas de normalidad, encontrando su valor-p para ser comparado con el nivel de significancia, realizar la prueba de hipótesis y concluir acerca de la distribución de los datos.\n",
    "Las pruebas de Shapiro-Wilk (0%), Anderson-Darling (0%), Lilliefos (0,1%) y Fisher’s (0%); arrojan valores p menores al valor de significancia, el cual en este caso es del 0.05. Es decir, rechazan la hipótesis nula y los datos no distribuyen normales.\n"
   ]
  },
  {
   "cell_type": "code",
   "execution_count": 65,
   "metadata": {},
   "outputs": [
    {
     "data": {
      "application/vnd.jupyter.widget-view+json": {
       "model_id": "2fe1d8a2c1254270b0eb04e28345f59c",
       "version_major": 2,
       "version_minor": 0
      },
      "text/plain": [
       "Output()"
      ]
     },
     "metadata": {},
     "output_type": "display_data"
    }
   ],
   "source": [
    "inter_uncond_descrp_num_var(col = df['INDICE_INGLES'])"
   ]
  },
  {
   "cell_type": "markdown",
   "metadata": {},
   "source": [
    "En el diagrama cuantil-cuantil complementa lo observado en el histograma y el diagrama de bigotes, observándose los datos agrupados en el centro y donde se observan colas largas en la distribución de estos. Las colas no se ajustan tanto a la recta."
   ]
  },
  {
   "cell_type": "markdown",
   "metadata": {},
   "source": [
    "<a name=\"e4_total\"></a>\n",
    "### 5.5.1.6 [&#9700;](#e4_numericas) INDICE_TOTAL\n",
    "<hr style=\"border:1px solid blue\"> </hr>"
   ]
  },
  {
   "cell_type": "code",
   "execution_count": 66,
   "metadata": {},
   "outputs": [
    {
     "data": {
      "application/vnd.jupyter.widget-view+json": {
       "model_id": "b6c1d5e99b4544fea94c69d2e20e9e6c",
       "version_major": 2,
       "version_minor": 0
      },
      "text/plain": [
       "Output()"
      ]
     },
     "metadata": {},
     "output_type": "display_data"
    }
   ],
   "source": [
    "inter_uncond_descrp_num_var(col = df['INDICE_TOTAL'])"
   ]
  },
  {
   "cell_type": "markdown",
   "metadata": {},
   "source": [
    "Para el análisis de las variables numéricas hay que tener en cuenta que solo vamos a considerar la variable ÍNDICE TOTAL. Ya que si observamos variable por variable vemos que están siguen un mismo comportamiento. \n",
    "Esta variable “ÍNDICE TOTAL” es utilizada principalmente en el sistema de recomendación y el proceso que se realizó fue normalización de los datos porque teníamos un promedio ponderado de las notas de cada una de las asignaturas y a su vez diferente cantidad de estudiantes que fueron evaluados por cada institución. Para esto penalizamos los colegios que tenían una cantidad de estudiantes por debajo del percentil 90 de la totalidad de las instituciones entonces como resultado tenemos un nuevo índice total pero ajustado con la cantidad de estudiantes\n",
    "De acuerdo con la línea de distribución ajustada que se presenta en el gráfico los datos se ajustan adecuadamente a la distribución, ya que trata de seguir las alturas de las barras del histograma. La línea de distribución trata de seguir una distribución normal.\n"
   ]
  },
  {
   "cell_type": "code",
   "execution_count": 67,
   "metadata": {},
   "outputs": [
    {
     "data": {
      "application/vnd.jupyter.widget-view+json": {
       "model_id": "c5cf339d87274789a17c3c2dad5c9238",
       "version_major": 2,
       "version_minor": 0
      },
      "text/plain": [
       "Output()"
      ]
     },
     "metadata": {},
     "output_type": "display_data"
    }
   ],
   "source": [
    "inter_uncond_descrp_num_var(col = df['INDICE_TOTAL'])"
   ]
  },
  {
   "cell_type": "markdown",
   "metadata": {},
   "source": [
    "se observa que la media y la mediana son exactamente iguales (0.68), corroborando la información anteriormente brindada donde se denotaba que no se observaba asimetrías en el gráfico. La moda estuvo en 0.69, lo que demuestra que la mayoría de ellos, obtuvieron una buena calificación por encima del 0.5. Además, observando los percentiles, a partir del percentil 1 obtuvieron calificación por encima del 0.51; es decir, es 1% de los datos obtenidos en la muestra tiene calificación por debajo de 0.51.\n",
    "Por su parte, en el diagrama de cajas y bigotes se observa la mayoría de los datos agrupados y los datos atípicos más dispersos en la cola izquierda.\n"
   ]
  },
  {
   "cell_type": "code",
   "execution_count": 68,
   "metadata": {},
   "outputs": [
    {
     "data": {
      "application/vnd.jupyter.widget-view+json": {
       "model_id": "dd12c3ba2afa4099a30e13769ff5cd53",
       "version_major": 2,
       "version_minor": 0
      },
      "text/plain": [
       "Output()"
      ]
     },
     "metadata": {},
     "output_type": "display_data"
    }
   ],
   "source": [
    "inter_uncond_descrp_num_var(col = df['INDICE_TOTAL'])"
   ]
  },
  {
   "cell_type": "markdown",
   "metadata": {},
   "source": [
    "Por su parte la asimetría es de -0.07 lo que evidencia una leve asimetría hacia la izquierda donde la media está por debajo de la moda. Por último, una desviación estándar baja de 0.08 donde corrobora lo visto en los gráficos anteriores donde se evidencian datos agrupados cerca de la media y sin mucha variación."
   ]
  },
  {
   "cell_type": "code",
   "execution_count": 69,
   "metadata": {},
   "outputs": [
    {
     "data": {
      "application/vnd.jupyter.widget-view+json": {
       "model_id": "60e47e74f0ff4c08bc4ba4a33a69c120",
       "version_major": 2,
       "version_minor": 0
      },
      "text/plain": [
       "Output()"
      ]
     },
     "metadata": {},
     "output_type": "display_data"
    }
   ],
   "source": [
    "inter_uncond_descrp_num_var(col = df['INDICE_TOTAL'])"
   ]
  },
  {
   "cell_type": "markdown",
   "metadata": {},
   "source": [
    "Se realizaron varias pruebas de normalidad, encontrando su valor-p para ser comparado con el nivel de significancia, realizar la prueba de hipótesis y concluir acerca de la distribución de los datos.\n",
    "Las pruebas de Shapiro-Wilk (0.12%), Anderson-Darling (0.01%), Lilliefos (0.54%) y Fisher’s (0%); arrojan valores p menores al valor de significancia, el cual en este caso es del 0.05. Es decir, rechazan la hipótesis nula y los datos no distribuyen normales.\n"
   ]
  },
  {
   "cell_type": "code",
   "execution_count": 70,
   "metadata": {},
   "outputs": [
    {
     "data": {
      "application/vnd.jupyter.widget-view+json": {
       "model_id": "807e1d9a280b43baaafeb4560cad90c0",
       "version_major": 2,
       "version_minor": 0
      },
      "text/plain": [
       "Output()"
      ]
     },
     "metadata": {},
     "output_type": "display_data"
    }
   ],
   "source": [
    "inter_uncond_descrp_num_var(col = df['INDICE_TOTAL'])"
   ]
  },
  {
   "cell_type": "markdown",
   "metadata": {},
   "source": [
    "En el diagrama cuantil-cuantil complementa lo observado en el histograma y el diagrama de bigotes, observándose los datos agrupados en el centro y donde se observan colas largas en la distribución de estos. Los datos están bastante ajustados a la recta; sin embargo, con los test evaluados anteriormente no válida la misma información con los datos distribuyendo normales."
   ]
  },
  {
   "cell_type": "markdown",
   "metadata": {},
   "source": [
    "<a name=\"e4_evaluados\"></a>\n",
    "### 5.5.1.7 [&#9700;](#e4_numericas) EVALUADOS_ULTIMOS_3\n",
    "<hr style=\"border:1px solid blue\"> </hr>"
   ]
  },
  {
   "cell_type": "code",
   "execution_count": 71,
   "metadata": {},
   "outputs": [
    {
     "data": {
      "application/vnd.jupyter.widget-view+json": {
       "model_id": "6b6d8f4376a54fe9ba28e2390602e51e",
       "version_major": 2,
       "version_minor": 0
      },
      "text/plain": [
       "Output()"
      ]
     },
     "metadata": {},
     "output_type": "display_data"
    }
   ],
   "source": [
    "inter_uncond_descrp_num_var(col = df['EVALUADOS_ULTIMOS_3'])"
   ]
  },
  {
   "cell_type": "markdown",
   "metadata": {},
   "source": [
    "Demuestra el número de estudiantes que presentaron las pruebas para cada institución que se observan en el siguiente histograma:\n",
    "De acuerdo con la línea de distribución ajustada que se presenta en el grafico los datos se ajustan adecuadamente a la distribución, ya que trata de seguir las alturas de las barras del histograma. Se presenta una gran cantidad de datos concentrados en un mismo punto, demostrando que la gran mayoría de instituciones presentaron un número de estudiantes similar, y se observa una cola derecha bastante prolongada.\n"
   ]
  },
  {
   "cell_type": "code",
   "execution_count": 72,
   "metadata": {},
   "outputs": [
    {
     "data": {
      "application/vnd.jupyter.widget-view+json": {
       "model_id": "ab4728a77d5b454988e7f81b91d9e7b5",
       "version_major": 2,
       "version_minor": 0
      },
      "text/plain": [
       "Output()"
      ]
     },
     "metadata": {},
     "output_type": "display_data"
    }
   ],
   "source": [
    "inter_uncond_descrp_num_var(col = df['EVALUADOS_ULTIMOS_3'])"
   ]
  },
  {
   "cell_type": "markdown",
   "metadata": {},
   "source": [
    "La mediana 124 es menor que la media 160, lo cual es cierto teniendo en cuenta la cola que se presenta a la derecha. Por su parte el dato más típico fue 59 estudiantes presentando la prueba. El mínimo fue de 9 y el máximo de 2.767 estudiantes, lo que demuestra que existen muchos datos atípicos dispersos; que se pueden observar de una mejor manera en el diagrama de cajas y bigotes."
   ]
  },
  {
   "cell_type": "code",
   "execution_count": 73,
   "metadata": {},
   "outputs": [
    {
     "data": {
      "application/vnd.jupyter.widget-view+json": {
       "model_id": "e07a356e525c4525855178b8f87870fd",
       "version_major": 2,
       "version_minor": 0
      },
      "text/plain": [
       "Output()"
      ]
     },
     "metadata": {},
     "output_type": "display_data"
    }
   ],
   "source": [
    "inter_uncond_descrp_num_var(col = df['EVALUADOS_ULTIMOS_3'])"
   ]
  },
  {
   "cell_type": "markdown",
   "metadata": {},
   "source": [
    "Se presenta una desviación estándar de 167.73, ya que los datos sufren bastantes variaciones en la muestra. Por su parte, teniendo en cuenta la asimetría de 7.41 denota la cola larga que se presenta hacia la derecha."
   ]
  },
  {
   "cell_type": "code",
   "execution_count": 74,
   "metadata": {},
   "outputs": [
    {
     "data": {
      "application/vnd.jupyter.widget-view+json": {
       "model_id": "c4278647bc3f428195420809faa5a2fd",
       "version_major": 2,
       "version_minor": 0
      },
      "text/plain": [
       "Output()"
      ]
     },
     "metadata": {},
     "output_type": "display_data"
    }
   ],
   "source": [
    "inter_uncond_descrp_num_var(col = df['EVALUADOS_ULTIMOS_3'])"
   ]
  },
  {
   "cell_type": "markdown",
   "metadata": {},
   "source": [
    "Se realizaron varias pruebas de normalidad, encontrando su valor-p para ser comparado con el nivel de significancia, realizar la prueba de hipótesis y concluir acerca de la distribución de los datos.\n",
    "Las pruebas de Shapiro-Wilk, Anderson-Darling, Lilliefos y Fisher’s; arrojan valores p menores al valor de significancia, el cual en este caso es del 0.05. Es decir, rechazan la hipótesis nula y los datos no distribuyen normales.\n"
   ]
  },
  {
   "cell_type": "code",
   "execution_count": 75,
   "metadata": {},
   "outputs": [
    {
     "data": {
      "application/vnd.jupyter.widget-view+json": {
       "model_id": "8ac84e0dbdb14679bc370fe3cd4177ab",
       "version_major": 2,
       "version_minor": 0
      },
      "text/plain": [
       "Output()"
      ]
     },
     "metadata": {},
     "output_type": "display_data"
    }
   ],
   "source": [
    "inter_uncond_descrp_num_var(col = df['EVALUADOS_ULTIMOS_3'])"
   ]
  },
  {
   "cell_type": "markdown",
   "metadata": {},
   "source": [
    "En comparación a los demás diagramas cuantil-cuantil, para este caso no se observan los datos acercándose de manera drástica a la recta para probar la normalidad de los registros."
   ]
  },
  {
   "cell_type": "markdown",
   "metadata": {},
   "source": [
    "<a name=\"e4_corre\"></a>\n",
    "### 5.5.1.8 [&#9700;](#e4_numericas) Correlaciones\n",
    "<hr style=\"border:1px solid blue\"> </hr>"
   ]
  },
  {
   "cell_type": "code",
   "execution_count": 76,
   "metadata": {},
   "outputs": [
    {
     "data": {
      "application/vnd.jupyter.widget-view+json": {
       "model_id": "7d50135b95174340ad21a0899b7fb933",
       "version_major": 2,
       "version_minor": 0
      },
      "text/plain": [
       "Output()"
      ]
     },
     "metadata": {},
     "output_type": "display_data"
    }
   ],
   "source": [
    "print_corr_var(Num_df)"
   ]
  },
  {
   "cell_type": "markdown",
   "metadata": {},
   "source": [
    "Como se observó anteriormente en cada una de las variables, los comportamientos de estas fueron bastante similares, teniendo en cuenta la distribución de los datos, sus medidas de tendencia central, entre otros. Sin embargo, para tener una mayor certeza, se calculó la correlación entre cada par de variables de la muestra. Para el primer caso se realizó el test de Pearson (mide relación estadística entre dos variables continuas), donde se puede observar claramente la relación positiva que existe en cada una de las asignaturas que han sido evaluadas en las pruebas, obteniendo resultados mayores a 0.9. Por su parte, la latitud, longitud y últimos 3 evaluados obtuvo una correlación casi nula e incluso negativa, ya que son variables que no tiene nada que ver con el resultado de las pruebas."
   ]
  },
  {
   "cell_type": "code",
   "execution_count": 77,
   "metadata": {},
   "outputs": [
    {
     "data": {
      "application/vnd.jupyter.widget-view+json": {
       "model_id": "763d3ed04b8340739ff0b7734033847e",
       "version_major": 2,
       "version_minor": 0
      },
      "text/plain": [
       "Output()"
      ]
     },
     "metadata": {},
     "output_type": "display_data"
    }
   ],
   "source": [
    "print_corr_var(Num_df)"
   ]
  },
  {
   "cell_type": "markdown",
   "metadata": {},
   "source": [
    "Para la siguiente matriz realizada por el método de Spearman (medida no paramétrica) la cual mide la fuerza y dirección de la asociación entre dos variables clasificadas, se obtuvieron resultados bastante similares donde las correlaciones entre las asignaturas fueron mayores a 0.9 obteniendo una asociación de rangos bastante alta."
   ]
  },
  {
   "cell_type": "code",
   "execution_count": 78,
   "metadata": {},
   "outputs": [
    {
     "data": {
      "application/vnd.jupyter.widget-view+json": {
       "model_id": "96b1a2dcd1e64e4d9c23d3e7af1438f8",
       "version_major": 2,
       "version_minor": 0
      },
      "text/plain": [
       "Output()"
      ]
     },
     "metadata": {},
     "output_type": "display_data"
    }
   ],
   "source": [
    "print_corr_var(Num_df)"
   ]
  },
  {
   "cell_type": "markdown",
   "metadata": {},
   "source": [
    "Por último, Se realiza la correlación con el test de Kendall (medida no paramétrica), el cual asigna una clasificación a las observaciones de cada variable y estudia la relación de dependencia entre dos variables dadas. La relación de dependencia en este caso es dada después de ordenar las observaciones de cada variable. Para este test se siguen obteniendo correlaciones altas entre las asignaturas, sin embargo, ya son un poco más bajas que en los dos métodos anteriormente vistos, ya que algunas correlaciones están cercanas a 0.8."
   ]
  },
  {
   "cell_type": "markdown",
   "metadata": {},
   "source": [
    "<a name=\"e4_categoricas\"></a>\n",
    "## 5.5.2 [&#9680;](#e4_explo) Variables Categoricas\n",
    "\n",
    "1. [COLE_CALENDARIO_COLEGIO](#e4_calendario)\n",
    "2. [COLE_GENEROPOBLACION](#e4_genero)\n",
    "3. [COLE_NATURALEZA](#e4_naturaleza)\n",
    "4. [COLE_CATEGORIA](#e4_categoria)\n",
    "5. [ZONA](#e4_zona)\n",
    "6. [MODE_ESTRATOVIVIENDA](#e4_estrato)\n",
    "7. [MODE_EDU_MADRE](#e4_madre)\n",
    "8. [MODE_EDU_PADRE](#e4_padre)\n",
    "9. [IND_BILINGUE](#e4_bilingue)\n",
    "10. [CARACTER_IE](#e4_caracter)\n",
    "\n",
    "<hr style=\"border:1px solid black\"> </hr>"
   ]
  },
  {
   "cell_type": "markdown",
   "metadata": {},
   "source": [
    "<a name=\"e4_calendario\"></a>\n",
    "### 5.5.2.1 [&#9700;](#e4_categoricas) COLE_CALENDARIO_COLEGIO\n",
    "<hr style=\"border:1px solid blue\"> </hr>"
   ]
  },
  {
   "cell_type": "code",
   "execution_count": 79,
   "metadata": {},
   "outputs": [
    {
     "data": {
      "application/vnd.jupyter.widget-view+json": {
       "model_id": "5e10bd79ab01432098bfca25afaab53a",
       "version_major": 2,
       "version_minor": 0
      },
      "text/plain": [
       "Output()"
      ]
     },
     "metadata": {},
     "output_type": "display_data"
    }
   ],
   "source": [
    "inter_uncond_descrp_cat_var(col = df['COLE_CALENDARIO_COLEGIO'])"
   ]
  },
  {
   "cell_type": "code",
   "execution_count": 80,
   "metadata": {},
   "outputs": [
    {
     "data": {
      "application/vnd.jupyter.widget-view+json": {
       "model_id": "30196a0b97fb42f59d1b62b54a64edab",
       "version_major": 2,
       "version_minor": 0
      },
      "text/plain": [
       "Output()"
      ]
     },
     "metadata": {},
     "output_type": "display_data"
    }
   ],
   "source": [
    "inter_uncond_descrp_cat_var(col = df['COLE_CALENDARIO_COLEGIO'])"
   ]
  },
  {
   "cell_type": "markdown",
   "metadata": {},
   "source": [
    "<a name=\"e4_genero\"></a>\n",
    "### 5.5.2.2 [&#9700;](#e4_categoricas) COLE_GENEROPOBLACION\n",
    "<hr style=\"border:1px solid blue\"> </hr>"
   ]
  },
  {
   "cell_type": "code",
   "execution_count": 81,
   "metadata": {},
   "outputs": [
    {
     "data": {
      "application/vnd.jupyter.widget-view+json": {
       "model_id": "8a001cb702a2488aba71cce9adbea54f",
       "version_major": 2,
       "version_minor": 0
      },
      "text/plain": [
       "Output()"
      ]
     },
     "metadata": {},
     "output_type": "display_data"
    }
   ],
   "source": [
    "inter_uncond_descrp_cat_var(col = df['COLE_GENEROPOBLACION'])"
   ]
  },
  {
   "cell_type": "code",
   "execution_count": 82,
   "metadata": {},
   "outputs": [
    {
     "data": {
      "application/vnd.jupyter.widget-view+json": {
       "model_id": "fca752b014494517bb11ddea62b8a618",
       "version_major": 2,
       "version_minor": 0
      },
      "text/plain": [
       "Output()"
      ]
     },
     "metadata": {},
     "output_type": "display_data"
    }
   ],
   "source": [
    "inter_uncond_descrp_cat_var(col = df['COLE_GENEROPOBLACION'])"
   ]
  },
  {
   "cell_type": "markdown",
   "metadata": {},
   "source": [
    "<a name=\"e4_naturaleza\"></a>\n",
    "### 5.5.2.3 [&#9700;](#e4_categoricas) COLE_NATURALEZA\n",
    "<hr style=\"border:1px solid blue\"> </hr>"
   ]
  },
  {
   "cell_type": "code",
   "execution_count": 83,
   "metadata": {},
   "outputs": [
    {
     "data": {
      "application/vnd.jupyter.widget-view+json": {
       "model_id": "ffde922cb2cb4688baa6c90e393609ce",
       "version_major": 2,
       "version_minor": 0
      },
      "text/plain": [
       "Output()"
      ]
     },
     "metadata": {},
     "output_type": "display_data"
    }
   ],
   "source": [
    "inter_uncond_descrp_cat_var(col = df['COLE_NATURALEZA'])"
   ]
  },
  {
   "cell_type": "code",
   "execution_count": 84,
   "metadata": {},
   "outputs": [
    {
     "data": {
      "application/vnd.jupyter.widget-view+json": {
       "model_id": "33ac9deacd884481ad4485e101674e69",
       "version_major": 2,
       "version_minor": 0
      },
      "text/plain": [
       "Output()"
      ]
     },
     "metadata": {},
     "output_type": "display_data"
    }
   ],
   "source": [
    "inter_uncond_descrp_cat_var(col = df['COLE_NATURALEZA'])"
   ]
  },
  {
   "cell_type": "markdown",
   "metadata": {},
   "source": [
    "Esta variable tiene la naturaleza del colegio, entre sí es oficial y no oficial. Es importante tenerla en cuenta, que será factor importante para las variables socio económicas de los estudiantes, además, para evaluar la calidad de la educación que generalmente es mejor en los colegios no oficiales."
   ]
  },
  {
   "cell_type": "markdown",
   "metadata": {},
   "source": [
    "<a name=\"e4_categoria\"></a>\n",
    "### 5.5.2.4 [&#9700;](#e4_categoricas) COLE_CATEGORIA\n",
    "<hr style=\"border:1px solid blue\"> </hr>"
   ]
  },
  {
   "cell_type": "code",
   "execution_count": 85,
   "metadata": {},
   "outputs": [
    {
     "data": {
      "application/vnd.jupyter.widget-view+json": {
       "model_id": "6d5aeabbd0c0444fa1993c51bf77e917",
       "version_major": 2,
       "version_minor": 0
      },
      "text/plain": [
       "Output()"
      ]
     },
     "metadata": {},
     "output_type": "display_data"
    }
   ],
   "source": [
    "inter_uncond_descrp_cat_var(col = df['COLE_CATEGORIA'])"
   ]
  },
  {
   "cell_type": "code",
   "execution_count": 86,
   "metadata": {},
   "outputs": [
    {
     "data": {
      "application/vnd.jupyter.widget-view+json": {
       "model_id": "84c6cf81d4ee47ca8b106687765aa2c4",
       "version_major": 2,
       "version_minor": 0
      },
      "text/plain": [
       "Output()"
      ]
     },
     "metadata": {},
     "output_type": "display_data"
    }
   ],
   "source": [
    "inter_uncond_descrp_cat_var(col = df['COLE_CATEGORIA'])"
   ]
  },
  {
   "cell_type": "markdown",
   "metadata": {},
   "source": [
    "Informa sobre la calificación que se otorga a las instituciones, siendo la más alta A+ y la menor en D. Variable importante a la hora de realizar ranking con la calidad de cada institución. La calificación con mayor participación es la categoría B, seguido por la C y la D; lastimosamente la que menor participación obtiene es la máxima categoría en A+ que solo obtiene un 10.1% de participación, siendo bastante llamativo ya que se debería tener un mayor porcentaje en la educación de calidad"
   ]
  },
  {
   "cell_type": "markdown",
   "metadata": {},
   "source": [
    "<a name=\"e4_zona\"></a>\n",
    "### 5.5.2.5 [&#9700;](#e4_categoricas) ZONA\n",
    "<hr style=\"border:1px solid blue\"> </hr>"
   ]
  },
  {
   "cell_type": "code",
   "execution_count": 87,
   "metadata": {},
   "outputs": [
    {
     "data": {
      "application/vnd.jupyter.widget-view+json": {
       "model_id": "22faf87558654dc88330184e52892545",
       "version_major": 2,
       "version_minor": 0
      },
      "text/plain": [
       "Output()"
      ]
     },
     "metadata": {},
     "output_type": "display_data"
    }
   ],
   "source": [
    "inter_uncond_descrp_cat_var(col = df['ZONA'])"
   ]
  },
  {
   "cell_type": "code",
   "execution_count": 88,
   "metadata": {},
   "outputs": [
    {
     "data": {
      "application/vnd.jupyter.widget-view+json": {
       "model_id": "c433ad0ea3894c4e8ee39a5372ea1adc",
       "version_major": 2,
       "version_minor": 0
      },
      "text/plain": [
       "Output()"
      ]
     },
     "metadata": {},
     "output_type": "display_data"
    }
   ],
   "source": [
    "inter_uncond_descrp_cat_var(col = df['ZONA'])"
   ]
  },
  {
   "cell_type": "markdown",
   "metadata": {},
   "source": [
    "Información de georreferenciación, informa sobre si es rural o urbana, algo que es clave a la hora de realizar las recomendaciones a los estudiantes a cerca de la institución más cercana. El 69% están ubicados en zona urbana y el restante 31% rural."
   ]
  },
  {
   "cell_type": "markdown",
   "metadata": {},
   "source": [
    "<a name=\"e4_estrato\"></a>\n",
    "### 5.5.2.6 [&#9700;](#e4_categoricas) MODE_ESTRATOVIVIENDA\n",
    "<hr style=\"border:1px solid blue\"> </hr>"
   ]
  },
  {
   "cell_type": "code",
   "execution_count": 89,
   "metadata": {},
   "outputs": [
    {
     "data": {
      "application/vnd.jupyter.widget-view+json": {
       "model_id": "3e7f2aac69474acb984fb7b1c4815119",
       "version_major": 2,
       "version_minor": 0
      },
      "text/plain": [
       "Output()"
      ]
     },
     "metadata": {},
     "output_type": "display_data"
    }
   ],
   "source": [
    "inter_uncond_descrp_cat_var(col = df['MODE_ESTRATOVIVIENDA'])"
   ]
  },
  {
   "cell_type": "code",
   "execution_count": 90,
   "metadata": {},
   "outputs": [
    {
     "data": {
      "application/vnd.jupyter.widget-view+json": {
       "model_id": "8fc25c61e5594e3a9dd53a537630af58",
       "version_major": 2,
       "version_minor": 0
      },
      "text/plain": [
       "Output()"
      ]
     },
     "metadata": {},
     "output_type": "display_data"
    }
   ],
   "source": [
    "inter_uncond_descrp_cat_var(col = df['MODE_ESTRATOVIVIENDA'])"
   ]
  },
  {
   "cell_type": "markdown",
   "metadata": {},
   "source": [
    "Muestra el estrato de la vivienda, entre 1 y 6, solo unas cuentas que no se identificó que estrato de vivienda tenían. Para la población colombiana, entre el estrato 1, 2 y 3 se encuentra alrededor del 90% de ellos, demostrando que la mayoría son de estrato medio y bajo, lo cual será importante en el momento de realizar recomendaciones según información socio económica."
   ]
  },
  {
   "cell_type": "markdown",
   "metadata": {},
   "source": [
    "<a name=\"e4_madre\"></a>\n",
    "### 5.5.2.7 [&#9700;](#e4_categoricas) MODE_EDU_MADRE\n",
    "<hr style=\"border:1px solid blue\"> </hr>"
   ]
  },
  {
   "cell_type": "code",
   "execution_count": 91,
   "metadata": {},
   "outputs": [
    {
     "data": {
      "application/vnd.jupyter.widget-view+json": {
       "model_id": "6d695ba2559a4d3a83a4e01ce37e320b",
       "version_major": 2,
       "version_minor": 0
      },
      "text/plain": [
       "Output()"
      ]
     },
     "metadata": {},
     "output_type": "display_data"
    }
   ],
   "source": [
    "inter_uncond_descrp_cat_var(col = df['MODE_EDU_MADRE'])"
   ]
  },
  {
   "cell_type": "code",
   "execution_count": 92,
   "metadata": {},
   "outputs": [
    {
     "data": {
      "application/vnd.jupyter.widget-view+json": {
       "model_id": "19a32a0c6583491e96eca16cc40b8835",
       "version_major": 2,
       "version_minor": 0
      },
      "text/plain": [
       "Output()"
      ]
     },
     "metadata": {},
     "output_type": "display_data"
    }
   ],
   "source": [
    "inter_uncond_descrp_cat_var(col = df['MODE_EDU_MADRE'])"
   ]
  },
  {
   "cell_type": "markdown",
   "metadata": {},
   "source": [
    "<a name=\"e4_padre\"></a>\n",
    "### 5.5.2.8 [&#9700;](#e4_categoricas) MODE_EDU_PADRE\n",
    "<hr style=\"border:1px solid blue\"> </hr>"
   ]
  },
  {
   "cell_type": "code",
   "execution_count": 93,
   "metadata": {},
   "outputs": [
    {
     "data": {
      "application/vnd.jupyter.widget-view+json": {
       "model_id": "9630efcecc1d42e18e2710386c6f02fa",
       "version_major": 2,
       "version_minor": 0
      },
      "text/plain": [
       "Output()"
      ]
     },
     "metadata": {},
     "output_type": "display_data"
    }
   ],
   "source": [
    "inter_uncond_descrp_cat_var(col = df['MODE_EDU_PADRE'])"
   ]
  },
  {
   "cell_type": "code",
   "execution_count": 94,
   "metadata": {},
   "outputs": [
    {
     "data": {
      "application/vnd.jupyter.widget-view+json": {
       "model_id": "f72a21e324a84e0b84a7d5e90185182f",
       "version_major": 2,
       "version_minor": 0
      },
      "text/plain": [
       "Output()"
      ]
     },
     "metadata": {},
     "output_type": "display_data"
    }
   ],
   "source": [
    "inter_uncond_descrp_cat_var(col = df['MODE_EDU_PADRE'])"
   ]
  },
  {
   "cell_type": "markdown",
   "metadata": {},
   "source": [
    "<a name=\"e4_bilingue\"></a>\n",
    "### 5.5.2.9 [&#9700;](#e4_categoricas) IND_BILINGUE\n",
    "<hr style=\"border:1px solid blue\"> </hr>"
   ]
  },
  {
   "cell_type": "code",
   "execution_count": 95,
   "metadata": {},
   "outputs": [
    {
     "data": {
      "application/vnd.jupyter.widget-view+json": {
       "model_id": "c1805f4dd46a4096807880bd33d9b7a3",
       "version_major": 2,
       "version_minor": 0
      },
      "text/plain": [
       "Output()"
      ]
     },
     "metadata": {},
     "output_type": "display_data"
    }
   ],
   "source": [
    "inter_uncond_descrp_cat_var(col = df['IND_BILINGUE'])"
   ]
  },
  {
   "cell_type": "code",
   "execution_count": 96,
   "metadata": {},
   "outputs": [
    {
     "data": {
      "application/vnd.jupyter.widget-view+json": {
       "model_id": "6f81f41632774322a8e66519e8653494",
       "version_major": 2,
       "version_minor": 0
      },
      "text/plain": [
       "Output()"
      ]
     },
     "metadata": {},
     "output_type": "display_data"
    }
   ],
   "source": [
    "inter_uncond_descrp_cat_var(col = df['IND_BILINGUE'])"
   ]
  },
  {
   "cell_type": "markdown",
   "metadata": {},
   "source": [
    "<a name=\"e4_caracter\"></a>\n",
    "### 5.5.2.10 [&#9700;](#e4_categoricas) CARACTER_IE\n",
    "<hr style=\"border:1px solid blue\"> </hr>"
   ]
  },
  {
   "cell_type": "code",
   "execution_count": 97,
   "metadata": {},
   "outputs": [
    {
     "data": {
      "application/vnd.jupyter.widget-view+json": {
       "model_id": "4ba5e3b3d37749fe8a79b7b002216c2d",
       "version_major": 2,
       "version_minor": 0
      },
      "text/plain": [
       "Output()"
      ]
     },
     "metadata": {},
     "output_type": "display_data"
    }
   ],
   "source": [
    "inter_uncond_descrp_cat_var(col = df['CARACTER_IE'])"
   ]
  },
  {
   "cell_type": "code",
   "execution_count": 98,
   "metadata": {},
   "outputs": [
    {
     "data": {
      "application/vnd.jupyter.widget-view+json": {
       "model_id": "d0cdad16a3ea4ac28e6057b65db0d758",
       "version_major": 2,
       "version_minor": 0
      },
      "text/plain": [
       "Output()"
      ]
     },
     "metadata": {},
     "output_type": "display_data"
    }
   ],
   "source": [
    "inter_uncond_descrp_cat_var(col = df['CARACTER_IE'])"
   ]
  },
  {
   "cell_type": "markdown",
   "metadata": {},
   "source": [
    "Está asociada a la característica de educación ofrecida (académico, técnico-académico, técnico, entre otros). Un 60% está compuesto con instituciones académicas, el 30% técnico-académico y un 3.72% está en técnico."
   ]
  },
  {
   "cell_type": "markdown",
   "metadata": {},
   "source": [
    "<a name=\"e4_outliers\"></a>\n",
    "## 5.5.3 [&#9680;](#e4_explo) Detección de outliers en sistema de calificación\n",
    "\n",
    "<hr style=\"border:1px solid black\"> </hr>"
   ]
  },
  {
   "cell_type": "code",
   "execution_count": 99,
   "metadata": {},
   "outputs": [
    {
     "name": "stdout",
     "output_type": "stream",
     "text": [
      "EVALUADOS_ULTIMOS_3           160.462810\n",
      "INDICE_MATEMATICAS              0.666575\n",
      "INDICE_C_NATURALES              0.672375\n",
      "INDICE_SOCIALES_CIUDADANAS      0.666211\n",
      "INDICE_LECTURA_CRITICA          0.706532\n",
      "INDICE_INGLES                   0.666768\n",
      "dtype: float64\n"
     ]
    },
    {
     "data": {
      "text/html": [
       "<div>\n",
       "<style scoped>\n",
       "    .dataframe tbody tr th:only-of-type {\n",
       "        vertical-align: middle;\n",
       "    }\n",
       "\n",
       "    .dataframe tbody tr th {\n",
       "        vertical-align: top;\n",
       "    }\n",
       "\n",
       "    .dataframe thead th {\n",
       "        text-align: right;\n",
       "    }\n",
       "</style>\n",
       "<table border=\"1\" class=\"dataframe\">\n",
       "  <thead>\n",
       "    <tr style=\"text-align: right;\">\n",
       "      <th></th>\n",
       "      <th>EVALUADOS_ULTIMOS_3</th>\n",
       "      <th>INDICE_MATEMATICAS</th>\n",
       "      <th>INDICE_C_NATURALES</th>\n",
       "      <th>INDICE_SOCIALES_CIUDADANAS</th>\n",
       "      <th>INDICE_LECTURA_CRITICA</th>\n",
       "      <th>INDICE_INGLES</th>\n",
       "    </tr>\n",
       "    <tr>\n",
       "      <th>COD_COL</th>\n",
       "      <th></th>\n",
       "      <th></th>\n",
       "      <th></th>\n",
       "      <th></th>\n",
       "      <th></th>\n",
       "      <th></th>\n",
       "    </tr>\n",
       "  </thead>\n",
       "  <tbody>\n",
       "    <tr>\n",
       "      <th>205790000235</th>\n",
       "      <td>61</td>\n",
       "      <td>0.5400</td>\n",
       "      <td>0.5809</td>\n",
       "      <td>0.5543</td>\n",
       "      <td>0.6150</td>\n",
       "      <td>0.5495</td>\n",
       "    </tr>\n",
       "    <tr>\n",
       "      <th>105147000568</th>\n",
       "      <td>262</td>\n",
       "      <td>0.6977</td>\n",
       "      <td>0.6650</td>\n",
       "      <td>0.6726</td>\n",
       "      <td>0.7084</td>\n",
       "      <td>0.6564</td>\n",
       "    </tr>\n",
       "  </tbody>\n",
       "</table>\n",
       "</div>"
      ],
      "text/plain": [
       "              EVALUADOS_ULTIMOS_3  INDICE_MATEMATICAS  INDICE_C_NATURALES  \\\n",
       "COD_COL                                                                     \n",
       "205790000235                   61              0.5400              0.5809   \n",
       "105147000568                  262              0.6977              0.6650   \n",
       "\n",
       "              INDICE_SOCIALES_CIUDADANAS  INDICE_LECTURA_CRITICA  \\\n",
       "COD_COL                                                            \n",
       "205790000235                      0.5543                  0.6150   \n",
       "105147000568                      0.6726                  0.7084   \n",
       "\n",
       "              INDICE_INGLES  \n",
       "COD_COL                      \n",
       "205790000235         0.5495  \n",
       "105147000568         0.6564  "
      ]
     },
     "execution_count": 99,
     "metadata": {},
     "output_type": "execute_result"
    }
   ],
   "source": [
    "col_out = ['COD_COL','EVALUADOS_ULTIMOS_3', 'INDICE_MATEMATICAS',\n",
    "       'INDICE_C_NATURALES', 'INDICE_SOCIALES_CIUDADANAS',\n",
    "       'INDICE_LECTURA_CRITICA', 'INDICE_INGLES']\n",
    "df_out = df[col_out]\n",
    "df_out.set_index('COD_COL',inplace=True )\n",
    "Mean_out = df_out.mean()\n",
    "print(Mean_out)\n",
    "df_out.head(2)"
   ]
  },
  {
   "cell_type": "code",
   "execution_count": 100,
   "metadata": {},
   "outputs": [
    {
     "data": {
      "text/plain": [
       "range(0, 968)"
      ]
     },
     "execution_count": 100,
     "metadata": {},
     "output_type": "execute_result"
    }
   ],
   "source": [
    "nf,nc=df_out.shape\n",
    "range(0,nf)"
   ]
  },
  {
   "cell_type": "code",
   "execution_count": 101,
   "metadata": {},
   "outputs": [],
   "source": [
    "Dist_1=[]\n",
    "Dist_2=[]\n",
    "Dist_Fro=[]\n",
    "nf,nc=df_out.shape\n",
    "for i in range(0,nf):\n",
    "    dist1 = np.linalg.norm(np.array(Mean_out)-np.array(df_out)[i],1)\n",
    "    dist2 = np.linalg.norm(np.array(Mean_out)-np.array(df_out)[i],2)\n",
    "    distFro = np.linalg.norm(np.array(Mean_out)-np.array(df_out)[i])\n",
    "    Dist_1.append(dist1)\n",
    "    Dist_2.append(dist2)\n",
    "    Dist_Fro.append(distFro)\n",
    "P90_1=np.percentile(Dist_1,90)   \n",
    "P90_2=np.percentile(Dist_2,90) \n",
    "P90_Fro=np.percentile(Dist_Fro,90) \n",
    "Dist_1=pd.DataFrame(Dist_1)\n",
    "Dist_1Out=Dist_1[Dist_1[0]>P90_1]\n",
    "Dist_2=pd.DataFrame(Dist_2)\n",
    "Dist_2Out=Dist_2[Dist_2[0]>P90_2]\n",
    "Dist_Fro=pd.DataFrame(Dist_Fro)\n",
    "Dist_FroOut=Dist_Fro[Dist_Fro[0]>P90_Fro]"
   ]
  },
  {
   "cell_type": "code",
   "execution_count": 102,
   "metadata": {},
   "outputs": [
    {
     "data": {
      "application/vnd.jupyter.widget-view+json": {
       "model_id": "55b23cc5595a469fb9472faad2229634",
       "version_major": 2,
       "version_minor": 0
      },
      "text/plain": [
       "Output()"
      ]
     },
     "metadata": {},
     "output_type": "display_data"
    }
   ],
   "source": [
    "outliers(df)"
   ]
  },
  {
   "cell_type": "code",
   "execution_count": 103,
   "metadata": {},
   "outputs": [
    {
     "data": {
      "application/vnd.jupyter.widget-view+json": {
       "model_id": "032bfc3259a74cd3b32c4e9937c05316",
       "version_major": 2,
       "version_minor": 0
      },
      "text/plain": [
       "Output()"
      ]
     },
     "metadata": {},
     "output_type": "display_data"
    }
   ],
   "source": [
    "outliers(df)"
   ]
  },
  {
   "cell_type": "code",
   "execution_count": 104,
   "metadata": {},
   "outputs": [
    {
     "data": {
      "application/vnd.jupyter.widget-view+json": {
       "model_id": "260c3e1d23334d5d9b343fc4f3984f4c",
       "version_major": 2,
       "version_minor": 0
      },
      "text/plain": [
       "Output()"
      ]
     },
     "metadata": {},
     "output_type": "display_data"
    }
   ],
   "source": [
    "outliers(df)"
   ]
  },
  {
   "cell_type": "markdown",
   "metadata": {},
   "source": [
    "<a name=\"e5\"></a><hr style=\"border:1px solid green\"> </hr>\n",
    "# 6. [&#9673;](#conte) Etapa 5: Modelamiento del sistema de recomendación\n",
    "\n",
    "1. [Selección de Parámetros](#e5_parametros)\n",
    "2. [k-means](#e5_kmeans)\n",
    "    1. [Modelo - Métodos de selección de k](#e5_metodos)\n",
    "    2. [Selección de k](#e5_kmsel)\n",
    "    3. [Evaluación de Resultados](#e5_kmeval)\n",
    "        1. [COLE_GENEROPOBLACION](#e5_genero)\n",
    "        2. [MODE_ESTRATOVIVIENDA](#e5_estrato)\n",
    "        3. [CARACTER_IE](#e5_caracter)\n",
    "    4. [Prueba Clasificacion](#e5_prueba)\n",
    "    5. [Centroides](#e5_centroides)\n",
    "3.[k-modes](#e5_kmodes)\n",
    "    1. [Modelo - Métodos de selección de k](#e5_metodos2)\n",
    "    2. [Selección de k](#e5_kmsel2)\n",
    "    3. [Evaluación de Resultados](#e5_kmeval2)\n",
    "        1. [COLE_GENEROPOBLACION](#e5_genero2)\n",
    "        2. [MODE_ESTRATOVIVIENDA](#e5_estrato2)\n",
    "        3. [CARACTER_IE](#e5_caracter2)\n",
    "    4. [Prueba Clasificacion](#e5_prueba2)\n",
    "    5. [Centroides](#e5_centroides2)\n",
    "\n",
    "<hr style=\"border:1px solid green\"> </hr>"
   ]
  },
  {
   "cell_type": "markdown",
   "metadata": {},
   "source": [
    "<a name=\"e5_parametros\"></a><hr style=\"border:1px solid black\"> </hr>\n",
    "\n",
    "## 6.1. [&#9678;](#e5) Selección de Parámetros\n",
    "\n",
    "<hr style=\"border:1px solid black\"> </hr>\n",
    "\n",
    "Se seleccionan los parámetros sobre los cuales se realizaran los modelos."
   ]
  },
  {
   "cell_type": "markdown",
   "metadata": {},
   "source": [
    "se crea una copia del DataFrame para trabajar en los modelos"
   ]
  },
  {
   "cell_type": "code",
   "execution_count": 105,
   "metadata": {},
   "outputs": [],
   "source": [
    "df_modelos = df.copy()"
   ]
  },
  {
   "cell_type": "markdown",
   "metadata": {},
   "source": [
    "visualizamos los parametros disponibles"
   ]
  },
  {
   "cell_type": "code",
   "execution_count": 106,
   "metadata": {},
   "outputs": [
    {
     "data": {
      "text/plain": [
       "Index(['COD_COL', 'COLE_INST_NOMBRE', 'COLE_DEPTO_COLEGIO',\n",
       "       'COLE_CALENDARIO_COLEGIO', 'COLE_GENEROPOBLACION',\n",
       "       'EVALUADOS_ULTIMOS_3', 'COLE_NATURALEZA', 'INDICE_MATEMATICAS',\n",
       "       'INDICE_C_NATURALES', 'INDICE_SOCIALES_CIUDADANAS',\n",
       "       'INDICE_LECTURA_CRITICA', 'INDICE_INGLES', 'INDICE_TOTAL',\n",
       "       'COLE_CATEGORIA', 'NOMBRE_DEPARTAMENTO', 'NOMBRE_MUNICIPIO', 'ZONA',\n",
       "       'LATITUD', 'LONGITUD', 'MODE_ESTRATOVIVIENDA', 'IND_EST_TRAB',\n",
       "       'MODE_EDU_MADRE', 'MODE_EDU_PADRE', 'IND_BILINGUE', 'CARACTER_IE',\n",
       "       'INDICE_AJUST'],\n",
       "      dtype='object')"
      ]
     },
     "execution_count": 106,
     "metadata": {},
     "output_type": "execute_result"
    }
   ],
   "source": [
    "df_modelos.columns"
   ]
  },
  {
   "cell_type": "markdown",
   "metadata": {},
   "source": [
    "seleccionamos las variables"
   ]
  },
  {
   "cell_type": "code",
   "execution_count": 107,
   "metadata": {},
   "outputs": [],
   "source": [
    "#variables = ['COD_COL','COLE_CALENDARIO_COLEGIO','COLE_GENEROPOBLACION','COLE_CATEGORIA','ZONA']\n",
    "#variables = ['COD_COL','COLE_GENEROPOBLACION','COLE_NATURALEZA','ZONA','MODE_ESTRATOVIVIENDA','CARACTER_IE']\n",
    "variables = ['COD_COL','COLE_GENEROPOBLACION','MODE_ESTRATOVIVIENDA','CARACTER_IE']\n",
    "df_modelos = df[variables]"
   ]
  },
  {
   "cell_type": "markdown",
   "metadata": {},
   "source": [
    "se convierten variables categoricas a Dummies"
   ]
  },
  {
   "cell_type": "code",
   "execution_count": 108,
   "metadata": {},
   "outputs": [
    {
     "data": {
      "text/html": [
       "<div>\n",
       "<style scoped>\n",
       "    .dataframe tbody tr th:only-of-type {\n",
       "        vertical-align: middle;\n",
       "    }\n",
       "\n",
       "    .dataframe tbody tr th {\n",
       "        vertical-align: top;\n",
       "    }\n",
       "\n",
       "    .dataframe thead th {\n",
       "        text-align: right;\n",
       "    }\n",
       "</style>\n",
       "<table border=\"1\" class=\"dataframe\">\n",
       "  <thead>\n",
       "    <tr style=\"text-align: right;\">\n",
       "      <th></th>\n",
       "      <th>COD_COL</th>\n",
       "      <th>COLE_GENEROPOBLACION_F</th>\n",
       "      <th>COLE_GENEROPOBLACION_M</th>\n",
       "      <th>COLE_GENEROPOBLACION_MI</th>\n",
       "      <th>MODE_ESTRATOVIVIENDA_Estrato 1</th>\n",
       "      <th>MODE_ESTRATOVIVIENDA_Estrato 2</th>\n",
       "      <th>MODE_ESTRATOVIVIENDA_Estrato 3</th>\n",
       "      <th>MODE_ESTRATOVIVIENDA_Estrato 4</th>\n",
       "      <th>MODE_ESTRATOVIVIENDA_Estrato 5</th>\n",
       "      <th>MODE_ESTRATOVIVIENDA_Estrato 6</th>\n",
       "      <th>MODE_ESTRATOVIVIENDA_Sin Estrato</th>\n",
       "      <th>CARACTER_IE_ACADEMICO</th>\n",
       "      <th>CARACTER_IE_NO APLICA</th>\n",
       "      <th>CARACTER_IE_None</th>\n",
       "      <th>CARACTER_IE_TECNICO</th>\n",
       "      <th>CARACTER_IE_TECNICO/ACADEMICO</th>\n",
       "    </tr>\n",
       "  </thead>\n",
       "  <tbody>\n",
       "    <tr>\n",
       "      <th>0</th>\n",
       "      <td>205790000235</td>\n",
       "      <td>0</td>\n",
       "      <td>0</td>\n",
       "      <td>1</td>\n",
       "      <td>1</td>\n",
       "      <td>0</td>\n",
       "      <td>0</td>\n",
       "      <td>0</td>\n",
       "      <td>0</td>\n",
       "      <td>0</td>\n",
       "      <td>0</td>\n",
       "      <td>1</td>\n",
       "      <td>0</td>\n",
       "      <td>0</td>\n",
       "      <td>0</td>\n",
       "      <td>0</td>\n",
       "    </tr>\n",
       "    <tr>\n",
       "      <th>1</th>\n",
       "      <td>105147000568</td>\n",
       "      <td>0</td>\n",
       "      <td>0</td>\n",
       "      <td>1</td>\n",
       "      <td>0</td>\n",
       "      <td>1</td>\n",
       "      <td>0</td>\n",
       "      <td>0</td>\n",
       "      <td>0</td>\n",
       "      <td>0</td>\n",
       "      <td>0</td>\n",
       "      <td>0</td>\n",
       "      <td>0</td>\n",
       "      <td>0</td>\n",
       "      <td>0</td>\n",
       "      <td>1</td>\n",
       "    </tr>\n",
       "    <tr>\n",
       "      <th>2</th>\n",
       "      <td>105147000401</td>\n",
       "      <td>0</td>\n",
       "      <td>0</td>\n",
       "      <td>1</td>\n",
       "      <td>0</td>\n",
       "      <td>1</td>\n",
       "      <td>0</td>\n",
       "      <td>0</td>\n",
       "      <td>0</td>\n",
       "      <td>0</td>\n",
       "      <td>0</td>\n",
       "      <td>1</td>\n",
       "      <td>0</td>\n",
       "      <td>0</td>\n",
       "      <td>0</td>\n",
       "      <td>0</td>\n",
       "    </tr>\n",
       "  </tbody>\n",
       "</table>\n",
       "</div>"
      ],
      "text/plain": [
       "        COD_COL  COLE_GENEROPOBLACION_F  COLE_GENEROPOBLACION_M  \\\n",
       "0  205790000235                       0                       0   \n",
       "1  105147000568                       0                       0   \n",
       "2  105147000401                       0                       0   \n",
       "\n",
       "   COLE_GENEROPOBLACION_MI  MODE_ESTRATOVIVIENDA_Estrato 1  \\\n",
       "0                        1                               1   \n",
       "1                        1                               0   \n",
       "2                        1                               0   \n",
       "\n",
       "   MODE_ESTRATOVIVIENDA_Estrato 2  MODE_ESTRATOVIVIENDA_Estrato 3  \\\n",
       "0                               0                               0   \n",
       "1                               1                               0   \n",
       "2                               1                               0   \n",
       "\n",
       "   MODE_ESTRATOVIVIENDA_Estrato 4  MODE_ESTRATOVIVIENDA_Estrato 5  \\\n",
       "0                               0                               0   \n",
       "1                               0                               0   \n",
       "2                               0                               0   \n",
       "\n",
       "   MODE_ESTRATOVIVIENDA_Estrato 6  MODE_ESTRATOVIVIENDA_Sin Estrato  \\\n",
       "0                               0                                 0   \n",
       "1                               0                                 0   \n",
       "2                               0                                 0   \n",
       "\n",
       "   CARACTER_IE_ACADEMICO  CARACTER_IE_NO APLICA  CARACTER_IE_None  \\\n",
       "0                      1                      0                 0   \n",
       "1                      0                      0                 0   \n",
       "2                      1                      0                 0   \n",
       "\n",
       "   CARACTER_IE_TECNICO  CARACTER_IE_TECNICO/ACADEMICO  \n",
       "0                    0                              0  \n",
       "1                    0                              1  \n",
       "2                    0                              0  "
      ]
     },
     "execution_count": 108,
     "metadata": {},
     "output_type": "execute_result"
    }
   ],
   "source": [
    "df_modelos = pd.get_dummies(df_modelos, columns = variables[1:])\n",
    "df_modelos.head(3)"
   ]
  },
  {
   "cell_type": "markdown",
   "metadata": {},
   "source": [
    "<a name=\"e5_kmeans\"></a><hr style=\"border:1px solid black\"> </hr>\n",
    "\n",
    "## 6.2. [&#9678;](#e5) k-means\n",
    "\n",
    "1. [Modelo - Métodos de selección de k](#e5_metodos)\n",
    "2. [Selección de k](#e5_kmsel)\n",
    "3. [Evaluación de Resultados](#e5_kmeval)\n",
    "    1. [COLE_GENEROPOBLACION](#e5_genero)\n",
    "    2. [MODE_ESTRATOVIVIENDA](#e5_estrato)\n",
    "    3. [CARACTER_IE](#e5_caracter)\n",
    "4. [Prueba Clasificacion](#e5_prueba)\n",
    "5. [Centroides](#e5_centroides)\n",
    "\n",
    "<hr style=\"border:1px solid black\"> </hr>"
   ]
  },
  {
   "cell_type": "markdown",
   "metadata": {},
   "source": [
    "<a name=\"e5_metodos\"></a>\n",
    "## 6.2.1 [&#9680;](#e5_kmeans) Modelo - Métodos de selección de k\n",
    "\n",
    "<hr style=\"border:1px solid black\"> </hr>\n",
    "\n",
    "Se corre el modelo de K-means para diferentes valores de **K** (número de clusters) y evaluando que tan adecuada es cada valor de k midiendo la distancia de os puntos a los centroides de su respectivo cluster, entre mejor segmentados estén los grupos menor será esta distancia.\n",
    "\n",
    "Si se divide en demasiados clusters el modelo perdería sentido y si se divide en pocos clusters las distancias serían muy grandes, es por esto que aplicamos los siguientes métodos conocidos como el método del codo y el método de Silhouette."
   ]
  },
  {
   "cell_type": "code",
   "execution_count": 109,
   "metadata": {},
   "outputs": [
    {
     "data": {
      "image/png": "[encoded data removed]",
      "text/plain": [
       "<Figure size 640x480 with 1 Axes>"
      ]
     },
     "metadata": {},
     "output_type": "display_data"
    },
    {
     "data": {
      "image/png": "[encoded data removed]",
      "text/plain": [
       "<Figure size 640x480 with 1 Axes>"
      ]
     },
     "metadata": {},
     "output_type": "display_data"
    }
   ],
   "source": [
    "k_algs, k_res = k_selection(df_modelos.drop(['COD_COL'], axis = 1), 2, 20)"
   ]
  },
  {
   "cell_type": "markdown",
   "metadata": {},
   "source": [
    "<a name=\"e5_kmsel\"></a>\n",
    "## 6.2.2 [&#9680;](#e5_kmeans) Selección de k\n",
    "\n",
    "<hr style=\"border:1px solid black\"> </hr>"
   ]
  },
  {
   "cell_type": "code",
   "execution_count": 110,
   "metadata": {},
   "outputs": [],
   "source": [
    "k = 8"
   ]
  },
  {
   "cell_type": "code",
   "execution_count": 111,
   "metadata": {},
   "outputs": [],
   "source": [
    "algorithm = k_algs[k-2] # \n",
    "clustering = k_res[k-2] # "
   ]
  },
  {
   "cell_type": "code",
   "execution_count": 112,
   "metadata": {},
   "outputs": [],
   "source": [
    "cls_list = algorithm.predict(df_modelos.drop(['COD_COL'], axis = 1))"
   ]
  },
  {
   "cell_type": "code",
   "execution_count": 113,
   "metadata": {},
   "outputs": [],
   "source": [
    "df_kmeans = df_modelos.copy()"
   ]
  },
  {
   "cell_type": "code",
   "execution_count": 114,
   "metadata": {},
   "outputs": [
    {
     "data": {
      "text/html": [
       "<div>\n",
       "<style scoped>\n",
       "    .dataframe tbody tr th:only-of-type {\n",
       "        vertical-align: middle;\n",
       "    }\n",
       "\n",
       "    .dataframe tbody tr th {\n",
       "        vertical-align: top;\n",
       "    }\n",
       "\n",
       "    .dataframe thead th {\n",
       "        text-align: right;\n",
       "    }\n",
       "</style>\n",
       "<table border=\"1\" class=\"dataframe\">\n",
       "  <thead>\n",
       "    <tr style=\"text-align: right;\">\n",
       "      <th></th>\n",
       "      <th>COD_COL</th>\n",
       "      <th>COLE_GENEROPOBLACION_F</th>\n",
       "      <th>COLE_GENEROPOBLACION_M</th>\n",
       "      <th>COLE_GENEROPOBLACION_MI</th>\n",
       "      <th>MODE_ESTRATOVIVIENDA_Estrato 1</th>\n",
       "      <th>MODE_ESTRATOVIVIENDA_Estrato 2</th>\n",
       "      <th>MODE_ESTRATOVIVIENDA_Estrato 3</th>\n",
       "      <th>MODE_ESTRATOVIVIENDA_Estrato 4</th>\n",
       "      <th>MODE_ESTRATOVIVIENDA_Estrato 5</th>\n",
       "      <th>MODE_ESTRATOVIVIENDA_Estrato 6</th>\n",
       "      <th>MODE_ESTRATOVIVIENDA_Sin Estrato</th>\n",
       "      <th>CARACTER_IE_ACADEMICO</th>\n",
       "      <th>CARACTER_IE_NO APLICA</th>\n",
       "      <th>CARACTER_IE_None</th>\n",
       "      <th>CARACTER_IE_TECNICO</th>\n",
       "      <th>CARACTER_IE_TECNICO/ACADEMICO</th>\n",
       "      <th>Cluster</th>\n",
       "    </tr>\n",
       "  </thead>\n",
       "  <tbody>\n",
       "    <tr>\n",
       "      <th>0</th>\n",
       "      <td>205790000235</td>\n",
       "      <td>0</td>\n",
       "      <td>0</td>\n",
       "      <td>1</td>\n",
       "      <td>1</td>\n",
       "      <td>0</td>\n",
       "      <td>0</td>\n",
       "      <td>0</td>\n",
       "      <td>0</td>\n",
       "      <td>0</td>\n",
       "      <td>0</td>\n",
       "      <td>1</td>\n",
       "      <td>0</td>\n",
       "      <td>0</td>\n",
       "      <td>0</td>\n",
       "      <td>0</td>\n",
       "      <td>2</td>\n",
       "    </tr>\n",
       "    <tr>\n",
       "      <th>1</th>\n",
       "      <td>105147000568</td>\n",
       "      <td>0</td>\n",
       "      <td>0</td>\n",
       "      <td>1</td>\n",
       "      <td>0</td>\n",
       "      <td>1</td>\n",
       "      <td>0</td>\n",
       "      <td>0</td>\n",
       "      <td>0</td>\n",
       "      <td>0</td>\n",
       "      <td>0</td>\n",
       "      <td>0</td>\n",
       "      <td>0</td>\n",
       "      <td>0</td>\n",
       "      <td>0</td>\n",
       "      <td>1</td>\n",
       "      <td>1</td>\n",
       "    </tr>\n",
       "    <tr>\n",
       "      <th>2</th>\n",
       "      <td>105147000401</td>\n",
       "      <td>0</td>\n",
       "      <td>0</td>\n",
       "      <td>1</td>\n",
       "      <td>0</td>\n",
       "      <td>1</td>\n",
       "      <td>0</td>\n",
       "      <td>0</td>\n",
       "      <td>0</td>\n",
       "      <td>0</td>\n",
       "      <td>0</td>\n",
       "      <td>1</td>\n",
       "      <td>0</td>\n",
       "      <td>0</td>\n",
       "      <td>0</td>\n",
       "      <td>0</td>\n",
       "      <td>0</td>\n",
       "    </tr>\n",
       "  </tbody>\n",
       "</table>\n",
       "</div>"
      ],
      "text/plain": [
       "        COD_COL  COLE_GENEROPOBLACION_F  COLE_GENEROPOBLACION_M  \\\n",
       "0  205790000235                       0                       0   \n",
       "1  105147000568                       0                       0   \n",
       "2  105147000401                       0                       0   \n",
       "\n",
       "   COLE_GENEROPOBLACION_MI  MODE_ESTRATOVIVIENDA_Estrato 1  \\\n",
       "0                        1                               1   \n",
       "1                        1                               0   \n",
       "2                        1                               0   \n",
       "\n",
       "   MODE_ESTRATOVIVIENDA_Estrato 2  MODE_ESTRATOVIVIENDA_Estrato 3  \\\n",
       "0                               0                               0   \n",
       "1                               1                               0   \n",
       "2                               1                               0   \n",
       "\n",
       "   MODE_ESTRATOVIVIENDA_Estrato 4  MODE_ESTRATOVIVIENDA_Estrato 5  \\\n",
       "0                               0                               0   \n",
       "1                               0                               0   \n",
       "2                               0                               0   \n",
       "\n",
       "   MODE_ESTRATOVIVIENDA_Estrato 6  MODE_ESTRATOVIVIENDA_Sin Estrato  \\\n",
       "0                               0                                 0   \n",
       "1                               0                                 0   \n",
       "2                               0                                 0   \n",
       "\n",
       "   CARACTER_IE_ACADEMICO  CARACTER_IE_NO APLICA  CARACTER_IE_None  \\\n",
       "0                      1                      0                 0   \n",
       "1                      0                      0                 0   \n",
       "2                      1                      0                 0   \n",
       "\n",
       "   CARACTER_IE_TECNICO  CARACTER_IE_TECNICO/ACADEMICO  Cluster  \n",
       "0                    0                              0        2  \n",
       "1                    0                              1        1  \n",
       "2                    0                              0        0  "
      ]
     },
     "execution_count": 114,
     "metadata": {},
     "output_type": "execute_result"
    }
   ],
   "source": [
    "df_kmeans.insert(len(df_modelos.columns), 'Cluster', cls_list, True)\n",
    "df_kmeans.head(3)"
   ]
  },
  {
   "cell_type": "code",
   "execution_count": 115,
   "metadata": {},
   "outputs": [],
   "source": [
    "df_unificado['Cluster'] = df_kmeans['Cluster'].copy()\n",
    "df_unificado.to_csv('..\\Archivos\\BD_Clustered.csv' , sep= '|')"
   ]
  },
  {
   "cell_type": "markdown",
   "metadata": {},
   "source": [
    "<a name=\"e5_kmeval\"></a>\n",
    "## 6.2.3 [&#9680;](#e5_kmeans) Evaluación de Resultados\n",
    "\n",
    "1. [COLE_GENEROPOBLACION](#e5_genero)\n",
    "2. [MODE_ESTRATOVIVIENDA](#e5_estrato)\n",
    "3. [CARACTER_IE](#e5_caracter)\n",
    "\n",
    "<hr style=\"border:1px solid black\"> </hr>"
   ]
  },
  {
   "cell_type": "code",
   "execution_count": 116,
   "metadata": {},
   "outputs": [
    {
     "data": {
      "text/html": [
       "<div>\n",
       "<style scoped>\n",
       "    .dataframe tbody tr th:only-of-type {\n",
       "        vertical-align: middle;\n",
       "    }\n",
       "\n",
       "    .dataframe tbody tr th {\n",
       "        vertical-align: top;\n",
       "    }\n",
       "\n",
       "    .dataframe thead th {\n",
       "        text-align: right;\n",
       "    }\n",
       "</style>\n",
       "<table border=\"1\" class=\"dataframe\">\n",
       "  <thead>\n",
       "    <tr style=\"text-align: right;\">\n",
       "      <th></th>\n",
       "      <th>COD_COL</th>\n",
       "      <th>COLE_GENEROPOBLACION_F</th>\n",
       "      <th>COLE_GENEROPOBLACION_M</th>\n",
       "      <th>COLE_GENEROPOBLACION_MI</th>\n",
       "      <th>MODE_ESTRATOVIVIENDA_Estrato 1</th>\n",
       "      <th>MODE_ESTRATOVIVIENDA_Estrato 2</th>\n",
       "      <th>MODE_ESTRATOVIVIENDA_Estrato 3</th>\n",
       "      <th>MODE_ESTRATOVIVIENDA_Estrato 4</th>\n",
       "      <th>MODE_ESTRATOVIVIENDA_Estrato 5</th>\n",
       "      <th>MODE_ESTRATOVIVIENDA_Estrato 6</th>\n",
       "      <th>MODE_ESTRATOVIVIENDA_Sin Estrato</th>\n",
       "      <th>CARACTER_IE_ACADEMICO</th>\n",
       "      <th>CARACTER_IE_NO APLICA</th>\n",
       "      <th>CARACTER_IE_None</th>\n",
       "      <th>CARACTER_IE_TECNICO</th>\n",
       "      <th>CARACTER_IE_TECNICO/ACADEMICO</th>\n",
       "      <th>Cluster</th>\n",
       "      <th>COLE_GENEROPOBLACION</th>\n",
       "      <th>MODE_ESTRATOVIVIENDA</th>\n",
       "      <th>CARACTER_IE</th>\n",
       "    </tr>\n",
       "  </thead>\n",
       "  <tbody>\n",
       "    <tr>\n",
       "      <th>0</th>\n",
       "      <td>205790000235</td>\n",
       "      <td>0</td>\n",
       "      <td>0</td>\n",
       "      <td>1</td>\n",
       "      <td>1</td>\n",
       "      <td>0</td>\n",
       "      <td>0</td>\n",
       "      <td>0</td>\n",
       "      <td>0</td>\n",
       "      <td>0</td>\n",
       "      <td>0</td>\n",
       "      <td>1</td>\n",
       "      <td>0</td>\n",
       "      <td>0</td>\n",
       "      <td>0</td>\n",
       "      <td>0</td>\n",
       "      <td>2</td>\n",
       "      <td>MI</td>\n",
       "      <td>Estrato 1</td>\n",
       "      <td>ACADEMICO</td>\n",
       "    </tr>\n",
       "    <tr>\n",
       "      <th>1</th>\n",
       "      <td>105147000568</td>\n",
       "      <td>0</td>\n",
       "      <td>0</td>\n",
       "      <td>1</td>\n",
       "      <td>0</td>\n",
       "      <td>1</td>\n",
       "      <td>0</td>\n",
       "      <td>0</td>\n",
       "      <td>0</td>\n",
       "      <td>0</td>\n",
       "      <td>0</td>\n",
       "      <td>0</td>\n",
       "      <td>0</td>\n",
       "      <td>0</td>\n",
       "      <td>0</td>\n",
       "      <td>1</td>\n",
       "      <td>1</td>\n",
       "      <td>MI</td>\n",
       "      <td>Estrato 2</td>\n",
       "      <td>TECNICO/ACADEMICO</td>\n",
       "    </tr>\n",
       "    <tr>\n",
       "      <th>2</th>\n",
       "      <td>105147000401</td>\n",
       "      <td>0</td>\n",
       "      <td>0</td>\n",
       "      <td>1</td>\n",
       "      <td>0</td>\n",
       "      <td>1</td>\n",
       "      <td>0</td>\n",
       "      <td>0</td>\n",
       "      <td>0</td>\n",
       "      <td>0</td>\n",
       "      <td>0</td>\n",
       "      <td>1</td>\n",
       "      <td>0</td>\n",
       "      <td>0</td>\n",
       "      <td>0</td>\n",
       "      <td>0</td>\n",
       "      <td>0</td>\n",
       "      <td>MI</td>\n",
       "      <td>Estrato 2</td>\n",
       "      <td>ACADEMICO</td>\n",
       "    </tr>\n",
       "  </tbody>\n",
       "</table>\n",
       "</div>"
      ],
      "text/plain": [
       "        COD_COL  COLE_GENEROPOBLACION_F  COLE_GENEROPOBLACION_M  \\\n",
       "0  205790000235                       0                       0   \n",
       "1  105147000568                       0                       0   \n",
       "2  105147000401                       0                       0   \n",
       "\n",
       "   COLE_GENEROPOBLACION_MI  MODE_ESTRATOVIVIENDA_Estrato 1  \\\n",
       "0                        1                               1   \n",
       "1                        1                               0   \n",
       "2                        1                               0   \n",
       "\n",
       "   MODE_ESTRATOVIVIENDA_Estrato 2  MODE_ESTRATOVIVIENDA_Estrato 3  \\\n",
       "0                               0                               0   \n",
       "1                               1                               0   \n",
       "2                               1                               0   \n",
       "\n",
       "   MODE_ESTRATOVIVIENDA_Estrato 4  MODE_ESTRATOVIVIENDA_Estrato 5  \\\n",
       "0                               0                               0   \n",
       "1                               0                               0   \n",
       "2                               0                               0   \n",
       "\n",
       "   MODE_ESTRATOVIVIENDA_Estrato 6  MODE_ESTRATOVIVIENDA_Sin Estrato  \\\n",
       "0                               0                                 0   \n",
       "1                               0                                 0   \n",
       "2                               0                                 0   \n",
       "\n",
       "   CARACTER_IE_ACADEMICO  CARACTER_IE_NO APLICA  CARACTER_IE_None  \\\n",
       "0                      1                      0                 0   \n",
       "1                      0                      0                 0   \n",
       "2                      1                      0                 0   \n",
       "\n",
       "   CARACTER_IE_TECNICO  CARACTER_IE_TECNICO/ACADEMICO  Cluster  \\\n",
       "0                    0                              0        2   \n",
       "1                    0                              1        1   \n",
       "2                    0                              0        0   \n",
       "\n",
       "  COLE_GENEROPOBLACION MODE_ESTRATOVIVIENDA        CARACTER_IE  \n",
       "0                   MI            Estrato 1          ACADEMICO  \n",
       "1                   MI            Estrato 2  TECNICO/ACADEMICO  \n",
       "2                   MI            Estrato 2          ACADEMICO  "
      ]
     },
     "execution_count": 116,
     "metadata": {},
     "output_type": "execute_result"
    }
   ],
   "source": [
    "df_eval = df_kmeans.copy()\n",
    "df_eval['COLE_GENEROPOBLACION'] = df.loc[:,'COLE_GENEROPOBLACION']\n",
    "df_eval['MODE_ESTRATOVIVIENDA'] = df.loc[:,'MODE_ESTRATOVIVIENDA']\n",
    "df_eval['CARACTER_IE'] = df.loc[:,'CARACTER_IE']\n",
    "df_eval.head(3)"
   ]
  },
  {
   "cell_type": "markdown",
   "metadata": {},
   "source": [
    "<a name=\"e5_genero\"></a>\n",
    "### 6.2.3.1 [&#9700;](#e5_kmeval) COLE_GENEROPOBLACION\n",
    "<hr style=\"border:1px solid blue\"> </hr>"
   ]
  },
  {
   "cell_type": "code",
   "execution_count": 117,
   "metadata": {},
   "outputs": [
    {
     "data": {
      "text/html": [
       "<div>\n",
       "<style scoped>\n",
       "    .dataframe tbody tr th:only-of-type {\n",
       "        vertical-align: middle;\n",
       "    }\n",
       "\n",
       "    .dataframe tbody tr th {\n",
       "        vertical-align: top;\n",
       "    }\n",
       "\n",
       "    .dataframe thead th {\n",
       "        text-align: right;\n",
       "    }\n",
       "</style>\n",
       "<table border=\"1\" class=\"dataframe\">\n",
       "  <thead>\n",
       "    <tr style=\"text-align: right;\">\n",
       "      <th>Cluster</th>\n",
       "      <th>0</th>\n",
       "      <th>1</th>\n",
       "      <th>2</th>\n",
       "      <th>3</th>\n",
       "      <th>4</th>\n",
       "      <th>5</th>\n",
       "      <th>6</th>\n",
       "      <th>7</th>\n",
       "    </tr>\n",
       "    <tr>\n",
       "      <th>COLE_GENEROPOBLACION</th>\n",
       "      <th></th>\n",
       "      <th></th>\n",
       "      <th></th>\n",
       "      <th></th>\n",
       "      <th></th>\n",
       "      <th></th>\n",
       "      <th></th>\n",
       "      <th></th>\n",
       "    </tr>\n",
       "  </thead>\n",
       "  <tbody>\n",
       "    <tr>\n",
       "      <th>F</th>\n",
       "      <td>2</td>\n",
       "      <td>3</td>\n",
       "      <td>0</td>\n",
       "      <td>4</td>\n",
       "      <td>16</td>\n",
       "      <td>0</td>\n",
       "      <td>0</td>\n",
       "      <td>7</td>\n",
       "    </tr>\n",
       "    <tr>\n",
       "      <th>M</th>\n",
       "      <td>1</td>\n",
       "      <td>0</td>\n",
       "      <td>0</td>\n",
       "      <td>0</td>\n",
       "      <td>1</td>\n",
       "      <td>0</td>\n",
       "      <td>0</td>\n",
       "      <td>2</td>\n",
       "    </tr>\n",
       "    <tr>\n",
       "      <th>MI</th>\n",
       "      <td>253</td>\n",
       "      <td>165</td>\n",
       "      <td>198</td>\n",
       "      <td>74</td>\n",
       "      <td>112</td>\n",
       "      <td>74</td>\n",
       "      <td>24</td>\n",
       "      <td>32</td>\n",
       "    </tr>\n",
       "  </tbody>\n",
       "</table>\n",
       "</div>"
      ],
      "text/plain": [
       "Cluster                 0    1    2   3    4   5   6   7\n",
       "COLE_GENEROPOBLACION                                    \n",
       "F                       2    3    0   4   16   0   0   7\n",
       "M                       1    0    0   0    1   0   0   2\n",
       "MI                    253  165  198  74  112  74  24  32"
      ]
     },
     "execution_count": 117,
     "metadata": {},
     "output_type": "execute_result"
    }
   ],
   "source": [
    "tbl_pvt,tbl_frm = tabla_cluster(df_eval,'COLE_GENEROPOBLACION')\n",
    "tbl_pvt"
   ]
  },
  {
   "cell_type": "code",
   "execution_count": 118,
   "metadata": {},
   "outputs": [
    {
     "data": {
      "image/png": "[encoded data removed]",
      "text/plain": [
       "<Figure size 640x480 with 1 Axes>"
      ]
     },
     "metadata": {},
     "output_type": "display_data"
    }
   ],
   "source": [
    "cluster_scatter_plot(tbl_frm,'COLE_GENEROPOBLACION')"
   ]
  },
  {
   "cell_type": "markdown",
   "metadata": {},
   "source": [
    "<a name=\"e5_estrato\"></a>\n",
    "### 6.2.3.2 [&#9700;](#e5_kmeval) MODE_ESTRATOVIVIENDA\n",
    "<hr style=\"border:1px solid blue\"> </hr>"
   ]
  },
  {
   "cell_type": "code",
   "execution_count": 119,
   "metadata": {},
   "outputs": [
    {
     "data": {
      "text/html": [
       "<div>\n",
       "<style scoped>\n",
       "    .dataframe tbody tr th:only-of-type {\n",
       "        vertical-align: middle;\n",
       "    }\n",
       "\n",
       "    .dataframe tbody tr th {\n",
       "        vertical-align: top;\n",
       "    }\n",
       "\n",
       "    .dataframe thead th {\n",
       "        text-align: right;\n",
       "    }\n",
       "</style>\n",
       "<table border=\"1\" class=\"dataframe\">\n",
       "  <thead>\n",
       "    <tr style=\"text-align: right;\">\n",
       "      <th>Cluster</th>\n",
       "      <th>0</th>\n",
       "      <th>1</th>\n",
       "      <th>2</th>\n",
       "      <th>3</th>\n",
       "      <th>4</th>\n",
       "      <th>5</th>\n",
       "      <th>6</th>\n",
       "      <th>7</th>\n",
       "    </tr>\n",
       "    <tr>\n",
       "      <th>MODE_ESTRATOVIVIENDA</th>\n",
       "      <th></th>\n",
       "      <th></th>\n",
       "      <th></th>\n",
       "      <th></th>\n",
       "      <th></th>\n",
       "      <th></th>\n",
       "      <th></th>\n",
       "      <th></th>\n",
       "    </tr>\n",
       "  </thead>\n",
       "  <tbody>\n",
       "    <tr>\n",
       "      <th>Estrato 1</th>\n",
       "      <td>0</td>\n",
       "      <td>0</td>\n",
       "      <td>198</td>\n",
       "      <td>0</td>\n",
       "      <td>0</td>\n",
       "      <td>74</td>\n",
       "      <td>24</td>\n",
       "      <td>0</td>\n",
       "    </tr>\n",
       "    <tr>\n",
       "      <th>Estrato 2</th>\n",
       "      <td>256</td>\n",
       "      <td>166</td>\n",
       "      <td>0</td>\n",
       "      <td>0</td>\n",
       "      <td>0</td>\n",
       "      <td>0</td>\n",
       "      <td>0</td>\n",
       "      <td>0</td>\n",
       "    </tr>\n",
       "    <tr>\n",
       "      <th>Estrato 3</th>\n",
       "      <td>0</td>\n",
       "      <td>0</td>\n",
       "      <td>0</td>\n",
       "      <td>78</td>\n",
       "      <td>129</td>\n",
       "      <td>0</td>\n",
       "      <td>0</td>\n",
       "      <td>0</td>\n",
       "    </tr>\n",
       "    <tr>\n",
       "      <th>Estrato 4</th>\n",
       "      <td>0</td>\n",
       "      <td>1</td>\n",
       "      <td>0</td>\n",
       "      <td>0</td>\n",
       "      <td>0</td>\n",
       "      <td>0</td>\n",
       "      <td>0</td>\n",
       "      <td>21</td>\n",
       "    </tr>\n",
       "    <tr>\n",
       "      <th>Estrato 5</th>\n",
       "      <td>0</td>\n",
       "      <td>0</td>\n",
       "      <td>0</td>\n",
       "      <td>0</td>\n",
       "      <td>0</td>\n",
       "      <td>0</td>\n",
       "      <td>0</td>\n",
       "      <td>15</td>\n",
       "    </tr>\n",
       "    <tr>\n",
       "      <th>Estrato 6</th>\n",
       "      <td>0</td>\n",
       "      <td>0</td>\n",
       "      <td>0</td>\n",
       "      <td>0</td>\n",
       "      <td>0</td>\n",
       "      <td>0</td>\n",
       "      <td>0</td>\n",
       "      <td>3</td>\n",
       "    </tr>\n",
       "    <tr>\n",
       "      <th>Sin Estrato</th>\n",
       "      <td>0</td>\n",
       "      <td>1</td>\n",
       "      <td>0</td>\n",
       "      <td>0</td>\n",
       "      <td>0</td>\n",
       "      <td>0</td>\n",
       "      <td>0</td>\n",
       "      <td>2</td>\n",
       "    </tr>\n",
       "  </tbody>\n",
       "</table>\n",
       "</div>"
      ],
      "text/plain": [
       "Cluster                 0    1    2   3    4   5   6   7\n",
       "MODE_ESTRATOVIVIENDA                                    \n",
       "Estrato 1               0    0  198   0    0  74  24   0\n",
       "Estrato 2             256  166    0   0    0   0   0   0\n",
       "Estrato 3               0    0    0  78  129   0   0   0\n",
       "Estrato 4               0    1    0   0    0   0   0  21\n",
       "Estrato 5               0    0    0   0    0   0   0  15\n",
       "Estrato 6               0    0    0   0    0   0   0   3\n",
       "Sin Estrato             0    1    0   0    0   0   0   2"
      ]
     },
     "execution_count": 119,
     "metadata": {},
     "output_type": "execute_result"
    }
   ],
   "source": [
    "tbl_pvt,tbl_frm = tabla_cluster(df_eval,'MODE_ESTRATOVIVIENDA')\n",
    "tbl_pvt"
   ]
  },
  {
   "cell_type": "code",
   "execution_count": 120,
   "metadata": {},
   "outputs": [
    {
     "data": {
      "image/png": "[encoded data removed]",
      "text/plain": [
       "<Figure size 640x480 with 1 Axes>"
      ]
     },
     "metadata": {},
     "output_type": "display_data"
    }
   ],
   "source": [
    "cluster_scatter_plot(tbl_frm,'MODE_ESTRATOVIVIENDA')"
   ]
  },
  {
   "cell_type": "markdown",
   "metadata": {},
   "source": [
    "<a name=\"e5_caracter\"></a>\n",
    "### 6.2.3.3 [&#9700;](#e5_kmeval) CARACTER_IE\n",
    "<hr style=\"border:1px solid blue\"> </hr>"
   ]
  },
  {
   "cell_type": "code",
   "execution_count": 121,
   "metadata": {},
   "outputs": [
    {
     "data": {
      "text/html": [
       "<div>\n",
       "<style scoped>\n",
       "    .dataframe tbody tr th:only-of-type {\n",
       "        vertical-align: middle;\n",
       "    }\n",
       "\n",
       "    .dataframe tbody tr th {\n",
       "        vertical-align: top;\n",
       "    }\n",
       "\n",
       "    .dataframe thead th {\n",
       "        text-align: right;\n",
       "    }\n",
       "</style>\n",
       "<table border=\"1\" class=\"dataframe\">\n",
       "  <thead>\n",
       "    <tr style=\"text-align: right;\">\n",
       "      <th>Cluster</th>\n",
       "      <th>0</th>\n",
       "      <th>1</th>\n",
       "      <th>2</th>\n",
       "      <th>3</th>\n",
       "      <th>4</th>\n",
       "      <th>5</th>\n",
       "      <th>6</th>\n",
       "      <th>7</th>\n",
       "    </tr>\n",
       "    <tr>\n",
       "      <th>CARACTER_IE</th>\n",
       "      <th></th>\n",
       "      <th></th>\n",
       "      <th></th>\n",
       "      <th></th>\n",
       "      <th></th>\n",
       "      <th></th>\n",
       "      <th></th>\n",
       "      <th></th>\n",
       "    </tr>\n",
       "  </thead>\n",
       "  <tbody>\n",
       "    <tr>\n",
       "      <th>ACADEMICO</th>\n",
       "      <td>231</td>\n",
       "      <td>0</td>\n",
       "      <td>187</td>\n",
       "      <td>0</td>\n",
       "      <td>129</td>\n",
       "      <td>0</td>\n",
       "      <td>0</td>\n",
       "      <td>39</td>\n",
       "    </tr>\n",
       "    <tr>\n",
       "      <th>NO APLICA</th>\n",
       "      <td>6</td>\n",
       "      <td>0</td>\n",
       "      <td>0</td>\n",
       "      <td>2</td>\n",
       "      <td>0</td>\n",
       "      <td>0</td>\n",
       "      <td>24</td>\n",
       "      <td>0</td>\n",
       "    </tr>\n",
       "    <tr>\n",
       "      <th>None</th>\n",
       "      <td>5</td>\n",
       "      <td>0</td>\n",
       "      <td>5</td>\n",
       "      <td>3</td>\n",
       "      <td>0</td>\n",
       "      <td>0</td>\n",
       "      <td>0</td>\n",
       "      <td>1</td>\n",
       "    </tr>\n",
       "    <tr>\n",
       "      <th>TECNICO</th>\n",
       "      <td>14</td>\n",
       "      <td>0</td>\n",
       "      <td>6</td>\n",
       "      <td>15</td>\n",
       "      <td>0</td>\n",
       "      <td>0</td>\n",
       "      <td>0</td>\n",
       "      <td>1</td>\n",
       "    </tr>\n",
       "    <tr>\n",
       "      <th>TECNICO/ACADEMICO</th>\n",
       "      <td>0</td>\n",
       "      <td>168</td>\n",
       "      <td>0</td>\n",
       "      <td>58</td>\n",
       "      <td>0</td>\n",
       "      <td>74</td>\n",
       "      <td>0</td>\n",
       "      <td>0</td>\n",
       "    </tr>\n",
       "  </tbody>\n",
       "</table>\n",
       "</div>"
      ],
      "text/plain": [
       "Cluster              0    1    2   3    4   5   6   7\n",
       "CARACTER_IE                                          \n",
       "ACADEMICO          231    0  187   0  129   0   0  39\n",
       "NO APLICA            6    0    0   2    0   0  24   0\n",
       "None                 5    0    5   3    0   0   0   1\n",
       "TECNICO             14    0    6  15    0   0   0   1\n",
       "TECNICO/ACADEMICO    0  168    0  58    0  74   0   0"
      ]
     },
     "execution_count": 121,
     "metadata": {},
     "output_type": "execute_result"
    }
   ],
   "source": [
    "tbl_pvt,tbl_frm = tabla_cluster(df_eval,'CARACTER_IE')\n",
    "tbl_pvt"
   ]
  },
  {
   "cell_type": "code",
   "execution_count": 122,
   "metadata": {},
   "outputs": [
    {
     "data": {
      "image/png": "[encoded data removed]",
      "text/plain": [
       "<Figure size 640x480 with 1 Axes>"
      ]
     },
     "metadata": {},
     "output_type": "display_data"
    }
   ],
   "source": [
    "cluster_scatter_plot(tbl_frm,'CARACTER_IE')"
   ]
  },
  {
   "cell_type": "markdown",
   "metadata": {},
   "source": [
    "<a name=\"e5_prueba\"></a>\n",
    "## 6.2.4 [&#9680;](#e5_kmeans) Prueba Clasificacion\n",
    "\n",
    "<hr style=\"border:1px solid black\"> </hr>"
   ]
  },
  {
   "cell_type": "code",
   "execution_count": 123,
   "metadata": {},
   "outputs": [
    {
     "name": "stdout",
     "output_type": "stream",
     "text": [
      "[[0 0 1 1 0 0 0 0 0 0 1 0 0 0 0]]\n"
     ]
    }
   ],
   "source": [
    "#se extrae un registro para prueba\n",
    "prueba = np.array(df_kmeans.drop(['COD_COL','Cluster'], axis = 1).iloc[0,:]).reshape(1, -1)\n",
    "print(prueba)"
   ]
  },
  {
   "cell_type": "code",
   "execution_count": 124,
   "metadata": {},
   "outputs": [
    {
     "data": {
      "text/plain": [
       "2"
      ]
     },
     "execution_count": 124,
     "metadata": {},
     "output_type": "execute_result"
    }
   ],
   "source": [
    "#se predice el cluster al que pertenece\n",
    "algorithm.predict(prueba)[0]"
   ]
  },
  {
   "cell_type": "markdown",
   "metadata": {},
   "source": [
    "<a name=\"e5_centroides\"></a>\n",
    "## 6.2.5 [&#9680;](#e5_kmeans) Centroides\n",
    "\n",
    "<hr style=\"border:1px solid black\"> </hr>"
   ]
  },
  {
   "cell_type": "code",
   "execution_count": 125,
   "metadata": {},
   "outputs": [
    {
     "name": "stdout",
     "output_type": "stream",
     "text": [
      "Centroide Cluster  0 \n",
      " [ 7.81250000e-03  3.90625000e-03  9.88281250e-01  2.22044605e-16\n",
      "  1.00000000e+00 -2.77555756e-16  1.38777878e-17  1.73472348e-17\n",
      "  2.60208521e-18  2.60208521e-18  9.02343750e-01  2.34375000e-02\n",
      "  1.95312500e-02  5.46875000e-02 -2.77555756e-16] \n",
      "\n",
      "Centroide Cluster  1 \n",
      " [ 1.78571429e-02  3.46944695e-18  9.82142857e-01  2.22044605e-16\n",
      "  9.88095238e-01 -1.94289029e-16  5.95238095e-03  1.38777878e-17\n",
      " -8.67361738e-19  5.95238095e-03 -4.44089210e-16  2.77555756e-17\n",
      " -3.46944695e-18  6.93889390e-18  1.00000000e+00] \n",
      "\n",
      "Centroide Cluster  2 \n",
      " [ 3.46944695e-17  4.33680869e-18  1.00000000e+00  1.00000000e+00\n",
      "  1.11022302e-16 -2.49800181e-16  6.93889390e-18  1.38777878e-17\n",
      "  4.33680869e-19  4.33680869e-19  9.44444444e-01  3.46944695e-17\n",
      "  2.52525253e-02  3.03030303e-02 -2.77555756e-16] \n",
      "\n",
      "Centroide Cluster  3 \n",
      " [ 5.12820513e-02  8.67361738e-19  9.48717949e-01  5.55111512e-17\n",
      "  1.11022302e-16  1.00000000e+00  3.46944695e-18  1.73472348e-18\n",
      " -1.30104261e-18 -1.30104261e-18  1.11022302e-16  2.56410256e-02\n",
      "  3.84615385e-02  1.92307692e-01  7.43589744e-01] \n",
      "\n",
      "Centroide Cluster  4 \n",
      " [ 1.24031008e-01  7.75193798e-03  8.68217054e-01  1.66533454e-16\n",
      " -1.66533454e-16  1.00000000e+00  1.38777878e-17  1.04083409e-17\n",
      " -2.16840434e-18 -2.16840434e-18  1.00000000e+00  6.93889390e-18\n",
      " -5.20417043e-18  6.93889390e-18 -2.22044605e-16] \n",
      "\n",
      "Centroide Cluster  5 \n",
      " [-6.93889390e-18 -8.67361738e-19  1.00000000e+00  1.00000000e+00\n",
      " -1.11022302e-16 -8.32667268e-17  0.00000000e+00  1.73472348e-18\n",
      " -8.67361738e-19 -8.67361738e-19 -1.11022302e-16 -6.93889390e-18\n",
      " -5.20417043e-18  6.93889390e-18  1.00000000e+00] \n",
      "\n",
      "Centroide Cluster  6 \n",
      " [ 0.00000000e+00  0.00000000e+00  1.00000000e+00  1.00000000e+00\n",
      "  0.00000000e+00 -2.77555756e-17  6.93889390e-18  3.46944695e-18\n",
      " -8.67361738e-19 -8.67361738e-19  1.11022302e-16  1.00000000e+00\n",
      " -3.46944695e-18  1.38777878e-17 -1.11022302e-16] \n",
      "\n",
      "Centroide Cluster  7 \n",
      " [ 1.70731707e-01  4.87804878e-02  7.80487805e-01  0.00000000e+00\n",
      " -5.55111512e-17 -2.77555756e-17  5.12195122e-01  3.65853659e-01\n",
      "  7.31707317e-02  4.87804878e-02  9.51219512e-01 -6.93889390e-18\n",
      "  2.43902439e-02  2.43902439e-02 -5.55111512e-17] \n",
      "\n"
     ]
    }
   ],
   "source": [
    "centroides = algorithm.cluster_centers_\n",
    "for i in range(len(centroides)):\n",
    "    print('Centroide Cluster ',i,'\\n',centroides[i],'\\n')"
   ]
  },
  {
   "cell_type": "code",
   "execution_count": 126,
   "metadata": {},
   "outputs": [],
   "source": [
    "df_centroides = pd.DataFrame(centroides)\n",
    "df_centroides.head(3)\n",
    "df_centroides.to_csv('..\\Archivos\\centroides.csv' , sep= '|')"
   ]
  },
  {
   "cell_type": "code",
   "execution_count": 127,
   "metadata": {},
   "outputs": [
    {
     "name": "stdout",
     "output_type": "stream",
     "text": [
      "[[0 0 1 1 0 0 0 0 0 0 1 0 0 0 0]]\n"
     ]
    }
   ],
   "source": [
    "#se extrae un registro para prueba\n",
    "prueba = np.array(df_kmeans.drop(['COD_COL','Cluster'], axis = 1).iloc[0,:]).reshape(1, -1)\n",
    "print(prueba)"
   ]
  },
  {
   "cell_type": "markdown",
   "metadata": {},
   "source": [
    "#### Distancia euclidea\n",
    "\n",
    "<a><img src=\"https://raw.githubusercontent.com/Camilorb07/Integrador_S1_2021/main/Imagenes/Euclidea.PNG\" width=\"250\" align=\"center\"></a>"
   ]
  },
  {
   "cell_type": "code",
   "execution_count": 128,
   "metadata": {},
   "outputs": [
    {
     "data": {
      "text/plain": [
       "[1.4190390674678413,\n",
       " 1.9942519440448168,\n",
       " 0.06813503819814183,\n",
       " 1.8966561114226037,\n",
       " 1.4257666457781402,\n",
       " 1.414213562373095,\n",
       " 1.414213562373095,\n",
       " 1.2195121951219512]"
      ]
     },
     "execution_count": 128,
     "metadata": {},
     "output_type": "execute_result"
    }
   ],
   "source": [
    "distancias = []\n",
    "for i in centroides:\n",
    "    distancias.append(distance.euclidean(prueba, i))\n",
    "    #distancias.append(np.sqrt(np.sum(np.square(prueba-i))))\n",
    "distancias"
   ]
  },
  {
   "cell_type": "code",
   "execution_count": 129,
   "metadata": {},
   "outputs": [
    {
     "name": "stdout",
     "output_type": "stream",
     "text": [
      "cluster =  2\n"
     ]
    }
   ],
   "source": [
    "min_value = min(distancias)\n",
    "min_index = distancias.index(min_value)\n",
    "print('cluster = ',min_index)"
   ]
  },
  {
   "cell_type": "markdown",
   "metadata": {},
   "source": [
    "<a name=\"e5_kmodes\"></a><hr style=\"border:1px solid black\"> </hr>\n",
    "\n",
    "## 6.3. [&#9678;](#e5) k-modes\n",
    "\n",
    "1. [Modelo - Métodos de selección de k](#e5_metodos2)\n",
    "2. [Selección de k](#e5_kmsel2)\n",
    "3. [Evaluación de Resultados](#e5_kmeval2)\n",
    "    1. [COLE_GENEROPOBLACION](#e5_genero2)\n",
    "    2. [MODE_ESTRATOVIVIENDA](#e5_estrato2)\n",
    "    3. [CARACTER_IE](#e5_caracter2)\n",
    "4. [Prueba Clasificacion](#e5_prueba2)\n",
    "5. [Centroides](#e5_centroides2)\n",
    "\n",
    "<hr style=\"border:1px solid black\"> </hr>"
   ]
  },
  {
   "cell_type": "markdown",
   "metadata": {},
   "source": [
    "<a name=\"e5_metodos2\"></a>\n",
    "## 6.3.1 [&#9680;](#e5_kmodes) Modelo - Métodos de selección de k\n",
    "\n",
    "<hr style=\"border:1px solid black\"> </hr>\n",
    "\n",
    "Se corre el modelo de K-modes para diferentes valores de **K** (número de clusters) y evaluando que tan adecuada es cada valor de k midiendo la distancia de os puntos a los centroides de su respectivo cluster, entre mejor segmentados estén los grupos menor será esta distancia.\n",
    "\n",
    "Si se divide en demasiados clusters el modelo perdería sentido y si se divide en pocos clusters las distancias serían muy grandes, es por esto que aplicamos los siguientes métodos conocidos como el método del codo y el método de Silhouette."
   ]
  },
  {
   "cell_type": "code",
   "execution_count": 130,
   "metadata": {},
   "outputs": [
    {
     "name": "stdout",
     "output_type": "stream",
     "text": [
      "Init: initializing centroids\n",
      "Init: initializing clusters\n",
      "Starting iterations...\n",
      "Run 1, iteration: 1/100, moves: 0, cost: 2300.0\n",
      "Init: initializing centroids\n",
      "Init: initializing clusters\n",
      "Starting iterations...\n",
      "Run 2, iteration: 1/100, moves: 0, cost: 2300.0\n",
      "Init: initializing centroids\n",
      "Init: initializing clusters\n",
      "Starting iterations...\n",
      "Run 3, iteration: 1/100, moves: 0, cost: 2111.0\n",
      "Init: initializing centroids\n",
      "Init: initializing clusters\n",
      "Starting iterations...\n",
      "Run 4, iteration: 1/100, moves: 0, cost: 2300.0\n",
      "Init: initializing centroids\n",
      "Init: initializing clusters\n",
      "Starting iterations...\n",
      "Run 5, iteration: 1/100, moves: 100, cost: 2111.0\n",
      "Best run was number 3\n",
      "Init: initializing centroids\n",
      "Init: initializing clusters\n",
      "Starting iterations...\n",
      "Run 1, iteration: 1/100, moves: 223, cost: 1848.0\n",
      "Run 1, iteration: 2/100, moves: 6, cost: 1846.0\n",
      "Run 1, iteration: 3/100, moves: 0, cost: 1846.0\n",
      "Init: initializing centroids\n",
      "Init: initializing clusters\n",
      "Starting iterations...\n",
      "Run 2, iteration: 1/100, moves: 0, cost: 2299.0\n",
      "Init: initializing centroids\n",
      "Init: initializing clusters\n",
      "Starting iterations...\n",
      "Run 3, iteration: 1/100, moves: 36, cost: 1846.0\n",
      "Run 3, iteration: 2/100, moves: 24, cost: 1846.0\n",
      "Init: initializing centroids\n",
      "Init: initializing clusters\n",
      "Starting iterations...\n",
      "Run 4, iteration: 1/100, moves: 0, cost: 1846.0\n",
      "Init: initializing centroids\n",
      "Init: initializing clusters\n",
      "Starting iterations...\n",
      "Run 5, iteration: 1/100, moves: 26, cost: 1846.0\n",
      "Best run was number 1\n",
      "Init: initializing centroids\n",
      "Init: initializing clusters\n",
      "Starting iterations...\n",
      "Run 1, iteration: 1/100, moves: 304, cost: 1755.0\n",
      "Run 1, iteration: 2/100, moves: 18, cost: 1755.0\n",
      "Init: initializing centroids\n",
      "Init: initializing clusters\n",
      "Starting iterations...\n",
      "Run 2, iteration: 1/100, moves: 0, cost: 1845.0\n",
      "Init: initializing centroids\n",
      "Init: initializing clusters\n",
      "Starting iterations...\n",
      "Run 3, iteration: 1/100, moves: 0, cost: 2298.0\n",
      "Init: initializing centroids\n",
      "Init: initializing clusters\n",
      "Starting iterations...\n",
      "Run 4, iteration: 1/100, moves: 127, cost: 1930.0\n",
      "Run 4, iteration: 2/100, moves: 91, cost: 1883.0\n",
      "Run 4, iteration: 3/100, moves: 1, cost: 1883.0\n",
      "Init: initializing centroids\n",
      "Init: initializing clusters\n",
      "Starting iterations...\n",
      "Run 5, iteration: 1/100, moves: 301, cost: 1774.0\n",
      "Run 5, iteration: 2/100, moves: 18, cost: 1772.0\n",
      "Run 5, iteration: 3/100, moves: 0, cost: 1772.0\n",
      "Best run was number 1\n",
      "Init: initializing centroids\n",
      "Init: initializing clusters\n",
      "Starting iterations...\n",
      "Run 1, iteration: 1/100, moves: 0, cost: 1695.0\n",
      "Init: initializing centroids\n",
      "Init: initializing clusters\n",
      "Starting iterations...\n",
      "Run 2, iteration: 1/100, moves: 0, cost: 2297.0\n",
      "Init: initializing centroids\n",
      "Init: initializing clusters\n",
      "Starting iterations...\n",
      "Run 3, iteration: 1/100, moves: 0, cost: 1544.0\n",
      "Init: initializing centroids\n",
      "Init: initializing clusters\n",
      "Starting iterations...\n",
      "Run 4, iteration: 1/100, moves: 118, cost: 2020.0\n",
      "Run 4, iteration: 2/100, moves: 42, cost: 2020.0\n",
      "Init: initializing centroids\n",
      "Init: initializing clusters\n",
      "Starting iterations...\n",
      "Run 5, iteration: 1/100, moves: 110, cost: 1396.0\n",
      "Run 5, iteration: 2/100, moves: 4, cost: 1396.0\n",
      "Best run was number 5\n",
      "Init: initializing centroids\n",
      "Init: initializing clusters\n",
      "Starting iterations...\n",
      "Run 1, iteration: 1/100, moves: 172, cost: 1395.0\n",
      "Run 1, iteration: 2/100, moves: 0, cost: 1395.0\n",
      "Init: initializing centroids\n",
      "Init: initializing clusters\n",
      "Starting iterations...\n",
      "Run 2, iteration: 1/100, moves: 60, cost: 1543.0\n",
      "Init: initializing centroids\n",
      "Init: initializing clusters\n",
      "Starting iterations...\n",
      "Run 3, iteration: 1/100, moves: 0, cost: 1279.0\n",
      "Init: initializing centroids\n",
      "Init: initializing clusters\n",
      "Starting iterations...\n",
      "Run 4, iteration: 1/100, moves: 36, cost: 1843.0\n",
      "Run 4, iteration: 2/100, moves: 24, cost: 1843.0\n",
      "Init: initializing centroids\n",
      "Init: initializing clusters\n",
      "Starting iterations...\n",
      "Run 5, iteration: 1/100, moves: 0, cost: 1544.0\n",
      "Best run was number 3\n",
      "Init: initializing centroids\n",
      "Init: initializing clusters\n",
      "Starting iterations...\n",
      "Run 1, iteration: 1/100, moves: 0, cost: 1393.0\n",
      "Init: initializing centroids\n",
      "Init: initializing clusters\n",
      "Starting iterations...\n",
      "Run 2, iteration: 1/100, moves: 263, cost: 1767.0\n",
      "Run 2, iteration: 2/100, moves: 1, cost: 1767.0\n",
      "Init: initializing centroids\n",
      "Init: initializing clusters\n",
      "Starting iterations...\n",
      "Run 3, iteration: 1/100, moves: 0, cost: 1692.0\n",
      "Init: initializing centroids\n",
      "Init: initializing clusters\n",
      "Starting iterations...\n",
      "Run 4, iteration: 1/100, moves: 0, cost: 1693.0\n",
      "Init: initializing centroids\n",
      "Init: initializing clusters\n",
      "Starting iterations...\n",
      "Run 5, iteration: 1/100, moves: 36, cost: 1714.0\n",
      "Best run was number 1\n",
      "Init: initializing centroids\n",
      "Init: initializing clusters\n",
      "Starting iterations...\n",
      "Run 1, iteration: 1/100, moves: 0, cost: 1674.0\n",
      "Init: initializing centroids\n",
      "Init: initializing clusters\n",
      "Starting iterations...\n",
      "Run 2, iteration: 1/100, moves: 27, cost: 1345.0\n",
      "Run 2, iteration: 2/100, moves: 3, cost: 1344.0\n",
      "Run 2, iteration: 3/100, moves: 0, cost: 1344.0\n",
      "Init: initializing centroids\n",
      "Init: initializing clusters\n",
      "Starting iterations...\n",
      "Run 3, iteration: 1/100, moves: 0, cost: 1361.0\n",
      "Init: initializing centroids\n",
      "Init: initializing clusters\n",
      "Starting iterations...\n",
      "Run 4, iteration: 1/100, moves: 0, cost: 1840.0\n",
      "Init: initializing centroids\n",
      "Init: initializing clusters\n",
      "Starting iterations...\n",
      "Run 5, iteration: 1/100, moves: 0, cost: 1540.0\n",
      "Best run was number 2\n",
      "Init: initializing centroids\n",
      "Init: initializing clusters\n",
      "Starting iterations...\n",
      "Run 1, iteration: 1/100, moves: 1, cost: 1490.0\n",
      "Init: initializing centroids\n",
      "Init: initializing clusters\n",
      "Starting iterations...\n",
      "Run 2, iteration: 1/100, moves: 0, cost: 1690.0\n",
      "Init: initializing centroids\n",
      "Init: initializing clusters\n",
      "Starting iterations...\n",
      "Run 3, iteration: 1/100, moves: 0, cost: 1390.0\n",
      "Init: initializing centroids\n",
      "Init: initializing clusters\n",
      "Starting iterations...\n",
      "Run 4, iteration: 1/100, moves: 126, cost: 1690.0\n",
      "Run 4, iteration: 2/100, moves: 5, cost: 1690.0\n",
      "Init: initializing centroids\n",
      "Init: initializing clusters\n",
      "Starting iterations...\n",
      "Run 5, iteration: 1/100, moves: 110, cost: 1508.0\n",
      "Best run was number 3\n",
      "Init: initializing centroids\n",
      "Init: initializing clusters\n",
      "Starting iterations...\n",
      "Run 1, iteration: 1/100, moves: 0, cost: 1390.0\n",
      "Init: initializing centroids\n",
      "Init: initializing clusters\n",
      "Starting iterations...\n",
      "Run 2, iteration: 1/100, moves: 0, cost: 1629.0\n",
      "Init: initializing centroids\n",
      "Init: initializing clusters\n",
      "Starting iterations...\n",
      "Run 3, iteration: 1/100, moves: 0, cost: 1495.0\n",
      "Init: initializing centroids\n",
      "Init: initializing clusters\n",
      "Starting iterations...\n",
      "Run 4, iteration: 1/100, moves: 0, cost: 1647.0\n",
      "Init: initializing centroids\n",
      "Init: initializing clusters\n",
      "Starting iterations...\n",
      "Run 5, iteration: 1/100, moves: 19, cost: 1273.0\n",
      "Run 5, iteration: 2/100, moves: 0, cost: 1273.0\n",
      "Best run was number 5\n"
     ]
    },
    {
     "data": {
      "image/png": "[encoded data removed]",
      "text/plain": [
       "<Figure size 640x480 with 1 Axes>"
      ]
     },
     "metadata": {},
     "output_type": "display_data"
    },
    {
     "data": {
      "image/png": "[encoded data removed]",
      "text/plain": [
       "<Figure size 640x480 with 1 Axes>"
      ]
     },
     "metadata": {},
     "output_type": "display_data"
    }
   ],
   "source": [
    "k_algs,kres = k_selection_2(df_modelos, 2, 10)"
   ]
  },
  {
   "cell_type": "markdown",
   "metadata": {},
   "source": [
    "<a><img src=\"https://raw.githubusercontent.com/Camilorb07/Integrador_S1_2021/main/Imagenes/error2.PNG\" width=\"500\" align=\"Left\"></a>\n",
    "\n",
    "<a><img src=\"https://raw.githubusercontent.com/Camilorb07/Integrador_S1_2021/main/Imagenes/errorsil.PNG\" width=\"500\" align=\"Left\"></a>"
   ]
  },
  {
   "cell_type": "markdown",
   "metadata": {},
   "source": [
    "<a name=\"e5_kmsel2\"></a>\n",
    "## 6.3.2 [&#9680;](#e5_kmodes) Selección de k\n",
    "\n",
    "<hr style=\"border:1px solid black\"> </hr>"
   ]
  },
  {
   "cell_type": "code",
   "execution_count": 131,
   "metadata": {},
   "outputs": [],
   "source": [
    "k = 6"
   ]
  },
  {
   "cell_type": "code",
   "execution_count": 132,
   "metadata": {},
   "outputs": [],
   "source": [
    "algorithm = k_algs[k-2] # \n",
    "clustering = k_res[k-2] # "
   ]
  },
  {
   "cell_type": "code",
   "execution_count": 133,
   "metadata": {},
   "outputs": [
    {
     "name": "stdout",
     "output_type": "stream",
     "text": [
      "Init: initializing centroids\n",
      "Init: initializing clusters\n",
      "Starting iterations...\n",
      "Run 1, iteration: 1/100, moves: 2, cost: 532.0\n",
      "Init: initializing centroids\n",
      "Init: initializing clusters\n",
      "Starting iterations...\n",
      "Run 2, iteration: 1/100, moves: 37, cost: 794.0\n",
      "Init: initializing centroids\n",
      "Init: initializing clusters\n",
      "Starting iterations...\n",
      "Run 3, iteration: 1/100, moves: 61, cost: 539.0\n",
      "Init: initializing centroids\n",
      "Init: initializing clusters\n",
      "Starting iterations...\n",
      "Run 4, iteration: 1/100, moves: 0, cost: 426.0\n",
      "Init: initializing centroids\n",
      "Init: initializing clusters\n",
      "Starting iterations...\n",
      "Run 5, iteration: 1/100, moves: 0, cost: 422.0\n",
      "Best run was number 5\n"
     ]
    }
   ],
   "source": [
    "cls_list = algorithm.fit_predict(df_modelos.drop(['COD_COL'], axis = 1))"
   ]
  },
  {
   "cell_type": "code",
   "execution_count": 134,
   "metadata": {},
   "outputs": [],
   "source": [
    "df_kmodes = df_modelos.copy()"
   ]
  },
  {
   "cell_type": "code",
   "execution_count": 135,
   "metadata": {},
   "outputs": [
    {
     "data": {
      "text/html": [
       "<div>\n",
       "<style scoped>\n",
       "    .dataframe tbody tr th:only-of-type {\n",
       "        vertical-align: middle;\n",
       "    }\n",
       "\n",
       "    .dataframe tbody tr th {\n",
       "        vertical-align: top;\n",
       "    }\n",
       "\n",
       "    .dataframe thead th {\n",
       "        text-align: right;\n",
       "    }\n",
       "</style>\n",
       "<table border=\"1\" class=\"dataframe\">\n",
       "  <thead>\n",
       "    <tr style=\"text-align: right;\">\n",
       "      <th></th>\n",
       "      <th>COD_COL</th>\n",
       "      <th>COLE_GENEROPOBLACION_F</th>\n",
       "      <th>COLE_GENEROPOBLACION_M</th>\n",
       "      <th>COLE_GENEROPOBLACION_MI</th>\n",
       "      <th>MODE_ESTRATOVIVIENDA_Estrato 1</th>\n",
       "      <th>MODE_ESTRATOVIVIENDA_Estrato 2</th>\n",
       "      <th>MODE_ESTRATOVIVIENDA_Estrato 3</th>\n",
       "      <th>MODE_ESTRATOVIVIENDA_Estrato 4</th>\n",
       "      <th>MODE_ESTRATOVIVIENDA_Estrato 5</th>\n",
       "      <th>MODE_ESTRATOVIVIENDA_Estrato 6</th>\n",
       "      <th>MODE_ESTRATOVIVIENDA_Sin Estrato</th>\n",
       "      <th>CARACTER_IE_ACADEMICO</th>\n",
       "      <th>CARACTER_IE_NO APLICA</th>\n",
       "      <th>CARACTER_IE_None</th>\n",
       "      <th>CARACTER_IE_TECNICO</th>\n",
       "      <th>CARACTER_IE_TECNICO/ACADEMICO</th>\n",
       "      <th>Cluster</th>\n",
       "    </tr>\n",
       "  </thead>\n",
       "  <tbody>\n",
       "    <tr>\n",
       "      <th>0</th>\n",
       "      <td>205790000235</td>\n",
       "      <td>0</td>\n",
       "      <td>0</td>\n",
       "      <td>1</td>\n",
       "      <td>1</td>\n",
       "      <td>0</td>\n",
       "      <td>0</td>\n",
       "      <td>0</td>\n",
       "      <td>0</td>\n",
       "      <td>0</td>\n",
       "      <td>0</td>\n",
       "      <td>1</td>\n",
       "      <td>0</td>\n",
       "      <td>0</td>\n",
       "      <td>0</td>\n",
       "      <td>0</td>\n",
       "      <td>0</td>\n",
       "    </tr>\n",
       "    <tr>\n",
       "      <th>1</th>\n",
       "      <td>105147000568</td>\n",
       "      <td>0</td>\n",
       "      <td>0</td>\n",
       "      <td>1</td>\n",
       "      <td>0</td>\n",
       "      <td>1</td>\n",
       "      <td>0</td>\n",
       "      <td>0</td>\n",
       "      <td>0</td>\n",
       "      <td>0</td>\n",
       "      <td>0</td>\n",
       "      <td>0</td>\n",
       "      <td>0</td>\n",
       "      <td>0</td>\n",
       "      <td>0</td>\n",
       "      <td>1</td>\n",
       "      <td>3</td>\n",
       "    </tr>\n",
       "    <tr>\n",
       "      <th>2</th>\n",
       "      <td>105147000401</td>\n",
       "      <td>0</td>\n",
       "      <td>0</td>\n",
       "      <td>1</td>\n",
       "      <td>0</td>\n",
       "      <td>1</td>\n",
       "      <td>0</td>\n",
       "      <td>0</td>\n",
       "      <td>0</td>\n",
       "      <td>0</td>\n",
       "      <td>0</td>\n",
       "      <td>1</td>\n",
       "      <td>0</td>\n",
       "      <td>0</td>\n",
       "      <td>0</td>\n",
       "      <td>0</td>\n",
       "      <td>5</td>\n",
       "    </tr>\n",
       "  </tbody>\n",
       "</table>\n",
       "</div>"
      ],
      "text/plain": [
       "        COD_COL  COLE_GENEROPOBLACION_F  COLE_GENEROPOBLACION_M  \\\n",
       "0  205790000235                       0                       0   \n",
       "1  105147000568                       0                       0   \n",
       "2  105147000401                       0                       0   \n",
       "\n",
       "   COLE_GENEROPOBLACION_MI  MODE_ESTRATOVIVIENDA_Estrato 1  \\\n",
       "0                        1                               1   \n",
       "1                        1                               0   \n",
       "2                        1                               0   \n",
       "\n",
       "   MODE_ESTRATOVIVIENDA_Estrato 2  MODE_ESTRATOVIVIENDA_Estrato 3  \\\n",
       "0                               0                               0   \n",
       "1                               1                               0   \n",
       "2                               1                               0   \n",
       "\n",
       "   MODE_ESTRATOVIVIENDA_Estrato 4  MODE_ESTRATOVIVIENDA_Estrato 5  \\\n",
       "0                               0                               0   \n",
       "1                               0                               0   \n",
       "2                               0                               0   \n",
       "\n",
       "   MODE_ESTRATOVIVIENDA_Estrato 6  MODE_ESTRATOVIVIENDA_Sin Estrato  \\\n",
       "0                               0                                 0   \n",
       "1                               0                                 0   \n",
       "2                               0                                 0   \n",
       "\n",
       "   CARACTER_IE_ACADEMICO  CARACTER_IE_NO APLICA  CARACTER_IE_None  \\\n",
       "0                      1                      0                 0   \n",
       "1                      0                      0                 0   \n",
       "2                      1                      0                 0   \n",
       "\n",
       "   CARACTER_IE_TECNICO  CARACTER_IE_TECNICO/ACADEMICO  Cluster  \n",
       "0                    0                              0        0  \n",
       "1                    0                              1        3  \n",
       "2                    0                              0        5  "
      ]
     },
     "execution_count": 135,
     "metadata": {},
     "output_type": "execute_result"
    }
   ],
   "source": [
    "df_kmodes.insert(len(df_modelos.columns), 'Cluster', cls_list, True)\n",
    "df_kmodes.head(3)"
   ]
  },
  {
   "cell_type": "code",
   "execution_count": 136,
   "metadata": {},
   "outputs": [],
   "source": [
    "df_unificado['Cluster'] = df_kmodes['Cluster'].copy()\n",
    "df_unificado.to_csv('..\\Archivos\\BD_Clustered2.csv' , sep= '|')"
   ]
  },
  {
   "cell_type": "markdown",
   "metadata": {},
   "source": [
    "<a name=\"e5_kmeval2\"></a>\n",
    "## 6.3.3 [&#9680;](#e5_kmodes) Evaluación de Resultados\n",
    "\n",
    "1. [COLE_GENEROPOBLACION](#e5_genero2)\n",
    "2. [MODE_ESTRATOVIVIENDA](#e5_estrato2)\n",
    "3. [CARACTER_IE](#e5_caracter2)\n",
    "\n",
    "<hr style=\"border:1px solid black\"> </hr>"
   ]
  },
  {
   "cell_type": "code",
   "execution_count": 137,
   "metadata": {},
   "outputs": [
    {
     "data": {
      "text/html": [
       "<div>\n",
       "<style scoped>\n",
       "    .dataframe tbody tr th:only-of-type {\n",
       "        vertical-align: middle;\n",
       "    }\n",
       "\n",
       "    .dataframe tbody tr th {\n",
       "        vertical-align: top;\n",
       "    }\n",
       "\n",
       "    .dataframe thead th {\n",
       "        text-align: right;\n",
       "    }\n",
       "</style>\n",
       "<table border=\"1\" class=\"dataframe\">\n",
       "  <thead>\n",
       "    <tr style=\"text-align: right;\">\n",
       "      <th></th>\n",
       "      <th>COD_COL</th>\n",
       "      <th>COLE_GENEROPOBLACION_F</th>\n",
       "      <th>COLE_GENEROPOBLACION_M</th>\n",
       "      <th>COLE_GENEROPOBLACION_MI</th>\n",
       "      <th>MODE_ESTRATOVIVIENDA_Estrato 1</th>\n",
       "      <th>MODE_ESTRATOVIVIENDA_Estrato 2</th>\n",
       "      <th>MODE_ESTRATOVIVIENDA_Estrato 3</th>\n",
       "      <th>MODE_ESTRATOVIVIENDA_Estrato 4</th>\n",
       "      <th>MODE_ESTRATOVIVIENDA_Estrato 5</th>\n",
       "      <th>MODE_ESTRATOVIVIENDA_Estrato 6</th>\n",
       "      <th>MODE_ESTRATOVIVIENDA_Sin Estrato</th>\n",
       "      <th>CARACTER_IE_ACADEMICO</th>\n",
       "      <th>CARACTER_IE_NO APLICA</th>\n",
       "      <th>CARACTER_IE_None</th>\n",
       "      <th>CARACTER_IE_TECNICO</th>\n",
       "      <th>CARACTER_IE_TECNICO/ACADEMICO</th>\n",
       "      <th>Cluster</th>\n",
       "      <th>COLE_GENEROPOBLACION</th>\n",
       "      <th>MODE_ESTRATOVIVIENDA</th>\n",
       "      <th>CARACTER_IE</th>\n",
       "    </tr>\n",
       "  </thead>\n",
       "  <tbody>\n",
       "    <tr>\n",
       "      <th>0</th>\n",
       "      <td>205790000235</td>\n",
       "      <td>0</td>\n",
       "      <td>0</td>\n",
       "      <td>1</td>\n",
       "      <td>1</td>\n",
       "      <td>0</td>\n",
       "      <td>0</td>\n",
       "      <td>0</td>\n",
       "      <td>0</td>\n",
       "      <td>0</td>\n",
       "      <td>0</td>\n",
       "      <td>1</td>\n",
       "      <td>0</td>\n",
       "      <td>0</td>\n",
       "      <td>0</td>\n",
       "      <td>0</td>\n",
       "      <td>0</td>\n",
       "      <td>MI</td>\n",
       "      <td>Estrato 1</td>\n",
       "      <td>ACADEMICO</td>\n",
       "    </tr>\n",
       "    <tr>\n",
       "      <th>1</th>\n",
       "      <td>105147000568</td>\n",
       "      <td>0</td>\n",
       "      <td>0</td>\n",
       "      <td>1</td>\n",
       "      <td>0</td>\n",
       "      <td>1</td>\n",
       "      <td>0</td>\n",
       "      <td>0</td>\n",
       "      <td>0</td>\n",
       "      <td>0</td>\n",
       "      <td>0</td>\n",
       "      <td>0</td>\n",
       "      <td>0</td>\n",
       "      <td>0</td>\n",
       "      <td>0</td>\n",
       "      <td>1</td>\n",
       "      <td>3</td>\n",
       "      <td>MI</td>\n",
       "      <td>Estrato 2</td>\n",
       "      <td>TECNICO/ACADEMICO</td>\n",
       "    </tr>\n",
       "    <tr>\n",
       "      <th>2</th>\n",
       "      <td>105147000401</td>\n",
       "      <td>0</td>\n",
       "      <td>0</td>\n",
       "      <td>1</td>\n",
       "      <td>0</td>\n",
       "      <td>1</td>\n",
       "      <td>0</td>\n",
       "      <td>0</td>\n",
       "      <td>0</td>\n",
       "      <td>0</td>\n",
       "      <td>0</td>\n",
       "      <td>1</td>\n",
       "      <td>0</td>\n",
       "      <td>0</td>\n",
       "      <td>0</td>\n",
       "      <td>0</td>\n",
       "      <td>5</td>\n",
       "      <td>MI</td>\n",
       "      <td>Estrato 2</td>\n",
       "      <td>ACADEMICO</td>\n",
       "    </tr>\n",
       "  </tbody>\n",
       "</table>\n",
       "</div>"
      ],
      "text/plain": [
       "        COD_COL  COLE_GENEROPOBLACION_F  COLE_GENEROPOBLACION_M  \\\n",
       "0  205790000235                       0                       0   \n",
       "1  105147000568                       0                       0   \n",
       "2  105147000401                       0                       0   \n",
       "\n",
       "   COLE_GENEROPOBLACION_MI  MODE_ESTRATOVIVIENDA_Estrato 1  \\\n",
       "0                        1                               1   \n",
       "1                        1                               0   \n",
       "2                        1                               0   \n",
       "\n",
       "   MODE_ESTRATOVIVIENDA_Estrato 2  MODE_ESTRATOVIVIENDA_Estrato 3  \\\n",
       "0                               0                               0   \n",
       "1                               1                               0   \n",
       "2                               1                               0   \n",
       "\n",
       "   MODE_ESTRATOVIVIENDA_Estrato 4  MODE_ESTRATOVIVIENDA_Estrato 5  \\\n",
       "0                               0                               0   \n",
       "1                               0                               0   \n",
       "2                               0                               0   \n",
       "\n",
       "   MODE_ESTRATOVIVIENDA_Estrato 6  MODE_ESTRATOVIVIENDA_Sin Estrato  \\\n",
       "0                               0                                 0   \n",
       "1                               0                                 0   \n",
       "2                               0                                 0   \n",
       "\n",
       "   CARACTER_IE_ACADEMICO  CARACTER_IE_NO APLICA  CARACTER_IE_None  \\\n",
       "0                      1                      0                 0   \n",
       "1                      0                      0                 0   \n",
       "2                      1                      0                 0   \n",
       "\n",
       "   CARACTER_IE_TECNICO  CARACTER_IE_TECNICO/ACADEMICO  Cluster  \\\n",
       "0                    0                              0        0   \n",
       "1                    0                              1        3   \n",
       "2                    0                              0        5   \n",
       "\n",
       "  COLE_GENEROPOBLACION MODE_ESTRATOVIVIENDA        CARACTER_IE  \n",
       "0                   MI            Estrato 1          ACADEMICO  \n",
       "1                   MI            Estrato 2  TECNICO/ACADEMICO  \n",
       "2                   MI            Estrato 2          ACADEMICO  "
      ]
     },
     "execution_count": 137,
     "metadata": {},
     "output_type": "execute_result"
    }
   ],
   "source": [
    "df_eval = df_kmodes.copy()\n",
    "df_eval['COLE_GENEROPOBLACION'] = df.loc[:,'COLE_GENEROPOBLACION']\n",
    "df_eval['MODE_ESTRATOVIVIENDA'] = df.loc[:,'MODE_ESTRATOVIVIENDA']\n",
    "df_eval['CARACTER_IE'] = df.loc[:,'CARACTER_IE']\n",
    "df_eval.head(3)"
   ]
  },
  {
   "cell_type": "markdown",
   "metadata": {},
   "source": [
    "<a name=\"e5_genero2\"></a>\n",
    "### 6.3.3.1 [&#9700;](#e5_kmeval2) COLE_GENEROPOBLACION\n",
    "<hr style=\"border:1px solid blue\"> </hr>"
   ]
  },
  {
   "cell_type": "code",
   "execution_count": 138,
   "metadata": {},
   "outputs": [
    {
     "data": {
      "text/html": [
       "<div>\n",
       "<style scoped>\n",
       "    .dataframe tbody tr th:only-of-type {\n",
       "        vertical-align: middle;\n",
       "    }\n",
       "\n",
       "    .dataframe tbody tr th {\n",
       "        vertical-align: top;\n",
       "    }\n",
       "\n",
       "    .dataframe thead th {\n",
       "        text-align: right;\n",
       "    }\n",
       "</style>\n",
       "<table border=\"1\" class=\"dataframe\">\n",
       "  <thead>\n",
       "    <tr style=\"text-align: right;\">\n",
       "      <th>Cluster</th>\n",
       "      <th>0</th>\n",
       "      <th>1</th>\n",
       "      <th>2</th>\n",
       "      <th>3</th>\n",
       "      <th>4</th>\n",
       "      <th>5</th>\n",
       "    </tr>\n",
       "    <tr>\n",
       "      <th>COLE_GENEROPOBLACION</th>\n",
       "      <th></th>\n",
       "      <th></th>\n",
       "      <th></th>\n",
       "      <th></th>\n",
       "      <th></th>\n",
       "      <th></th>\n",
       "    </tr>\n",
       "  </thead>\n",
       "  <tbody>\n",
       "    <tr>\n",
       "      <th>F</th>\n",
       "      <td>7</td>\n",
       "      <td>4</td>\n",
       "      <td>16</td>\n",
       "      <td>3</td>\n",
       "      <td>0</td>\n",
       "      <td>2</td>\n",
       "    </tr>\n",
       "    <tr>\n",
       "      <th>M</th>\n",
       "      <td>2</td>\n",
       "      <td>0</td>\n",
       "      <td>1</td>\n",
       "      <td>0</td>\n",
       "      <td>0</td>\n",
       "      <td>1</td>\n",
       "    </tr>\n",
       "    <tr>\n",
       "      <th>MI</th>\n",
       "      <td>304</td>\n",
       "      <td>76</td>\n",
       "      <td>112</td>\n",
       "      <td>188</td>\n",
       "      <td>24</td>\n",
       "      <td>228</td>\n",
       "    </tr>\n",
       "  </tbody>\n",
       "</table>\n",
       "</div>"
      ],
      "text/plain": [
       "Cluster                 0   1    2    3   4    5\n",
       "COLE_GENEROPOBLACION                            \n",
       "F                       7   4   16    3   0    2\n",
       "M                       2   0    1    0   0    1\n",
       "MI                    304  76  112  188  24  228"
      ]
     },
     "execution_count": 138,
     "metadata": {},
     "output_type": "execute_result"
    }
   ],
   "source": [
    "tbl_pvt,tbl_frm = tabla_cluster(df_eval,'COLE_GENEROPOBLACION')\n",
    "tbl_pvt"
   ]
  },
  {
   "cell_type": "code",
   "execution_count": 139,
   "metadata": {},
   "outputs": [
    {
     "data": {
      "image/png": "[encoded data removed]",
      "text/plain": [
       "<Figure size 640x480 with 1 Axes>"
      ]
     },
     "metadata": {},
     "output_type": "display_data"
    }
   ],
   "source": [
    "cluster_scatter_plot(tbl_frm,'COLE_GENEROPOBLACION')"
   ]
  },
  {
   "cell_type": "markdown",
   "metadata": {},
   "source": [
    "<a name=\"e5_estrato2\"></a>\n",
    "### 6.3.3.2 [&#9700;](#e5_kmeval2) MODE_ESTRATOVIVIENDA\n",
    "<hr style=\"border:1px solid blue\"> </hr>"
   ]
  },
  {
   "cell_type": "code",
   "execution_count": 140,
   "metadata": {},
   "outputs": [
    {
     "data": {
      "text/html": [
       "<div>\n",
       "<style scoped>\n",
       "    .dataframe tbody tr th:only-of-type {\n",
       "        vertical-align: middle;\n",
       "    }\n",
       "\n",
       "    .dataframe tbody tr th {\n",
       "        vertical-align: top;\n",
       "    }\n",
       "\n",
       "    .dataframe thead th {\n",
       "        text-align: right;\n",
       "    }\n",
       "</style>\n",
       "<table border=\"1\" class=\"dataframe\">\n",
       "  <thead>\n",
       "    <tr style=\"text-align: right;\">\n",
       "      <th>Cluster</th>\n",
       "      <th>0</th>\n",
       "      <th>1</th>\n",
       "      <th>2</th>\n",
       "      <th>3</th>\n",
       "      <th>4</th>\n",
       "      <th>5</th>\n",
       "    </tr>\n",
       "    <tr>\n",
       "      <th>MODE_ESTRATOVIVIENDA</th>\n",
       "      <th></th>\n",
       "      <th></th>\n",
       "      <th></th>\n",
       "      <th></th>\n",
       "      <th></th>\n",
       "      <th></th>\n",
       "    </tr>\n",
       "  </thead>\n",
       "  <tbody>\n",
       "    <tr>\n",
       "      <th>Estrato 1</th>\n",
       "      <td>272</td>\n",
       "      <td>0</td>\n",
       "      <td>0</td>\n",
       "      <td>0</td>\n",
       "      <td>24</td>\n",
       "      <td>0</td>\n",
       "    </tr>\n",
       "    <tr>\n",
       "      <th>Estrato 2</th>\n",
       "      <td>0</td>\n",
       "      <td>0</td>\n",
       "      <td>0</td>\n",
       "      <td>191</td>\n",
       "      <td>0</td>\n",
       "      <td>231</td>\n",
       "    </tr>\n",
       "    <tr>\n",
       "      <th>Estrato 3</th>\n",
       "      <td>0</td>\n",
       "      <td>78</td>\n",
       "      <td>129</td>\n",
       "      <td>0</td>\n",
       "      <td>0</td>\n",
       "      <td>0</td>\n",
       "    </tr>\n",
       "    <tr>\n",
       "      <th>Estrato 4</th>\n",
       "      <td>21</td>\n",
       "      <td>1</td>\n",
       "      <td>0</td>\n",
       "      <td>0</td>\n",
       "      <td>0</td>\n",
       "      <td>0</td>\n",
       "    </tr>\n",
       "    <tr>\n",
       "      <th>Estrato 5</th>\n",
       "      <td>15</td>\n",
       "      <td>0</td>\n",
       "      <td>0</td>\n",
       "      <td>0</td>\n",
       "      <td>0</td>\n",
       "      <td>0</td>\n",
       "    </tr>\n",
       "    <tr>\n",
       "      <th>Estrato 6</th>\n",
       "      <td>3</td>\n",
       "      <td>0</td>\n",
       "      <td>0</td>\n",
       "      <td>0</td>\n",
       "      <td>0</td>\n",
       "      <td>0</td>\n",
       "    </tr>\n",
       "    <tr>\n",
       "      <th>Sin Estrato</th>\n",
       "      <td>2</td>\n",
       "      <td>1</td>\n",
       "      <td>0</td>\n",
       "      <td>0</td>\n",
       "      <td>0</td>\n",
       "      <td>0</td>\n",
       "    </tr>\n",
       "  </tbody>\n",
       "</table>\n",
       "</div>"
      ],
      "text/plain": [
       "Cluster                 0   1    2    3   4    5\n",
       "MODE_ESTRATOVIVIENDA                            \n",
       "Estrato 1             272   0    0    0  24    0\n",
       "Estrato 2               0   0    0  191   0  231\n",
       "Estrato 3               0  78  129    0   0    0\n",
       "Estrato 4              21   1    0    0   0    0\n",
       "Estrato 5              15   0    0    0   0    0\n",
       "Estrato 6               3   0    0    0   0    0\n",
       "Sin Estrato             2   1    0    0   0    0"
      ]
     },
     "execution_count": 140,
     "metadata": {},
     "output_type": "execute_result"
    }
   ],
   "source": [
    "tbl_pvt,tbl_frm = tabla_cluster(df_eval,'MODE_ESTRATOVIVIENDA')\n",
    "tbl_pvt"
   ]
  },
  {
   "cell_type": "code",
   "execution_count": 141,
   "metadata": {},
   "outputs": [
    {
     "data": {
      "image/png": "[encoded data removed]",
      "text/plain": [
       "<Figure size 640x480 with 1 Axes>"
      ]
     },
     "metadata": {},
     "output_type": "display_data"
    }
   ],
   "source": [
    "cluster_scatter_plot(tbl_frm,'MODE_ESTRATOVIVIENDA')"
   ]
  },
  {
   "cell_type": "markdown",
   "metadata": {},
   "source": [
    "<a name=\"e5_caracter2\"></a>\n",
    "### 6.3.3.3 [&#9700;](#e5_kmeval2) CARACTER_IE\n",
    "<hr style=\"border:1px solid blue\"> </hr>"
   ]
  },
  {
   "cell_type": "code",
   "execution_count": 142,
   "metadata": {},
   "outputs": [
    {
     "data": {
      "text/html": [
       "<div>\n",
       "<style scoped>\n",
       "    .dataframe tbody tr th:only-of-type {\n",
       "        vertical-align: middle;\n",
       "    }\n",
       "\n",
       "    .dataframe tbody tr th {\n",
       "        vertical-align: top;\n",
       "    }\n",
       "\n",
       "    .dataframe thead th {\n",
       "        text-align: right;\n",
       "    }\n",
       "</style>\n",
       "<table border=\"1\" class=\"dataframe\">\n",
       "  <thead>\n",
       "    <tr style=\"text-align: right;\">\n",
       "      <th>Cluster</th>\n",
       "      <th>0</th>\n",
       "      <th>1</th>\n",
       "      <th>2</th>\n",
       "      <th>3</th>\n",
       "      <th>4</th>\n",
       "      <th>5</th>\n",
       "    </tr>\n",
       "    <tr>\n",
       "      <th>CARACTER_IE</th>\n",
       "      <th></th>\n",
       "      <th></th>\n",
       "      <th></th>\n",
       "      <th></th>\n",
       "      <th></th>\n",
       "      <th></th>\n",
       "    </tr>\n",
       "  </thead>\n",
       "  <tbody>\n",
       "    <tr>\n",
       "      <th>ACADEMICO</th>\n",
       "      <td>226</td>\n",
       "      <td>0</td>\n",
       "      <td>129</td>\n",
       "      <td>0</td>\n",
       "      <td>0</td>\n",
       "      <td>231</td>\n",
       "    </tr>\n",
       "    <tr>\n",
       "      <th>NO APLICA</th>\n",
       "      <td>0</td>\n",
       "      <td>2</td>\n",
       "      <td>0</td>\n",
       "      <td>6</td>\n",
       "      <td>24</td>\n",
       "      <td>0</td>\n",
       "    </tr>\n",
       "    <tr>\n",
       "      <th>None</th>\n",
       "      <td>6</td>\n",
       "      <td>3</td>\n",
       "      <td>0</td>\n",
       "      <td>5</td>\n",
       "      <td>0</td>\n",
       "      <td>0</td>\n",
       "    </tr>\n",
       "    <tr>\n",
       "      <th>TECNICO</th>\n",
       "      <td>7</td>\n",
       "      <td>15</td>\n",
       "      <td>0</td>\n",
       "      <td>14</td>\n",
       "      <td>0</td>\n",
       "      <td>0</td>\n",
       "    </tr>\n",
       "    <tr>\n",
       "      <th>TECNICO/ACADEMICO</th>\n",
       "      <td>74</td>\n",
       "      <td>60</td>\n",
       "      <td>0</td>\n",
       "      <td>166</td>\n",
       "      <td>0</td>\n",
       "      <td>0</td>\n",
       "    </tr>\n",
       "  </tbody>\n",
       "</table>\n",
       "</div>"
      ],
      "text/plain": [
       "Cluster              0   1    2    3   4    5\n",
       "CARACTER_IE                                  \n",
       "ACADEMICO          226   0  129    0   0  231\n",
       "NO APLICA            0   2    0    6  24    0\n",
       "None                 6   3    0    5   0    0\n",
       "TECNICO              7  15    0   14   0    0\n",
       "TECNICO/ACADEMICO   74  60    0  166   0    0"
      ]
     },
     "execution_count": 142,
     "metadata": {},
     "output_type": "execute_result"
    }
   ],
   "source": [
    "tbl_pvt,tbl_frm = tabla_cluster(df_eval,'CARACTER_IE')\n",
    "tbl_pvt"
   ]
  },
  {
   "cell_type": "code",
   "execution_count": 143,
   "metadata": {},
   "outputs": [
    {
     "data": {
      "image/png": "[encoded data removed]",
      "text/plain": [
       "<Figure size 640x480 with 1 Axes>"
      ]
     },
     "metadata": {},
     "output_type": "display_data"
    }
   ],
   "source": [
    "cluster_scatter_plot(tbl_frm,'CARACTER_IE')"
   ]
  },
  {
   "cell_type": "markdown",
   "metadata": {},
   "source": [
    "<a name=\"e5_prueba2\"></a>\n",
    "## 6.3.4 [&#9680;](#e5_kmodes) Prueba Clasificacion\n",
    "\n",
    "<hr style=\"border:1px solid black\"> </hr>"
   ]
  },
  {
   "cell_type": "code",
   "execution_count": 144,
   "metadata": {},
   "outputs": [
    {
     "name": "stdout",
     "output_type": "stream",
     "text": [
      "[[0 0 1 1 0 0 0 0 0 0 1 0 0 0 0]]\n"
     ]
    }
   ],
   "source": [
    "#se extrae un registro para prueba\n",
    "prueba = np.array(df_kmodes.drop(['COD_COL','Cluster'], axis = 1).iloc[0,:]).reshape(1, -1)\n",
    "print(prueba)"
   ]
  },
  {
   "cell_type": "code",
   "execution_count": 145,
   "metadata": {},
   "outputs": [
    {
     "data": {
      "text/plain": [
       "0"
      ]
     },
     "execution_count": 145,
     "metadata": {},
     "output_type": "execute_result"
    }
   ],
   "source": [
    "#se predice el cluster al que pertenece\n",
    "algorithm.predict(prueba)[0]"
   ]
  },
  {
   "cell_type": "markdown",
   "metadata": {},
   "source": [
    "<a name=\"e5_centroides2\"></a>\n",
    "## 6.3.5 [&#9680;](#e5_kmodes) Centroides\n",
    "\n",
    "<hr style=\"border:1px solid black\"> </hr>"
   ]
  },
  {
   "cell_type": "code",
   "execution_count": 146,
   "metadata": {},
   "outputs": [
    {
     "name": "stdout",
     "output_type": "stream",
     "text": [
      "Centroide Cluster  0 \n",
      " [0 0 1 1 0 0 0 0 0 0 1 0 0 0 0] \n",
      "\n",
      "Centroide Cluster  1 \n",
      " [0 0 1 0 0 1 0 0 0 0 0 0 0 0 1] \n",
      "\n",
      "Centroide Cluster  2 \n",
      " [0 0 1 0 0 1 0 0 0 0 1 0 0 0 0] \n",
      "\n",
      "Centroide Cluster  3 \n",
      " [0 0 1 0 1 0 0 0 0 0 0 0 0 0 1] \n",
      "\n",
      "Centroide Cluster  4 \n",
      " [0 0 1 1 0 0 0 0 0 0 0 1 0 0 0] \n",
      "\n",
      "Centroide Cluster  5 \n",
      " [0 0 1 0 1 0 0 0 0 0 1 0 0 0 0] \n",
      "\n"
     ]
    }
   ],
   "source": [
    "centroides = algorithm.cluster_centroids_\n",
    "for i in range(len(centroides)):\n",
    "    print('Centroide Cluster ',i,'\\n',centroides[i],'\\n')"
   ]
  },
  {
   "cell_type": "code",
   "execution_count": 147,
   "metadata": {},
   "outputs": [],
   "source": [
    "df_centroides = pd.DataFrame(centroides)\n",
    "df_centroides.head(3)\n",
    "df_centroides.to_csv('..\\Archivos\\centroides2.csv' , sep= '|')"
   ]
  },
  {
   "cell_type": "code",
   "execution_count": 148,
   "metadata": {},
   "outputs": [
    {
     "name": "stdout",
     "output_type": "stream",
     "text": [
      "[[0 0 1 1 0 0 0 0 0 0 1 0 0 0 0]]\n"
     ]
    }
   ],
   "source": [
    "#se extrae un registro para prueba\n",
    "prueba = np.array(df_kmodes.drop(['COD_COL','Cluster'], axis = 1).iloc[0,:]).reshape(1, -1)\n",
    "print(prueba)"
   ]
  },
  {
   "cell_type": "markdown",
   "metadata": {},
   "source": [
    "#### Distancia Jaccard\n",
    "\n",
    "<a><img src=\"https://raw.githubusercontent.com/Camilorb07/Integrador_S1_2021/main/Imagenes/jaccard.PNG\" width=\"250\" align=\"center\"></a>"
   ]
  },
  {
   "cell_type": "code",
   "execution_count": 149,
   "metadata": {},
   "outputs": [
    {
     "data": {
      "text/plain": [
       "[0.0, 0.8, 0.5, 0.8, 0.5, 0.5]"
      ]
     },
     "execution_count": 149,
     "metadata": {},
     "output_type": "execute_result"
    }
   ],
   "source": [
    "distancias = []\n",
    "for i in centroides:\n",
    "    distancias.append(distance.jaccard(prueba, i))\n",
    "    #distancias.append(np.sqrt(np.sum(np.square(prueba-i))))\n",
    "distancias"
   ]
  },
  {
   "cell_type": "code",
   "execution_count": 150,
   "metadata": {},
   "outputs": [
    {
     "name": "stdout",
     "output_type": "stream",
     "text": [
      "cluster =  0\n"
     ]
    }
   ],
   "source": [
    "min_value = min(distancias)\n",
    "min_index = distancias.index(min_value)\n",
    "print('cluster = ',min_index)"
   ]
  },
  {
   "cell_type": "markdown",
   "metadata": {},
   "source": [
    "<a name=\"e6\"></a><hr style=\"border:1px solid green\"> </hr>\n",
    "# 7. [&#9673;](#conte) Etapa 6: Implementación de la interfaz de usuario (FrontEnd)\n",
    "\n",
    "1. [Barra de Navegacion](#e6_barra)\n",
    "2. [Presentación](#e6_presentacion)\n",
    "3. [Equipo de Trabajo](#e6_equipo)\n",
    "4. [Análisis Exploratorio](#e6_analisis)\n",
    "5. [Sistema de Recomendación](#e6_sistema)\n",
    "    1. [Recomendadas por Cercanía](#e6_cercania)\n",
    "    2. [Recomendadas por Caracteristicas](#e6_caracteristicas)\n",
    "    3. [Mapa](#e6_mapa)\n",
    "    4. [Ranking de planteles](#e6_ranking)\n",
    "    5. [Calificación de los planteles en cada linea de profundización](#e6_linea)\n",
    "\n",
    "<hr style=\"border:1px solid green\"> </hr>\n",
    "\n",
    "Finalmente entramos en la etapa que busca poner al alcance de un usuario los desarrollos hasta ahora implementados, para esto se ha puesto a disposición un portal web que permite al usuario buscar instituciones educativas partiendo de una posición y unas características (parámetros) deseadas. Este sistema de recomendación se basa en el modelo de clusterisacion no supervisada implementado previamente en este notebook."
   ]
  },
  {
   "cell_type": "markdown",
   "metadata": {},
   "source": [
    "<a><img src=\"https://raw.githubusercontent.com/Camilorb07/Integrador_S1_2021/main/Imagenes/portal_web.PNG\" width=\"1000\" align=\"center\"></a>"
   ]
  },
  {
   "cell_type": "markdown",
   "metadata": {},
   "source": [
    "<a name=\"e6_barra\"></a><hr style=\"border:1px solid black\"> </hr>\n",
    "\n",
    "## 7.1. [&#9678;](#e6) Barra de Navegacion\n",
    "\n",
    "<hr style=\"border:1px solid black\"> </hr>\n",
    "\n",
    "a travez de la barra de navegacion podra acceder a las diferentes paginas del portal web."
   ]
  },
  {
   "cell_type": "markdown",
   "metadata": {},
   "source": [
    "<a><img src=\"https://raw.githubusercontent.com/Camilorb07/Integrador_S1_2021/main/Imagenes/barra.PNG\" width=\"1000\" align=\"center\"></a>"
   ]
  },
  {
   "cell_type": "markdown",
   "metadata": {},
   "source": [
    "<a name=\"e6_presentacion\"></a><hr style=\"border:1px solid black\"> </hr>\n",
    "\n",
    "## 7.2. [&#9678;](#e6) Presentación\n",
    "\n",
    "<hr style=\"border:1px solid black\"> </hr>\n",
    "\n",
    "en esta pagina podra encontrar todas las generalidades del proyecto"
   ]
  },
  {
   "cell_type": "markdown",
   "metadata": {},
   "source": [
    "<a><img src=\"https://raw.githubusercontent.com/Camilorb07/Integrador_S1_2021/main/Imagenes/presentacion.PNG\" width=\"1000\" align=\"center\"></a>"
   ]
  },
  {
   "cell_type": "markdown",
   "metadata": {},
   "source": [
    "<a name=\"e6_equipo\"></a><hr style=\"border:1px solid black\"> </hr>\n",
    "\n",
    "## 7.3. [&#9678;](#e6) Equipo de Trabajo\n",
    "\n",
    "<hr style=\"border:1px solid black\"> </hr>\n",
    "\n",
    "aca podra encontrar el equipo de desarrollo del proyecto integrador"
   ]
  },
  {
   "cell_type": "markdown",
   "metadata": {},
   "source": [
    "<a><img src=\"https://raw.githubusercontent.com/Camilorb07/Integrador_S1_2021/main/Imagenes/equipo.PNG\" width=\"1000\" align=\"center\"></a>"
   ]
  },
  {
   "cell_type": "markdown",
   "metadata": {},
   "source": [
    "<a name=\"e6_analisis\"></a><hr style=\"border:1px solid black\"> </hr>\n",
    "\n",
    "## 7.4. [&#9678;](#e6) Análisis Exploratorio \n",
    "\n",
    "<hr style=\"border:1px solid black\"> </hr>\n",
    "\n",
    "en esta página podra encontrar el presente documento en el cual se explica paso a paso la totalidad del desarrollo del proyecto."
   ]
  },
  {
   "cell_type": "markdown",
   "metadata": {},
   "source": [
    "<a><img src=\"https://raw.githubusercontent.com/Camilorb07/Integrador_S1_2021/main/Imagenes/Analisis.PNG\" width=\"1000\" align=\"center\"></a>"
   ]
  },
  {
   "cell_type": "markdown",
   "metadata": {},
   "source": [
    "<a name=\"e6_sistema\"></a><hr style=\"border:1px solid black\"> </hr>\n",
    "\n",
    "## 7.5. [&#9678;](#e6) Sistema de Recomendación\n",
    "\n",
    "1. [Recomendadas por Cercanía](#e6_cercania)\n",
    "2. [Recomendadas por Caracteristicas](#e6_caracteristicas)\n",
    "3. [Mapa](#e6_mapa)\n",
    "4. [Ranking de planteles](#e6_ranking)\n",
    "5. [Calificación de los planteles en cada linea de profundización](#e6_linea)\n",
    "\n",
    "<hr style=\"border:1px solid black\"> </hr>\n",
    "\n",
    "en esta pagina se podra hacer uso del sistema de recomendacion desarrollado."
   ]
  },
  {
   "cell_type": "markdown",
   "metadata": {},
   "source": [
    "<a><img src=\"https://raw.githubusercontent.com/Camilorb07/Integrador_S1_2021/main/Imagenes/recomendador.PNG\" width=\"1000\" align=\"center\"></a>"
   ]
  },
  {
   "cell_type": "markdown",
   "metadata": {},
   "source": [
    "<a name=\"e6_cercania\"></a>\n",
    "## 7.5.1 [&#9680;](#e6_sistema) Recomendadas por Cercanía\n",
    "\n",
    "<hr style=\"border:1px solid black\"> </hr>"
   ]
  },
  {
   "cell_type": "markdown",
   "metadata": {},
   "source": [
    "por este metodo se filtraran los colegior cercanos a una posicion con un rango dado por el usuario"
   ]
  },
  {
   "cell_type": "markdown",
   "metadata": {},
   "source": [
    "<a><img src=\"https://raw.githubusercontent.com/Camilorb07/Integrador_S1_2021/main/Imagenes/cercania.PNG\" width=\"800\" align=\"center\"></a>"
   ]
  },
  {
   "cell_type": "markdown",
   "metadata": {},
   "source": [
    "<a name=\"e6_caracteristicas\"></a>\n",
    "## 7.5.2 [&#9680;](#e6_sistema) Recomendadas por Caracteristicas\n",
    "\n",
    "<hr style=\"border:1px solid black\"> </hr>"
   ]
  },
  {
   "cell_type": "markdown",
   "metadata": {},
   "source": [
    "por este metodo se filtraran los colegior cercanos a una posicion con un rango dado por el usuario, teniendo en cuenta las caracteristicas del usuario y a que cluster obtenido por el metodo de clasificacion no supervizada ajusta mas el perfil."
   ]
  },
  {
   "cell_type": "markdown",
   "metadata": {},
   "source": [
    "<a><img src=\"https://raw.githubusercontent.com/Camilorb07/Integrador_S1_2021/main/Imagenes/caracteristicas.PNG\" width=\"800\" align=\"center\"></a>"
   ]
  },
  {
   "cell_type": "markdown",
   "metadata": {},
   "source": [
    "<a name=\"e6_mapa\"></a>\n",
    "## 7.5.3 [&#9680;](#e6_sistema) Mapa\n",
    "\n",
    "<hr style=\"border:1px solid black\"> </hr>"
   ]
  },
  {
   "cell_type": "markdown",
   "metadata": {},
   "source": [
    "una vez el usuario realiza una busqueda en el mapa podra visualizar su casa y las instituciones educativas que cumplen con las caracteristicas de su busqueda en el rrango especificado."
   ]
  },
  {
   "cell_type": "markdown",
   "metadata": {},
   "source": [
    "<a><img src=\"https://raw.githubusercontent.com/Camilorb07/Integrador_S1_2021/main/Imagenes/mapa1.PNG\" width=\"1000\" align=\"center\"></a>"
   ]
  },
  {
   "cell_type": "markdown",
   "metadata": {},
   "source": [
    "si hacemos clic sobre cualquier institucion educativa nos mostrara la informacion de la misma"
   ]
  },
  {
   "cell_type": "markdown",
   "metadata": {},
   "source": [
    "<a><img src=\"https://raw.githubusercontent.com/Camilorb07/Integrador_S1_2021/main/Imagenes/mapa2.PNG\" width=\"1000\" align=\"center\"></a>"
   ]
  },
  {
   "cell_type": "markdown",
   "metadata": {},
   "source": [
    "<a name=\"e6_ranking\"></a>\n",
    "## 7.5.4 [&#9680;](#e6_sistema) Ranking de planteles\n",
    "\n",
    "<hr style=\"border:1px solid black\"> </hr>"
   ]
  },
  {
   "cell_type": "markdown",
   "metadata": {},
   "source": [
    "debajo del mapa se encontraran listadas las 5 instituciones educativas de mayor ranking dentro de los reasultados mostrados en el mapa"
   ]
  },
  {
   "cell_type": "markdown",
   "metadata": {},
   "source": [
    "<a><img src=\"https://raw.githubusercontent.com/Camilorb07/Integrador_S1_2021/main/Imagenes/ranking.PNG\" width=\"1000\" align=\"center\"></a>"
   ]
  },
  {
   "cell_type": "markdown",
   "metadata": {},
   "source": [
    "<a name=\"e6_linea\"></a>\n",
    "## 7.5.5 [&#9680;](#e6_sistema) Calificación de los planteles en cada linea de profundización\n",
    "\n",
    "<hr style=\"border:1px solid black\"> </hr>"
   ]
  },
  {
   "cell_type": "markdown",
   "metadata": {},
   "source": [
    "finalmente encontrara una grafica en la que se comparan el top 5 de instituciones en cada una de las lineas de profundizacion evaluadas en el ICFES"
   ]
  },
  {
   "cell_type": "markdown",
   "metadata": {},
   "source": [
    "<a><img src=\"https://raw.githubusercontent.com/Camilorb07/Integrador_S1_2021/main/Imagenes/por_linea.PNG\" width=\"1000\" align=\"center\"></a>"
   ]
  },
  {
   "cell_type": "markdown",
   "metadata": {},
   "source": [
    "<a name=\"repo\"></a><hr style=\"border:1px solid green\"> </hr>\n",
    "# 8. [&#9673;](#conte) Repositorio\n",
    "<hr style=\"border:1px solid green\"> </hr>"
   ]
  },
  {
   "cell_type": "markdown",
   "metadata": {},
   "source": [
    "todo lo desarrollado en este trabajo se encuentra almacenado en un repositorio publico que podra encontrar en el siguiente enlace:\n",
    "\n",
    "# [Repositorio](https://github.com/Camilorb07/Integrador_S1_2021)\n",
    "\n",
    "https://github.com/Camilorb07/Integrador_S1_2021"
   ]
  },
  {
   "cell_type": "markdown",
   "metadata": {},
   "source": [
    "<a><img src=\"https://raw.githubusercontent.com/Camilorb07/Integrador_S1_2021/main/Imagenes/Repo.PNG\" width=\"1000\" align=\"center\"></a>"
   ]
  },
  {
   "cell_type": "markdown",
   "metadata": {},
   "source": [
    "<hr style=\"border:2px solid #004B85\"> </hr>"
   ]
  }
 ],
 "metadata": {
  "kernelspec": {
   "display_name": "Python 3",
   "language": "python",
   "name": "python3"
  },
  "language_info": {
   "codemirror_mode": {
    "name": "ipython",
    "version": 3
   },
   "file_extension": ".py",
   "mimetype": "text/x-python",
   "name": "python",
   "nbconvert_exporter": "python",
   "pygments_lexer": "ipython3",
   "version": "3.8.5"
  }
 },
 "nbformat": 4,
 "nbformat_minor": 4
}
