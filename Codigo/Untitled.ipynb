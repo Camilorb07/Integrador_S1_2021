{
 "cells": [
  {
   "cell_type": "markdown",
   "metadata": {},
   "source": [
    "<a><img src=\"https://www.eafit.edu.co/SiteCollectionImages/logo.png\" width=\"350\" align=\"center\"></a>"
   ]
  },
  {
   "cell_type": "markdown",
   "metadata": {},
   "source": [
    "# Proyecto Integrador Primer Semestre\n",
    "\n",
    "<hr style=\"border:2px solid #004B85\"> </hr>\n",
    "\n",
    "\n",
    "## Representación gráfica georreferenciada de la clasificación de la calidad de planteles educativos con análisis de correlación con planteles vecinos categorizada por variables sociales, económicas y demográficas\n",
    "\n",
    "<a><img src=\"http://pidatalake.s3-website-us-east-1.amazonaws.com/img/logoproy.png\" width=\"150\" align=\"center\"></a>\n",
    "\n",
    "<hr style=\"border:2px solid #004B85\"> </hr>\n",
    "\n",
    "# Maestría en ciencia de los datos y analítica\n",
    "## 16/06/2021\n",
    "## Equipo de desarrollo\n",
    "\n",
    "- #### Camilo Rivera Bedoya\n",
    "- #### Juan David Corea\n",
    "- #### Jose Ignacio Escobar\n",
    "- #### Eliana Marcela Sierra\n",
    "- #### Daniel Romero Cardona\n",
    "\n",
    "<hr style=\"border:2px solid #004B85\"> </hr>\n",
    "\n",
    "# ¡¡¡Advertencia!!!\n",
    "\n",
    "- este notebook fue desarrollado en Jupyter notebooks, el abrirlo con otros aplicativos como google colab u otros puede afectar el funconamiento del codigo o los markdowns."
   ]
  },
  {
   "cell_type": "markdown",
   "metadata": {},
   "source": [
    "<hr style=\"border:2px solid #004B85\"> </hr>\n",
    "<a name=\"conte\"></a>\n",
    "    \n",
    "# Tabla de contenido\n",
    "1. [Introduccion](#intro)\n",
    "2. [Etapa 1: Recolección de la información](#e1)\n",
    "3. [Etapa 2: Implementación del DataLake](#e2)\n",
    "2. [Librerias y Funciones](#lib)\n",
    "3. [Lectura Base de Datos](#lect_base)\n",
    "    1. [Sedes](#sedes)\n",
    "    2. [Clasificacion Planteles](#clasificacion)\n",
    "4. [Exploracion Bases de Datos](#explo)\n",
    "    1. [Sedes](#explo_sedes)\n",
    "    2. [Clasificacion Planteles](#explo_clasificacion)\n",
    "5. [Promedios Ponderados Clasificacion Colegios](#ponde)\n",
    "6. [Unificar Base de Datos](#unificar)\n",
    "\n",
    "<hr style=\"border:2px solid #004B85\"> </hr>"
   ]
  },
  {
   "cell_type": "markdown",
   "metadata": {},
   "source": [
    "<a name=\"intro\"></a><hr style=\"border:1px solid green\"> </hr>\n",
    "#  [&#9673;](#conte) Introduccion\n",
    "<hr style=\"border:1px solid green\"> </hr>"
   ]
  },
  {
   "cell_type": "markdown",
   "metadata": {},
   "source": [
    "El presente proyecto busca determinar cuál plantel educativo posee mayor calidad partiendo de condiciones de entrada definidas y ubicado en una zona particular y su correlación con planteles cercanos bajo las mismas condiciones, además, de obtener una recomendación de los planteles en un rango de distancia definido que cumplan condiciones de clusterización partiendo de las variables seleccionadas.\n",
    "\n",
    "## Problema a resolver\n",
    "- ¿Cuál institución educativa presenta mejor calidad partiendo de una ubicación especifica del municipio teniendo en cuenta características sociales, económicas y demográficas?\n",
    "- ¿Cuál institución educativa presenta mejor calidad en el mismo municipio tomando características sociales y económicas?\n",
    "\n",
    "## Solución propuesta\n",
    "<a><img src=\"http://pidatalake.s3-website-us-east-1.amazonaws.com/img/hero-img.png\" width=\"250\" align=\"center\"></a>\n",
    "\n",
    "El analisis se basará en variables que representan criterios reales, como la distancia espacial de un lugar específico respecto a las instituciones, su el rendimiento académico, el estrato socioeconómico entre otras variables propias de cada institución\n",
    "\n",
    "La solución al problema se realizará de forma gráfica, y busca determinar un cerco de instituciones alrededor de la ubicación ingresada, que para casos prácticos puede ser la vivienda de estudiante donde se pueda filtrar por aquellas instituciones cercanas a las cuales pueda acceder.\n",
    "\n",
    "Para dar solución a este propósito, nos apoyaremos en modelos de segmentación para poder encontrar clúster de instituciones educativas de acuerdo con características propias, el cálculo de distancias desde la georreferenciación, la creación de métricas ponderadas de criterios a la hora de determinar los cercos, análisis descriptivo-exploratorio para determinar correlaciones o relevancia de variables dentro del análisis.\n",
    "\n",
    "## Metodología para la implementación\n",
    "El proyecto se realizará en 6 etapas, mediante un sistema de recomendación desarrollado en Python con la base de datos de los resultados de las pruebas saber 11.\n",
    "\n",
    "**Etapa 1: Recolección de la información**\n",
    "\n",
    "Para esta etapa se debe descargar las diferentes bases de datos que serán utilizadas en el análisis. La caracterización de las instituciones, su georreferenciación y variaciones descriptivas adicionales. Al ser datos abiertos y disponibles al pública se hará de forma manual y se cargaran al repositorio de almacenamiento seleccionado.\n",
    "\n",
    "**Etapa 2: Implementación del DataLake**\n",
    "\n",
    "Dado el volumen de información y la necesidad de pre-procesar la información, se decide utilizar el Datalake de AWS (S3). Posterior a la ingesta, se procede a hacer un proceso de ETL vía GLUE que nos permita tener la información alojada en tablas en base datos para facilitar el proceso de consolidación de información.\n",
    "\n",
    "**Etapa 3: Estructuración y preparación de los datos**\n",
    "\n",
    "En dicha etapa se espera hacer un proceso de limpieza, consolidación y validación de la base de datos a utilizar con el fin de tener un único dataset unificado a nivel de institución educativo con todas las variables disponibles para posterior revisión de significancia y pertinencia. Para tal fin, el componente de Athena de AWS se vuelve el más indicado.\n",
    "\n",
    "**Etapa 4: Análisis exploratorio de los datos**\n",
    "\n",
    "En la etapa de exploración se busca hacer un análisis estadístico descriptivo de todas las variables disponibles de instituciones disponibles, desde un enfoque univariado (completitud, tendencia central, significancia, distribución) y multivariado (Correlación total y parcial, variabilidad, explicabilidad) que permita determinar cuáles serán las variables indicadas para proceder a la etapa de modelación e industrialización. Adicionalmente, en esta etapa también se incluye la creación de métricas.\n",
    "\n",
    "**Etapa 5: Modelamiento del sistema de recomendación**\n",
    "\n",
    "En primera instancia se busca desarrollar un modelo de corte no supervisado para identificar clúster o grupos de instituciones educativas que tengan características similares, y de esta manera poder análisis estos grupos internamente. De allí, que a la hora de seleccionar la institución más adecuada se pueda acotar la búsqueda entregando el clúster con más cercanía a las características solicitadas. Para ello se busca testear modelos como:\n",
    "\n",
    "- K-Means\n",
    "- DBSCAN\n",
    "- Mean Shift\n",
    "- AGNES, entre otros\n",
    "\n",
    "Posterior al modelamiento se busca hacer una evaluación del modelo óptimo, de ahí que revisando en la literatura nos apoyaremos en validaciones internas y externas, donde en la primera se calculara la cohesión (Minimización de la distancia entre integrantes del clúster) y la separación (Maximización de distancia entre los grupos encontrados).\n",
    "\n",
    "Entendiendo el comportamiento o las particularidades de las instituciones, se propone una aproximación de sistema de recomendación donde se tenga en cuenta una la geolocalización de referencia, así como algunas variables socioeconómicas que permitan acotar las opciones, de manera que al tener el claro los clústeres que más se ajusten, se tengan también la distancia a las instituciones más cercanas que se encuentran dentro de dichos segmentos.\n",
    "\n",
    "**Etapa 6: Implementación de la interfaz de usuario (FrontEnd)**\n",
    "\n",
    "Basándonos en la API suministrada por las librerías de las aplicaciones Gis para el lenguaje Python se construirá una aplicación web que permitirá ingresar los parámetros de entrada definidos por el modelo y mostrará el mapa con las instituciones que cumplen con la condición de cercanía y clusterización. Además, listará ordenadamente estas instituciones partiendo de la calificación de calidad en resultados en las pruebas saber 11, su grafica de distribución de resultados desde el año 2010 de sus estudiantes."
   ]
  },
  {
   "cell_type": "markdown",
   "metadata": {},
   "source": [
    "<a name=\"e1\"></a><hr style=\"border:1px solid green\"> </hr>\n",
    "#  [&#9673;](#conte) Etapa 1: Recolección de la información\n",
    "<hr style=\"border:1px solid green\"> </hr>"
   ]
  },
  {
   "cell_type": "markdown",
   "metadata": {},
   "source": [
    "## Fuentes de datos\n",
    "Las fuentes de datos para el desarrollo del proyecto se obtuvieron de las páginas de ICFES y de Datos Abiertos Colombia del Ministerio de Tecnologías de la Información y las Comunicaciones, ambas fuentes de información pública disponibles para proposito general, con las siguientes caracteristicas\n",
    "\n",
    "El repositorio de datos, DataICFES, contiene información de las pruebas que desarrolla el ICFES. Además, pone a disposición de los investigadores, estudiantes, comunidad educativa y comunidad general, los instrumentos necesarios para adelantar investigaciones que estén orientadas al mejoramiento de la calidad educativa.\n",
    "El repositorio de DATOS ABIERTOS COLOMBIA tiene como objetivo promover y habilitar las condiciones para el uso de los datos y en la actualidad cuenta con mas de 5526 datos disponibles para investigar, desarrollar aplicaciones, crear visualizaciones e historias.\n",
    "\n",
    "- [ICFES](https://www.icfes.gov.co/)\n",
    "\n",
    "<a><img src=\"http://pidatalake.s3-website-us-east-1.amazonaws.com/img/icfes.png\" width=\"150\" align=\"Left\"></a>"
   ]
  },
  {
   "cell_type": "markdown",
   "metadata": {},
   "source": [
    "1. **BASE DE DATOS 1** ------------------------------------------------------------------------------------------------\n",
    "2. **BASE DE DATOS 2** ------------------------------------------------------------------------------------------------\n",
    "   \n",
    "   \n",
    "- [Datos Abiertos](https://www.datos.gov.co/)\n",
    "\n",
    "<a><img src=\"http://pidatalake.s3-website-us-east-1.amazonaws.com/img/dabiertos.png\" width=\"220\" align=\"Left\"></a>"
   ]
  },
  {
   "cell_type": "markdown",
   "metadata": {},
   "source": [
    "   - **BASE DE DATOS 3** ------------------------------------------------------------------------------------------------"
   ]
  },
  {
   "cell_type": "markdown",
   "metadata": {},
   "source": [
    "<a name=\"e2\"></a><hr style=\"border:1px solid green\"> </hr>\n",
    "#  [&#9673;](#conte) Etapa 2: Implementación del DataLake\n",
    "<hr style=\"border:1px solid green\"> </hr>"
   ]
  },
  {
   "cell_type": "markdown",
   "metadata": {},
   "source": [
    "se implementara un Data Lake con la siguiente estructura:\n",
    "\n",
    "- **Landing Zone:** en esta zona se cargan todos los archivos (BD) necesarios para la realizacion del proyecto\n",
    "\n",
    "\n",
    "- **Staging Zone:** -----------------------------\n",
    "\n",
    "\n",
    "- **Raw Zone:** ------------------------------\n",
    "\n",
    "Para Esto nos apoyamos en los recursos de AWS, con la herramienta **S3**.\n",
    "\n",
    "<a><img src=\"https://aprenderbigdata.com/wp-content/uploads/amazon-s3-logo-300x225.png\" width=\"220\" align=\"Left\"></a>"
   ]
  },
  {
   "cell_type": "markdown",
   "metadata": {},
   "source": [
    "## 1. Primero creamos un bucket en S3 con el nombre \"**pidatalake**\"\n",
    "\n"
   ]
  },
  {
   "cell_type": "code",
   "execution_count": null,
   "metadata": {},
   "outputs": [],
   "source": []
  },
  {
   "cell_type": "code",
   "execution_count": null,
   "metadata": {},
   "outputs": [],
   "source": []
  },
  {
   "cell_type": "code",
   "execution_count": null,
   "metadata": {},
   "outputs": [],
   "source": []
  }
 ],
 "metadata": {
  "kernelspec": {
   "display_name": "Python 3",
   "language": "python",
   "name": "python3"
  },
  "language_info": {
   "codemirror_mode": {
    "name": "ipython",
    "version": 3
   },
   "file_extension": ".py",
   "mimetype": "text/x-python",
   "name": "python",
   "nbconvert_exporter": "python",
   "pygments_lexer": "ipython3",
   "version": "3.8.5"
  }
 },
 "nbformat": 4,
 "nbformat_minor": 4
}
